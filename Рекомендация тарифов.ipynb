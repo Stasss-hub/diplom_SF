{
 "cells": [
  {
   "cell_type": "markdown",
   "metadata": {},
   "source": [
    "# Рекомендация тарифов"
   ]
  },
  {
   "cell_type": "markdown",
   "metadata": {},
   "source": [
    "**Задача**\n",
    "\n",
    "Построить систему, способную предсказать какой тариф подойдет клиенту с точностью предсказания не меньше **75%**\n",
    "\n",
    "**Описание данных**\n",
    "\n",
    "- **сalls** — количество звонков,\n",
    "- **minutes** — суммарная длительность звонков в минутах,\n",
    "- **messages** — количество sms-сообщений,\n",
    "- **mb_used** — израсходованный интернет-трафик в Мб,\n",
    "- **is_ultra** — каким тарифом пользовался в течение месяца («Ультра» — 1, «Смарт» — 0). - **Целевая переменная**"
   ]
  },
  {
   "cell_type": "code",
   "execution_count": 2,
   "metadata": {},
   "outputs": [],
   "source": [
    "# Импортируем библиотеки, нужные для работы:\n",
    "import pandas as pd\n",
    "import numpy as np"
   ]
  },
  {
   "cell_type": "code",
   "execution_count": 3,
   "metadata": {},
   "outputs": [],
   "source": [
    "# Сохраняем содержимое файла в переменную\n",
    "df = pd.read_csv('/datasets/users_behavior.csv')"
   ]
  },
  {
   "cell_type": "code",
   "execution_count": 4,
   "metadata": {},
   "outputs": [
    {
     "name": "stdout",
     "output_type": "stream",
     "text": [
      "<class 'pandas.core.frame.DataFrame'>\n",
      "RangeIndex: 3214 entries, 0 to 3213\n",
      "Data columns (total 5 columns):\n",
      " #   Column    Non-Null Count  Dtype  \n",
      "---  ------    --------------  -----  \n",
      " 0   calls     3214 non-null   float64\n",
      " 1   minutes   3214 non-null   float64\n",
      " 2   messages  3214 non-null   float64\n",
      " 3   mb_used   3214 non-null   float64\n",
      " 4   is_ultra  3214 non-null   int64  \n",
      "dtypes: float64(4), int64(1)\n",
      "memory usage: 125.7 KB\n"
     ]
    }
   ],
   "source": [
    "# Выведем основную информацию о датафрейме\n",
    "df.info()"
   ]
  },
  {
   "cell_type": "code",
   "execution_count": 5,
   "metadata": {},
   "outputs": [
    {
     "data": {
      "text/html": [
       "<div>\n",
       "<style scoped>\n",
       "    .dataframe tbody tr th:only-of-type {\n",
       "        vertical-align: middle;\n",
       "    }\n",
       "\n",
       "    .dataframe tbody tr th {\n",
       "        vertical-align: top;\n",
       "    }\n",
       "\n",
       "    .dataframe thead th {\n",
       "        text-align: right;\n",
       "    }\n",
       "</style>\n",
       "<table border=\"1\" class=\"dataframe\">\n",
       "  <thead>\n",
       "    <tr style=\"text-align: right;\">\n",
       "      <th></th>\n",
       "      <th>calls</th>\n",
       "      <th>minutes</th>\n",
       "      <th>messages</th>\n",
       "      <th>mb_used</th>\n",
       "      <th>is_ultra</th>\n",
       "    </tr>\n",
       "  </thead>\n",
       "  <tbody>\n",
       "    <tr>\n",
       "      <th>0</th>\n",
       "      <td>40.0</td>\n",
       "      <td>311.90</td>\n",
       "      <td>83.0</td>\n",
       "      <td>19915.42</td>\n",
       "      <td>0</td>\n",
       "    </tr>\n",
       "    <tr>\n",
       "      <th>1</th>\n",
       "      <td>85.0</td>\n",
       "      <td>516.75</td>\n",
       "      <td>56.0</td>\n",
       "      <td>22696.96</td>\n",
       "      <td>0</td>\n",
       "    </tr>\n",
       "    <tr>\n",
       "      <th>2</th>\n",
       "      <td>77.0</td>\n",
       "      <td>467.66</td>\n",
       "      <td>86.0</td>\n",
       "      <td>21060.45</td>\n",
       "      <td>0</td>\n",
       "    </tr>\n",
       "    <tr>\n",
       "      <th>3</th>\n",
       "      <td>106.0</td>\n",
       "      <td>745.53</td>\n",
       "      <td>81.0</td>\n",
       "      <td>8437.39</td>\n",
       "      <td>1</td>\n",
       "    </tr>\n",
       "    <tr>\n",
       "      <th>4</th>\n",
       "      <td>66.0</td>\n",
       "      <td>418.74</td>\n",
       "      <td>1.0</td>\n",
       "      <td>14502.75</td>\n",
       "      <td>0</td>\n",
       "    </tr>\n",
       "  </tbody>\n",
       "</table>\n",
       "</div>"
      ],
      "text/plain": [
       "   calls  minutes  messages   mb_used  is_ultra\n",
       "0   40.0   311.90      83.0  19915.42         0\n",
       "1   85.0   516.75      56.0  22696.96         0\n",
       "2   77.0   467.66      86.0  21060.45         0\n",
       "3  106.0   745.53      81.0   8437.39         1\n",
       "4   66.0   418.74       1.0  14502.75         0"
      ]
     },
     "execution_count": 5,
     "metadata": {},
     "output_type": "execute_result"
    }
   ],
   "source": [
    "df.head()"
   ]
  },
  {
   "cell_type": "code",
   "execution_count": 6,
   "metadata": {},
   "outputs": [
    {
     "data": {
      "text/html": [
       "<div>\n",
       "<style scoped>\n",
       "    .dataframe tbody tr th:only-of-type {\n",
       "        vertical-align: middle;\n",
       "    }\n",
       "\n",
       "    .dataframe tbody tr th {\n",
       "        vertical-align: top;\n",
       "    }\n",
       "\n",
       "    .dataframe thead th {\n",
       "        text-align: right;\n",
       "    }\n",
       "</style>\n",
       "<table border=\"1\" class=\"dataframe\">\n",
       "  <thead>\n",
       "    <tr style=\"text-align: right;\">\n",
       "      <th></th>\n",
       "      <th>calls</th>\n",
       "      <th>minutes</th>\n",
       "      <th>messages</th>\n",
       "      <th>mb_used</th>\n",
       "      <th>is_ultra</th>\n",
       "    </tr>\n",
       "  </thead>\n",
       "  <tbody>\n",
       "    <tr>\n",
       "      <th>count</th>\n",
       "      <td>3214.000000</td>\n",
       "      <td>3214.000000</td>\n",
       "      <td>3214.000000</td>\n",
       "      <td>3214.000000</td>\n",
       "      <td>3214.000000</td>\n",
       "    </tr>\n",
       "    <tr>\n",
       "      <th>mean</th>\n",
       "      <td>63.038892</td>\n",
       "      <td>438.208787</td>\n",
       "      <td>38.281269</td>\n",
       "      <td>17207.673836</td>\n",
       "      <td>0.306472</td>\n",
       "    </tr>\n",
       "    <tr>\n",
       "      <th>std</th>\n",
       "      <td>33.236368</td>\n",
       "      <td>234.569872</td>\n",
       "      <td>36.148326</td>\n",
       "      <td>7570.968246</td>\n",
       "      <td>0.461100</td>\n",
       "    </tr>\n",
       "    <tr>\n",
       "      <th>min</th>\n",
       "      <td>0.000000</td>\n",
       "      <td>0.000000</td>\n",
       "      <td>0.000000</td>\n",
       "      <td>0.000000</td>\n",
       "      <td>0.000000</td>\n",
       "    </tr>\n",
       "    <tr>\n",
       "      <th>25%</th>\n",
       "      <td>40.000000</td>\n",
       "      <td>274.575000</td>\n",
       "      <td>9.000000</td>\n",
       "      <td>12491.902500</td>\n",
       "      <td>0.000000</td>\n",
       "    </tr>\n",
       "    <tr>\n",
       "      <th>50%</th>\n",
       "      <td>62.000000</td>\n",
       "      <td>430.600000</td>\n",
       "      <td>30.000000</td>\n",
       "      <td>16943.235000</td>\n",
       "      <td>0.000000</td>\n",
       "    </tr>\n",
       "    <tr>\n",
       "      <th>75%</th>\n",
       "      <td>82.000000</td>\n",
       "      <td>571.927500</td>\n",
       "      <td>57.000000</td>\n",
       "      <td>21424.700000</td>\n",
       "      <td>1.000000</td>\n",
       "    </tr>\n",
       "    <tr>\n",
       "      <th>max</th>\n",
       "      <td>244.000000</td>\n",
       "      <td>1632.060000</td>\n",
       "      <td>224.000000</td>\n",
       "      <td>49745.730000</td>\n",
       "      <td>1.000000</td>\n",
       "    </tr>\n",
       "  </tbody>\n",
       "</table>\n",
       "</div>"
      ],
      "text/plain": [
       "             calls      minutes     messages       mb_used     is_ultra\n",
       "count  3214.000000  3214.000000  3214.000000   3214.000000  3214.000000\n",
       "mean     63.038892   438.208787    38.281269  17207.673836     0.306472\n",
       "std      33.236368   234.569872    36.148326   7570.968246     0.461100\n",
       "min       0.000000     0.000000     0.000000      0.000000     0.000000\n",
       "25%      40.000000   274.575000     9.000000  12491.902500     0.000000\n",
       "50%      62.000000   430.600000    30.000000  16943.235000     0.000000\n",
       "75%      82.000000   571.927500    57.000000  21424.700000     1.000000\n",
       "max     244.000000  1632.060000   224.000000  49745.730000     1.000000"
      ]
     },
     "execution_count": 6,
     "metadata": {},
     "output_type": "execute_result"
    }
   ],
   "source": [
    "# Выведем описательную статистику всех признаков\n",
    "df.describe()"
   ]
  },
  {
   "cell_type": "code",
   "execution_count": 7,
   "metadata": {},
   "outputs": [
    {
     "data": {
      "image/png": "[encoded data removed]",
      "text/plain": [
       "<Figure size 1080x216 with 1 Axes>"
      ]
     },
     "metadata": {
      "needs_background": "light"
     },
     "output_type": "display_data"
    }
   ],
   "source": [
    "ax = df.calls.plot(kind='hist',bins=150,figsize=(15,3), color='r').set_title('Количество звонков', fontsize = 30)"
   ]
  },
  {
   "cell_type": "code",
   "execution_count": 8,
   "metadata": {},
   "outputs": [
    {
     "data": {
      "image/png": "[encoded data removed]",
      "text/plain": [
       "<Figure size 1080x216 with 1 Axes>"
      ]
     },
     "metadata": {
      "needs_background": "light"
     },
     "output_type": "display_data"
    }
   ],
   "source": [
    "ax = df.minutes.plot(kind='hist',bins=150,figsize=(15,3), color='b').set_title('Время звонков (минуты)', fontsize = 30)"
   ]
  },
  {
   "cell_type": "code",
   "execution_count": 9,
   "metadata": {},
   "outputs": [
    {
     "data": {
      "image/png": "[encoded data removed]",
      "text/plain": [
       "<Figure size 1080x216 with 1 Axes>"
      ]
     },
     "metadata": {
      "needs_background": "light"
     },
     "output_type": "display_data"
    }
   ],
   "source": [
    "ax = df.messages.plot(kind='hist',bins=150,figsize=(15,3), color='g').set_title('Количество СМС', fontsize = 30)"
   ]
  },
  {
   "cell_type": "code",
   "execution_count": 10,
   "metadata": {},
   "outputs": [
    {
     "data": {
      "image/png": "[encoded data removed]",
      "text/plain": [
       "<Figure size 1080x216 with 1 Axes>"
      ]
     },
     "metadata": {
      "needs_background": "light"
     },
     "output_type": "display_data"
    }
   ],
   "source": [
    "ax = df.mb_used.plot(kind='hist',bins=150,figsize=(15,3), color='orange').set_title('Мегабайты', fontsize = 30)"
   ]
  },
  {
   "cell_type": "markdown",
   "metadata": {},
   "source": [
    "Глядя на эти графики, можно сделать следующие выводы:\n",
    "- Звонки, время звонков и мегабайты имеют распределение близко к нормальному\n",
    "    - Чаще всего клиенты в месяц делают от **40** до **80** звонков\n",
    "    - Если перевести это во время, то чаще всего разговаривают по телефону от **4** - до **9** часов\n",
    "    - А также многие используют интернет, основная масса тратит в месяц от **12** – до **21** гб.\n",
    "- 15% пользователей вообще не используют СМС, что неудивительно, ведь сейчас множество бесплатных сервисов для общения, для которых нужен только интернет. На графике это выделяется большим столбцом на отметке 0.\n",
    "    - Такие-же характерные нулевые столбцы есть и на звонках, а также на магабайтах (но слабо)\n",
    "    - Это можно объяснить тем, что некоторые покупают тариф только ради интернета и почти не звонят. Есть и такие кто, наоборот, только звонит, но не использует интернет, но таких меньше\n",
    "- В каждой операции есть рекордные значения:\n",
    "    - Кто-то может наговорить целые сутки за месяц\n",
    "    - Кто-то переслал почти 3 страницы текста через смс\n",
    "    - Кто то наиграл, или насмотрел видео на 50 гб\n"
   ]
  },
  {
   "cell_type": "markdown",
   "metadata": {},
   "source": [
    "Теперь поострим, как распределена целевая переменная:"
   ]
  },
  {
   "cell_type": "code",
   "execution_count": 11,
   "metadata": {},
   "outputs": [
    {
     "data": {
      "image/png": "[encoded data removed]",
      "text/plain": [
       "<Figure size 432x432 with 1 Axes>"
      ]
     },
     "metadata": {},
     "output_type": "display_data"
    }
   ],
   "source": [
    "def autopct(pct):\n",
    "    return ('%.2f' % pct) if pct > 10 else ''\n",
    "\n",
    "ax = df.is_ultra.value_counts().plot.pie(figsize=(6, 6), autopct=autopct, colors = ['red', 'pink']).set_title('Соотношение тарифов', fontsize = 30)"
   ]
  },
  {
   "cell_type": "markdown",
   "metadata": {},
   "source": [
    "Как видно, тех кто на тарифе ультра в 2 раза меньше тех, кто на смарт.\n",
    "\n",
    "Посмотрим на взаимосвязь всех переменных"
   ]
  },
  {
   "cell_type": "code",
   "execution_count": 12,
   "metadata": {},
   "outputs": [],
   "source": [
    "import seaborn as sns # Для работы с графиками"
   ]
  },
  {
   "cell_type": "code",
   "execution_count": 13,
   "metadata": {},
   "outputs": [
    {
     "data": {
      "text/plain": [
       "<seaborn.axisgrid.PairGrid at 0x7fbc47e941c0>"
      ]
     },
     "execution_count": 13,
     "metadata": {},
     "output_type": "execute_result"
    },
    {
     "data": {
      "image/png": "[encoded data removed]",
      "text/plain": [
       "<Figure size 900x900 with 30 Axes>"
      ]
     },
     "metadata": {
      "needs_background": "light"
     },
     "output_type": "display_data"
    }
   ],
   "source": [
    "sns.pairplot(df, kind=\"hist\")"
   ]
  },
  {
   "cell_type": "code",
   "execution_count": 14,
   "metadata": {},
   "outputs": [
    {
     "data": {
      "text/html": [
       "<div>\n",
       "<style scoped>\n",
       "    .dataframe tbody tr th:only-of-type {\n",
       "        vertical-align: middle;\n",
       "    }\n",
       "\n",
       "    .dataframe tbody tr th {\n",
       "        vertical-align: top;\n",
       "    }\n",
       "\n",
       "    .dataframe thead th {\n",
       "        text-align: right;\n",
       "    }\n",
       "</style>\n",
       "<table border=\"1\" class=\"dataframe\">\n",
       "  <thead>\n",
       "    <tr style=\"text-align: right;\">\n",
       "      <th></th>\n",
       "      <th>calls</th>\n",
       "      <th>minutes</th>\n",
       "      <th>messages</th>\n",
       "      <th>mb_used</th>\n",
       "      <th>is_ultra</th>\n",
       "    </tr>\n",
       "  </thead>\n",
       "  <tbody>\n",
       "    <tr>\n",
       "      <th>calls</th>\n",
       "      <td>1.000000</td>\n",
       "      <td>0.982083</td>\n",
       "      <td>0.177385</td>\n",
       "      <td>0.286442</td>\n",
       "      <td>0.207122</td>\n",
       "    </tr>\n",
       "    <tr>\n",
       "      <th>minutes</th>\n",
       "      <td>0.982083</td>\n",
       "      <td>1.000000</td>\n",
       "      <td>0.173110</td>\n",
       "      <td>0.280967</td>\n",
       "      <td>0.206955</td>\n",
       "    </tr>\n",
       "    <tr>\n",
       "      <th>messages</th>\n",
       "      <td>0.177385</td>\n",
       "      <td>0.173110</td>\n",
       "      <td>1.000000</td>\n",
       "      <td>0.195721</td>\n",
       "      <td>0.203830</td>\n",
       "    </tr>\n",
       "    <tr>\n",
       "      <th>mb_used</th>\n",
       "      <td>0.286442</td>\n",
       "      <td>0.280967</td>\n",
       "      <td>0.195721</td>\n",
       "      <td>1.000000</td>\n",
       "      <td>0.198568</td>\n",
       "    </tr>\n",
       "    <tr>\n",
       "      <th>is_ultra</th>\n",
       "      <td>0.207122</td>\n",
       "      <td>0.206955</td>\n",
       "      <td>0.203830</td>\n",
       "      <td>0.198568</td>\n",
       "      <td>1.000000</td>\n",
       "    </tr>\n",
       "  </tbody>\n",
       "</table>\n",
       "</div>"
      ],
      "text/plain": [
       "             calls   minutes  messages   mb_used  is_ultra\n",
       "calls     1.000000  0.982083  0.177385  0.286442  0.207122\n",
       "minutes   0.982083  1.000000  0.173110  0.280967  0.206955\n",
       "messages  0.177385  0.173110  1.000000  0.195721  0.203830\n",
       "mb_used   0.286442  0.280967  0.195721  1.000000  0.198568\n",
       "is_ultra  0.207122  0.206955  0.203830  0.198568  1.000000"
      ]
     },
     "execution_count": 14,
     "metadata": {},
     "output_type": "execute_result"
    }
   ],
   "source": [
    "# Выведем значения корреляции\n",
    "df.corr()"
   ]
  },
  {
   "cell_type": "markdown",
   "metadata": {},
   "source": [
    "- Самая высокая корреляция, что очевидно, у количества звонков и общего количества минут. Разброс не сильно большой, это может также говорить о том, что продолжительность одного звонка у многих примерна одинакова\n",
    "- Вторая, более весомая связь, в почти 30% у мегабайтов и звонков. Скорее всего это связано с нашей теорий озвученной ранее, что кто-то пользуется только интернетом, а кто-то только звонками"
   ]
  },
  {
   "attachments": {
    "image.png": {
     "image/png": "[encoded data removed]"
    }
   },
   "cell_type": "markdown",
   "metadata": {},
   "source": [
    "![image.png](attachment:image.png)"
   ]
  },
  {
   "cell_type": "markdown",
   "metadata": {},
   "source": []
  },
  {
   "cell_type": "markdown",
   "metadata": {},
   "source": []
  },
  {
   "cell_type": "code",
   "execution_count": 15,
   "metadata": {},
   "outputs": [],
   "source": [
    "# Импортируем функцию для разделения выборок\n",
    "from sklearn.model_selection import train_test_split"
   ]
  },
  {
   "cell_type": "markdown",
   "metadata": {},
   "source": [
    "Обычно, при поиске гиперпараметров используется 3 выборки: **обучающая, валидационая и тестовая**.\n",
    "\n",
    "Но в процессе использования таких инструментов, как **Greed Search** и **Random Search** стало понятно, что валидационная выборка в них берется автоматически из обучающей.\n",
    "\n",
    "Поэтому у нас будет только **обучающая и тестовая**, в соотношении **4:1**, т.к. валидационная, идет вместе с обучающей.\n",
    "\n",
    "Для повторно воспроизводимых результатов эксперимента, **зафиксируем случайность**:"
   ]
  },
  {
   "cell_type": "code",
   "execution_count": 16,
   "metadata": {},
   "outputs": [],
   "source": [
    "# Т.к. в последующих функциях часто будет использоваться случайность, а нам требуются\n",
    "# одинаковые результаты при повторении, то зафиксируем определённое значение\n",
    "seed = 42"
   ]
  },
  {
   "cell_type": "code",
   "execution_count": 17,
   "metadata": {},
   "outputs": [],
   "source": [
    "# Получим 2 выборки\n",
    "features_train, features_test, target_train, target_test = \\\n",
    "        train_test_split(df.drop(['is_ultra'], axis=1), df['is_ultra'], test_size=.2, random_state=seed)"
   ]
  },
  {
   "cell_type": "code",
   "execution_count": 18,
   "metadata": {},
   "outputs": [
    {
     "name": "stdout",
     "output_type": "stream",
     "text": [
      "train features=2571 target=2571\n",
      "test features=643 target=643\n"
     ]
    }
   ],
   "source": [
    "# Убедимся, что выборки имеют правильные размеры:\n",
    "print(f'train features={len(features_train)} target={len(target_train)}')\n",
    "print(f'test features={len(features_test)} target={len(target_test)}')"
   ]
  },
  {
   "cell_type": "markdown",
   "metadata": {},
   "source": [
    "Т.к. мы собираемся предсказывать значение целевой переменной **is_ultra**, значения которой могут быть либо **1** либо **0**, то это относится к задаче **бинарной классификации**.\n",
    "\n",
    "Рассмотрим алгоритмы классификации:\n",
    "- Решающее дерево\n",
    "- Случайный лес\n",
    "- Логистическая регрессия\n",
    "\n",
    "А также другие модели для классификации.\n",
    "\n",
    "Также рассмотрим:\n",
    "- Машины опорных векторов\n",
    "- Нейронные сети\n",
    "- Catboost\n",
    "\n",
    "*В рамках ограниченных временных ресурсах, нет возможности изучить влияние каждого гиперпарматетра у новых моделей, в следствии чего для перебора будут использованы те, которые удалось найти и перебор которых не занимает очень много времени.*\n",
    "\n",
    "Для поиска лучших гиперпарметров, будет использован алгоритм «**поиска по сетке**» (**GridSearchCV**)\n",
    "который сильно упрощает этот процесс\n",
    "\n",
    "Также, помимо точности, нужно оценивать **время поиска подходящих гиперпараметров** и **время предсказания**.\n",
    "Создадим таблицу в которой будем хранить эти данные:\n",
    "\n",
    "*Оценка времени в данном случае не совсем является корректной, т.к. у каждой модели разные параметры, которые по-разному влияют на время обучения, но в рамках исследования мы все равно зафиксируем эту информацию, чтобы дать модели хотя-бы примерную оценку*"
   ]
  },
  {
   "cell_type": "code",
   "execution_count": 19,
   "metadata": {},
   "outputs": [],
   "source": [
    "# Создаем таблицу для хранения показателей моделей\n",
    "models_characteristics = pd.DataFrame(columns=['model','time_hparam', 'accuracy_valid'])\n",
    "models_characteristics['model'] = models_characteristics['model'].astype('object')"
   ]
  },
  {
   "cell_type": "code",
   "execution_count": 20,
   "metadata": {},
   "outputs": [],
   "source": [
    "# Импортируем время для замеров\n",
    "import datetime as dt\n",
    "import time"
   ]
  },
  {
   "cell_type": "markdown",
   "metadata": {},
   "source": [
    "### Решающее дерево"
   ]
  },
  {
   "cell_type": "code",
   "execution_count": 21,
   "metadata": {},
   "outputs": [],
   "source": [
    "# Импортируем структуру данных решающего дерева\n",
    "from sklearn.tree import DecisionTreeClassifier\n",
    "\n",
    "# Для поиска лучших гиперпараметров\n",
    "from sklearn.model_selection import GridSearchCV"
   ]
  },
  {
   "cell_type": "code",
   "execution_count": 22,
   "metadata": {},
   "outputs": [],
   "source": [
    "# Время начала\n",
    "start = dt.datetime.now()\n",
    "\n",
    "# Словарь с параметрами для проверки\n",
    "parametrs = {'max_depth': range (1,11),\n",
    "             'min_samples_leaf': range (1,8),\n",
    "             'min_samples_split': range (2,10,2)}\n",
    "\n",
    "# Создаем модель\n",
    "model_DT = DecisionTreeClassifier(random_state=seed)\n",
    "\n",
    "# Запускаем обучение\n",
    "grid_DT = GridSearchCV(model_DT, parametrs, cv=5)\n",
    "grid_DT.fit(features_train, target_train)\n",
    "\n",
    "# Время окончания\n",
    "stop = dt.datetime.now()"
   ]
  },
  {
   "cell_type": "code",
   "execution_count": 23,
   "metadata": {},
   "outputs": [
    {
     "name": "stdout",
     "output_type": "stream",
     "text": [
      "Время подбора параметров: 0:00:09.731834\n",
      "Лучшие гиперпараметры: {'max_depth': 7, 'min_samples_leaf': 5, 'min_samples_split': 2}\n",
      "Лучшая accuracy: 0.7907\n"
     ]
    }
   ],
   "source": [
    "# время\n",
    "print('Время подбора параметров:', stop-start)\n",
    "# Лучшие параметры\n",
    "print('Лучшие гиперпараметры:', grid_DT.best_params_)\n",
    "# Лучший результат\n",
    "print('Лучшая accuracy:', round(grid_DT.best_score_, 4))"
   ]
  },
  {
   "cell_type": "markdown",
   "metadata": {},
   "source": [
    "В результате перебора, наилучшую правильность показала модель с глубиной **7** минимальным количеством листьев **5** и минимальными выборками **2**. Её accuracy составляет **79%**. Время подбора составило **9** секунд"
   ]
  },
  {
   "cell_type": "code",
   "execution_count": 24,
   "metadata": {},
   "outputs": [],
   "source": [
    "# Фиксируем результат\n",
    "model_DT = DecisionTreeClassifier(random_state=seed, max_depth=8, min_samples_leaf=7, min_samples_split=2)\n",
    "model_DT.fit(features_train, target_train)\n",
    "models_characteristics.loc['Решающее дерево'] = [model_DT, dt.time(0,0,9), .7907]"
   ]
  },
  {
   "cell_type": "markdown",
   "metadata": {},
   "source": [
    "### Случайный лес"
   ]
  },
  {
   "cell_type": "markdown",
   "metadata": {},
   "source": [
    "Т.к. случайный лес — это тяжелая структура, которая долго обучается, было решено провести проверку **случайным поиском**, т.к. это сократило-бы время и помогло найти хорошие параметры. Заодно это возможность опробовать для себя новый метод"
   ]
  },
  {
   "cell_type": "code",
   "execution_count": 25,
   "metadata": {},
   "outputs": [],
   "source": [
    "# Импортируем функцию случайного поиска\n",
    "from sklearn.model_selection import RandomizedSearchCV\n",
    "# Импортируем структуру данных случайного леса\n",
    "from sklearn.ensemble import RandomForestClassifier"
   ]
  },
  {
   "cell_type": "code",
   "execution_count": 26,
   "metadata": {
    "scrolled": true
   },
   "outputs": [
    {
     "name": "stdout",
     "output_type": "stream",
     "text": [
      "Fitting 2 folds for each of 100 candidates, totalling 200 fits\n",
      "[CV] END bootstrap=True, max_depth=95, max_features=auto, min_samples_leaf=4, min_samples_split=10, n_estimators=30; total time=   0.1s\n",
      "[CV] END bootstrap=True, max_depth=95, max_features=auto, min_samples_leaf=4, min_samples_split=10, n_estimators=30; total time=   0.1s\n",
      "[CV] END bootstrap=True, max_depth=107, max_features=sqrt, min_samples_leaf=4, min_samples_split=6, n_estimators=34; total time=   0.1s\n",
      "[CV] END bootstrap=True, max_depth=107, max_features=sqrt, min_samples_leaf=4, min_samples_split=6, n_estimators=34; total time=   0.1s\n",
      "[CV] END bootstrap=False, max_depth=120, max_features=sqrt, min_samples_leaf=3, min_samples_split=2, n_estimators=70; total time=   0.3s\n",
      "[CV] END bootstrap=False, max_depth=120, max_features=sqrt, min_samples_leaf=3, min_samples_split=2, n_estimators=70; total time=   0.3s\n",
      "[CV] END bootstrap=False, max_depth=120, max_features=sqrt, min_samples_leaf=4, min_samples_split=2, n_estimators=52; total time=   0.2s\n",
      "[CV] END bootstrap=False, max_depth=120, max_features=sqrt, min_samples_leaf=4, min_samples_split=2, n_estimators=52; total time=   0.2s\n",
      "[CV] END bootstrap=True, max_depth=22, max_features=auto, min_samples_leaf=3, min_samples_split=2, n_estimators=34; total time=   0.1s\n",
      "[CV] END bootstrap=True, max_depth=22, max_features=auto, min_samples_leaf=3, min_samples_split=2, n_estimators=34; total time=   0.1s\n",
      "[CV] END bootstrap=False, max_depth=120, max_features=sqrt, min_samples_leaf=1, min_samples_split=2, n_estimators=52; total time=   0.2s\n",
      "[CV] END bootstrap=False, max_depth=120, max_features=sqrt, min_samples_leaf=1, min_samples_split=2, n_estimators=52; total time=   0.2s\n",
      "[CV] END bootstrap=True, max_depth=107, max_features=auto, min_samples_leaf=1, min_samples_split=10, n_estimators=52; total time=   0.2s\n",
      "[CV] END bootstrap=True, max_depth=107, max_features=auto, min_samples_leaf=1, min_samples_split=10, n_estimators=52; total time=   0.2s\n",
      "[CV] END bootstrap=True, max_depth=10, max_features=sqrt, min_samples_leaf=3, min_samples_split=6, n_estimators=47; total time=   0.1s\n",
      "[CV] END bootstrap=True, max_depth=10, max_features=sqrt, min_samples_leaf=3, min_samples_split=6, n_estimators=47; total time=   0.1s\n",
      "[CV] END bootstrap=False, max_depth=58, max_features=sqrt, min_samples_leaf=4, min_samples_split=2, n_estimators=61; total time=   0.2s\n",
      "[CV] END bootstrap=False, max_depth=58, max_features=sqrt, min_samples_leaf=4, min_samples_split=2, n_estimators=61; total time=   0.2s\n",
      "[CV] END bootstrap=True, max_depth=120, max_features=sqrt, min_samples_leaf=3, min_samples_split=2, n_estimators=38; total time=   0.1s\n",
      "[CV] END bootstrap=True, max_depth=120, max_features=sqrt, min_samples_leaf=3, min_samples_split=2, n_estimators=38; total time=   0.1s\n",
      "[CV] END bootstrap=False, max_depth=34, max_features=sqrt, min_samples_leaf=4, min_samples_split=2, n_estimators=56; total time=   0.2s\n",
      "[CV] END bootstrap=False, max_depth=34, max_features=sqrt, min_samples_leaf=4, min_samples_split=2, n_estimators=56; total time=   0.2s\n",
      "[CV] END bootstrap=True, max_depth=10, max_features=auto, min_samples_leaf=1, min_samples_split=10, n_estimators=56; total time=   0.1s\n",
      "[CV] END bootstrap=True, max_depth=10, max_features=auto, min_samples_leaf=1, min_samples_split=10, n_estimators=56; total time=   0.1s\n",
      "[CV] END bootstrap=True, max_depth=71, max_features=auto, min_samples_leaf=1, min_samples_split=10, n_estimators=70; total time=   0.2s\n",
      "[CV] END bootstrap=True, max_depth=71, max_features=auto, min_samples_leaf=1, min_samples_split=10, n_estimators=70; total time=   0.2s\n",
      "[CV] END bootstrap=True, max_depth=10, max_features=auto, min_samples_leaf=3, min_samples_split=2, n_estimators=38; total time=   0.1s\n",
      "[CV] END bootstrap=True, max_depth=10, max_features=auto, min_samples_leaf=3, min_samples_split=2, n_estimators=38; total time=   0.1s\n",
      "[CV] END bootstrap=True, max_depth=22, max_features=sqrt, min_samples_leaf=3, min_samples_split=6, n_estimators=52; total time=   0.1s\n",
      "[CV] END bootstrap=True, max_depth=22, max_features=sqrt, min_samples_leaf=3, min_samples_split=6, n_estimators=52; total time=   0.1s\n",
      "[CV] END bootstrap=False, max_depth=71, max_features=auto, min_samples_leaf=1, min_samples_split=2, n_estimators=61; total time=   0.2s\n",
      "[CV] END bootstrap=False, max_depth=71, max_features=auto, min_samples_leaf=1, min_samples_split=2, n_estimators=61; total time=   0.2s\n",
      "[CV] END bootstrap=False, max_depth=83, max_features=auto, min_samples_leaf=1, min_samples_split=2, n_estimators=61; total time=   0.2s\n",
      "[CV] END bootstrap=False, max_depth=83, max_features=auto, min_samples_leaf=1, min_samples_split=2, n_estimators=61; total time=   0.2s\n",
      "[CV] END bootstrap=True, max_depth=107, max_features=auto, min_samples_leaf=4, min_samples_split=2, n_estimators=70; total time=   0.2s\n",
      "[CV] END bootstrap=True, max_depth=107, max_features=auto, min_samples_leaf=4, min_samples_split=2, n_estimators=70; total time=   0.2s\n",
      "[CV] END bootstrap=True, max_depth=22, max_features=sqrt, min_samples_leaf=1, min_samples_split=2, n_estimators=30; total time=   0.1s\n",
      "[CV] END bootstrap=True, max_depth=22, max_features=sqrt, min_samples_leaf=1, min_samples_split=2, n_estimators=30; total time=   0.1s\n",
      "[CV] END bootstrap=False, max_depth=10, max_features=sqrt, min_samples_leaf=4, min_samples_split=6, n_estimators=52; total time=   0.2s\n",
      "[CV] END bootstrap=False, max_depth=10, max_features=sqrt, min_samples_leaf=4, min_samples_split=6, n_estimators=52; total time=   0.2s\n",
      "[CV] END bootstrap=True, max_depth=58, max_features=sqrt, min_samples_leaf=4, min_samples_split=2, n_estimators=70; total time=   0.2s\n",
      "[CV] END bootstrap=True, max_depth=58, max_features=sqrt, min_samples_leaf=4, min_samples_split=2, n_estimators=70; total time=   0.2s\n",
      "[CV] END bootstrap=False, max_depth=10, max_features=sqrt, min_samples_leaf=3, min_samples_split=2, n_estimators=47; total time=   0.1s\n",
      "[CV] END bootstrap=False, max_depth=10, max_features=sqrt, min_samples_leaf=3, min_samples_split=2, n_estimators=47; total time=   0.1s\n",
      "[CV] END bootstrap=True, max_depth=71, max_features=sqrt, min_samples_leaf=4, min_samples_split=2, n_estimators=61; total time=   0.2s\n",
      "[CV] END bootstrap=True, max_depth=71, max_features=sqrt, min_samples_leaf=4, min_samples_split=2, n_estimators=61; total time=   0.2s\n",
      "[CV] END bootstrap=False, max_depth=46, max_features=auto, min_samples_leaf=3, min_samples_split=2, n_estimators=61; total time=   0.2s\n",
      "[CV] END bootstrap=False, max_depth=46, max_features=auto, min_samples_leaf=3, min_samples_split=2, n_estimators=61; total time=   0.2s\n",
      "[CV] END bootstrap=True, max_depth=83, max_features=sqrt, min_samples_leaf=4, min_samples_split=2, n_estimators=34; total time=   0.1s\n",
      "[CV] END bootstrap=True, max_depth=83, max_features=sqrt, min_samples_leaf=4, min_samples_split=2, n_estimators=34; total time=   0.1s\n",
      "[CV] END bootstrap=True, max_depth=34, max_features=auto, min_samples_leaf=4, min_samples_split=6, n_estimators=70; total time=   0.2s\n",
      "[CV] END bootstrap=True, max_depth=34, max_features=auto, min_samples_leaf=4, min_samples_split=6, n_estimators=70; total time=   0.2s\n",
      "[CV] END bootstrap=True, max_depth=34, max_features=auto, min_samples_leaf=3, min_samples_split=10, n_estimators=52; total time=   0.2s\n",
      "[CV] END bootstrap=True, max_depth=34, max_features=auto, min_samples_leaf=3, min_samples_split=10, n_estimators=52; total time=   0.2s\n",
      "[CV] END bootstrap=True, max_depth=46, max_features=sqrt, min_samples_leaf=3, min_samples_split=6, n_estimators=30; total time=   0.1s\n",
      "[CV] END bootstrap=True, max_depth=46, max_features=sqrt, min_samples_leaf=3, min_samples_split=6, n_estimators=30; total time=   0.1s\n",
      "[CV] END bootstrap=False, max_depth=71, max_features=sqrt, min_samples_leaf=3, min_samples_split=10, n_estimators=43; total time=   0.2s\n",
      "[CV] END bootstrap=False, max_depth=71, max_features=sqrt, min_samples_leaf=3, min_samples_split=10, n_estimators=43; total time=   0.2s\n",
      "[CV] END bootstrap=False, max_depth=83, max_features=sqrt, min_samples_leaf=3, min_samples_split=6, n_estimators=70; total time=   0.3s\n",
      "[CV] END bootstrap=False, max_depth=83, max_features=sqrt, min_samples_leaf=3, min_samples_split=6, n_estimators=70; total time=   0.3s\n",
      "[CV] END bootstrap=True, max_depth=58, max_features=sqrt, min_samples_leaf=1, min_samples_split=2, n_estimators=34; total time=   0.1s\n",
      "[CV] END bootstrap=True, max_depth=58, max_features=sqrt, min_samples_leaf=1, min_samples_split=2, n_estimators=34; total time=   0.1s\n",
      "[CV] END bootstrap=False, max_depth=46, max_features=auto, min_samples_leaf=1, min_samples_split=6, n_estimators=61; total time=   0.2s\n",
      "[CV] END bootstrap=False, max_depth=46, max_features=auto, min_samples_leaf=1, min_samples_split=6, n_estimators=61; total time=   0.2s\n",
      "[CV] END bootstrap=True, max_depth=10, max_features=sqrt, min_samples_leaf=4, min_samples_split=10, n_estimators=70; total time=   0.2s\n",
      "[CV] END bootstrap=True, max_depth=10, max_features=sqrt, min_samples_leaf=4, min_samples_split=10, n_estimators=70; total time=   0.2s\n",
      "[CV] END bootstrap=False, max_depth=71, max_features=auto, min_samples_leaf=4, min_samples_split=2, n_estimators=38; total time=   0.1s\n",
      "[CV] END bootstrap=False, max_depth=71, max_features=auto, min_samples_leaf=4, min_samples_split=2, n_estimators=38; total time=   0.1s\n",
      "[CV] END bootstrap=False, max_depth=83, max_features=sqrt, min_samples_leaf=1, min_samples_split=6, n_estimators=65; total time=   0.3s\n",
      "[CV] END bootstrap=False, max_depth=83, max_features=sqrt, min_samples_leaf=1, min_samples_split=6, n_estimators=65; total time=   0.3s\n",
      "[CV] END bootstrap=False, max_depth=46, max_features=sqrt, min_samples_leaf=1, min_samples_split=10, n_estimators=56; total time=   0.2s\n",
      "[CV] END bootstrap=False, max_depth=46, max_features=sqrt, min_samples_leaf=1, min_samples_split=10, n_estimators=56; total time=   0.3s\n",
      "[CV] END bootstrap=True, max_depth=83, max_features=sqrt, min_samples_leaf=3, min_samples_split=10, n_estimators=56; total time=   0.2s\n",
      "[CV] END bootstrap=True, max_depth=83, max_features=sqrt, min_samples_leaf=3, min_samples_split=10, n_estimators=56; total time=   0.2s\n",
      "[CV] END bootstrap=True, max_depth=71, max_features=sqrt, min_samples_leaf=1, min_samples_split=2, n_estimators=70; total time=   0.2s\n",
      "[CV] END bootstrap=True, max_depth=71, max_features=sqrt, min_samples_leaf=1, min_samples_split=2, n_estimators=70; total time=   0.2s\n",
      "[CV] END bootstrap=True, max_depth=58, max_features=sqrt, min_samples_leaf=1, min_samples_split=2, n_estimators=61; total time=   0.2s\n",
      "[CV] END bootstrap=True, max_depth=58, max_features=sqrt, min_samples_leaf=1, min_samples_split=2, n_estimators=61; total time=   0.2s\n",
      "[CV] END bootstrap=True, max_depth=71, max_features=auto, min_samples_leaf=1, min_samples_split=10, n_estimators=61; total time=   0.2s\n",
      "[CV] END bootstrap=True, max_depth=71, max_features=auto, min_samples_leaf=1, min_samples_split=10, n_estimators=61; total time=   0.2s\n",
      "[CV] END bootstrap=False, max_depth=58, max_features=sqrt, min_samples_leaf=4, min_samples_split=10, n_estimators=56; total time=   0.2s\n",
      "[CV] END bootstrap=False, max_depth=58, max_features=sqrt, min_samples_leaf=4, min_samples_split=10, n_estimators=56; total time=   0.2s\n",
      "[CV] END bootstrap=False, max_depth=83, max_features=sqrt, min_samples_leaf=4, min_samples_split=2, n_estimators=43; total time=   0.1s\n",
      "[CV] END bootstrap=False, max_depth=83, max_features=sqrt, min_samples_leaf=4, min_samples_split=2, n_estimators=43; total time=   0.2s\n",
      "[CV] END bootstrap=False, max_depth=83, max_features=auto, min_samples_leaf=4, min_samples_split=6, n_estimators=52; total time=   0.2s\n",
      "[CV] END bootstrap=False, max_depth=83, max_features=auto, min_samples_leaf=4, min_samples_split=6, n_estimators=52; total time=   0.2s\n",
      "[CV] END bootstrap=True, max_depth=10, max_features=sqrt, min_samples_leaf=3, min_samples_split=2, n_estimators=30; total time=   0.1s\n",
      "[CV] END bootstrap=True, max_depth=10, max_features=sqrt, min_samples_leaf=3, min_samples_split=2, n_estimators=30; total time=   0.1s\n",
      "[CV] END bootstrap=True, max_depth=120, max_features=sqrt, min_samples_leaf=4, min_samples_split=6, n_estimators=56; total time=   0.2s\n",
      "[CV] END bootstrap=True, max_depth=120, max_features=sqrt, min_samples_leaf=4, min_samples_split=6, n_estimators=56; total time=   0.2s\n",
      "[CV] END bootstrap=True, max_depth=95, max_features=sqrt, min_samples_leaf=3, min_samples_split=10, n_estimators=43; total time=   0.1s\n",
      "[CV] END bootstrap=True, max_depth=95, max_features=sqrt, min_samples_leaf=3, min_samples_split=10, n_estimators=43; total time=   0.1s\n",
      "[CV] END bootstrap=True, max_depth=34, max_features=auto, min_samples_leaf=1, min_samples_split=10, n_estimators=61; total time=   0.2s\n",
      "[CV] END bootstrap=True, max_depth=34, max_features=auto, min_samples_leaf=1, min_samples_split=10, n_estimators=61; total time=   0.2s\n",
      "[CV] END bootstrap=True, max_depth=107, max_features=auto, min_samples_leaf=4, min_samples_split=6, n_estimators=30; total time=   0.1s\n",
      "[CV] END bootstrap=True, max_depth=107, max_features=auto, min_samples_leaf=4, min_samples_split=6, n_estimators=30; total time=   0.1s\n",
      "[CV] END bootstrap=False, max_depth=22, max_features=sqrt, min_samples_leaf=3, min_samples_split=2, n_estimators=47; total time=   0.2s\n",
      "[CV] END bootstrap=False, max_depth=22, max_features=sqrt, min_samples_leaf=3, min_samples_split=2, n_estimators=47; total time=   0.2s\n",
      "[CV] END bootstrap=False, max_depth=83, max_features=auto, min_samples_leaf=4, min_samples_split=10, n_estimators=38; total time=   0.2s\n",
      "[CV] END bootstrap=False, max_depth=83, max_features=auto, min_samples_leaf=4, min_samples_split=10, n_estimators=38; total time=   0.2s\n",
      "[CV] END bootstrap=False, max_depth=10, max_features=sqrt, min_samples_leaf=4, min_samples_split=2, n_estimators=61; total time=   0.2s\n",
      "[CV] END bootstrap=False, max_depth=10, max_features=sqrt, min_samples_leaf=4, min_samples_split=2, n_estimators=61; total time=   0.2s\n",
      "[CV] END bootstrap=True, max_depth=58, max_features=sqrt, min_samples_leaf=3, min_samples_split=2, n_estimators=38; total time=   0.1s\n",
      "[CV] END bootstrap=True, max_depth=58, max_features=sqrt, min_samples_leaf=3, min_samples_split=2, n_estimators=38; total time=   0.1s\n",
      "[CV] END bootstrap=True, max_depth=22, max_features=auto, min_samples_leaf=1, min_samples_split=2, n_estimators=47; total time=   0.1s\n",
      "[CV] END bootstrap=True, max_depth=22, max_features=auto, min_samples_leaf=1, min_samples_split=2, n_estimators=47; total time=   0.1s\n",
      "[CV] END bootstrap=True, max_depth=34, max_features=sqrt, min_samples_leaf=3, min_samples_split=6, n_estimators=52; total time=   0.1s\n",
      "[CV] END bootstrap=True, max_depth=34, max_features=sqrt, min_samples_leaf=3, min_samples_split=6, n_estimators=52; total time=   0.1s\n",
      "[CV] END bootstrap=False, max_depth=34, max_features=auto, min_samples_leaf=3, min_samples_split=10, n_estimators=34; total time=   0.1s\n",
      "[CV] END bootstrap=False, max_depth=34, max_features=auto, min_samples_leaf=3, min_samples_split=10, n_estimators=34; total time=   0.1s\n",
      "[CV] END bootstrap=False, max_depth=95, max_features=sqrt, min_samples_leaf=3, min_samples_split=10, n_estimators=34; total time=   0.1s\n",
      "[CV] END bootstrap=False, max_depth=95, max_features=sqrt, min_samples_leaf=3, min_samples_split=10, n_estimators=34; total time=   0.1s\n",
      "[CV] END bootstrap=True, max_depth=71, max_features=auto, min_samples_leaf=1, min_samples_split=10, n_estimators=56; total time=   0.2s\n",
      "[CV] END bootstrap=True, max_depth=71, max_features=auto, min_samples_leaf=1, min_samples_split=10, n_estimators=56; total time=   0.2s\n",
      "[CV] END bootstrap=True, max_depth=34, max_features=sqrt, min_samples_leaf=1, min_samples_split=6, n_estimators=34; total time=   0.1s\n",
      "[CV] END bootstrap=True, max_depth=34, max_features=sqrt, min_samples_leaf=1, min_samples_split=6, n_estimators=34; total time=   0.1s\n",
      "[CV] END bootstrap=True, max_depth=10, max_features=auto, min_samples_leaf=3, min_samples_split=2, n_estimators=43; total time=   0.1s\n",
      "[CV] END bootstrap=True, max_depth=10, max_features=auto, min_samples_leaf=3, min_samples_split=2, n_estimators=43; total time=   0.1s\n",
      "[CV] END bootstrap=True, max_depth=120, max_features=sqrt, min_samples_leaf=4, min_samples_split=10, n_estimators=43; total time=   0.2s\n",
      "[CV] END bootstrap=True, max_depth=120, max_features=sqrt, min_samples_leaf=4, min_samples_split=10, n_estimators=43; total time=   0.1s\n",
      "[CV] END bootstrap=True, max_depth=22, max_features=sqrt, min_samples_leaf=1, min_samples_split=6, n_estimators=70; total time=   0.2s\n",
      "[CV] END bootstrap=True, max_depth=22, max_features=sqrt, min_samples_leaf=1, min_samples_split=6, n_estimators=70; total time=   0.2s\n",
      "[CV] END bootstrap=False, max_depth=58, max_features=auto, min_samples_leaf=4, min_samples_split=2, n_estimators=70; total time=   0.2s\n",
      "[CV] END bootstrap=False, max_depth=58, max_features=auto, min_samples_leaf=4, min_samples_split=2, n_estimators=70; total time=   0.3s\n",
      "[CV] END bootstrap=True, max_depth=107, max_features=sqrt, min_samples_leaf=1, min_samples_split=2, n_estimators=70; total time=   0.2s\n",
      "[CV] END bootstrap=True, max_depth=107, max_features=sqrt, min_samples_leaf=1, min_samples_split=2, n_estimators=70; total time=   0.2s\n",
      "[CV] END bootstrap=True, max_depth=46, max_features=sqrt, min_samples_leaf=1, min_samples_split=6, n_estimators=47; total time=   0.1s\n",
      "[CV] END bootstrap=True, max_depth=46, max_features=sqrt, min_samples_leaf=1, min_samples_split=6, n_estimators=47; total time=   0.1s\n",
      "[CV] END bootstrap=True, max_depth=10, max_features=sqrt, min_samples_leaf=1, min_samples_split=2, n_estimators=43; total time=   0.1s\n",
      "[CV] END bootstrap=True, max_depth=10, max_features=sqrt, min_samples_leaf=1, min_samples_split=2, n_estimators=43; total time=   0.1s\n",
      "[CV] END bootstrap=True, max_depth=71, max_features=auto, min_samples_leaf=4, min_samples_split=2, n_estimators=70; total time=   0.2s\n",
      "[CV] END bootstrap=True, max_depth=71, max_features=auto, min_samples_leaf=4, min_samples_split=2, n_estimators=70; total time=   0.2s\n",
      "[CV] END bootstrap=True, max_depth=107, max_features=sqrt, min_samples_leaf=1, min_samples_split=10, n_estimators=47; total time=   0.1s\n",
      "[CV] END bootstrap=True, max_depth=107, max_features=sqrt, min_samples_leaf=1, min_samples_split=10, n_estimators=47; total time=   0.2s\n",
      "[CV] END bootstrap=True, max_depth=83, max_features=sqrt, min_samples_leaf=1, min_samples_split=2, n_estimators=47; total time=   0.2s\n",
      "[CV] END bootstrap=True, max_depth=83, max_features=sqrt, min_samples_leaf=1, min_samples_split=2, n_estimators=47; total time=   0.1s\n",
      "[CV] END bootstrap=False, max_depth=58, max_features=auto, min_samples_leaf=3, min_samples_split=10, n_estimators=52; total time=   0.2s\n",
      "[CV] END bootstrap=False, max_depth=58, max_features=auto, min_samples_leaf=3, min_samples_split=10, n_estimators=52; total time=   0.2s\n",
      "[CV] END bootstrap=False, max_depth=95, max_features=sqrt, min_samples_leaf=1, min_samples_split=2, n_estimators=43; total time=   0.2s\n",
      "[CV] END bootstrap=False, max_depth=95, max_features=sqrt, min_samples_leaf=1, min_samples_split=2, n_estimators=43; total time=   0.2s\n",
      "[CV] END bootstrap=True, max_depth=58, max_features=auto, min_samples_leaf=4, min_samples_split=10, n_estimators=43; total time=   0.1s\n",
      "[CV] END bootstrap=True, max_depth=58, max_features=auto, min_samples_leaf=4, min_samples_split=10, n_estimators=43; total time=   0.1s\n",
      "[CV] END bootstrap=True, max_depth=107, max_features=auto, min_samples_leaf=3, min_samples_split=2, n_estimators=47; total time=   0.1s\n",
      "[CV] END bootstrap=True, max_depth=107, max_features=auto, min_samples_leaf=3, min_samples_split=2, n_estimators=47; total time=   0.1s\n",
      "[CV] END bootstrap=True, max_depth=46, max_features=auto, min_samples_leaf=4, min_samples_split=2, n_estimators=38; total time=   0.1s\n",
      "[CV] END bootstrap=True, max_depth=46, max_features=auto, min_samples_leaf=4, min_samples_split=2, n_estimators=38; total time=   0.1s\n",
      "[CV] END bootstrap=False, max_depth=10, max_features=sqrt, min_samples_leaf=4, min_samples_split=6, n_estimators=47; total time=   0.1s\n",
      "[CV] END bootstrap=False, max_depth=10, max_features=sqrt, min_samples_leaf=4, min_samples_split=6, n_estimators=47; total time=   0.1s\n",
      "[CV] END bootstrap=False, max_depth=71, max_features=auto, min_samples_leaf=1, min_samples_split=10, n_estimators=65; total time=   0.2s\n",
      "[CV] END bootstrap=False, max_depth=71, max_features=auto, min_samples_leaf=1, min_samples_split=10, n_estimators=65; total time=   0.2s\n",
      "[CV] END bootstrap=True, max_depth=95, max_features=auto, min_samples_leaf=4, min_samples_split=6, n_estimators=56; total time=   0.1s\n",
      "[CV] END bootstrap=True, max_depth=95, max_features=auto, min_samples_leaf=4, min_samples_split=6, n_estimators=56; total time=   0.2s\n",
      "[CV] END bootstrap=True, max_depth=71, max_features=auto, min_samples_leaf=3, min_samples_split=6, n_estimators=65; total time=   0.2s\n",
      "[CV] END bootstrap=True, max_depth=71, max_features=auto, min_samples_leaf=3, min_samples_split=6, n_estimators=65; total time=   0.2s\n",
      "[CV] END bootstrap=False, max_depth=95, max_features=sqrt, min_samples_leaf=1, min_samples_split=10, n_estimators=56; total time=   0.2s\n",
      "[CV] END bootstrap=False, max_depth=95, max_features=sqrt, min_samples_leaf=1, min_samples_split=10, n_estimators=56; total time=   0.2s\n",
      "[CV] END bootstrap=True, max_depth=58, max_features=auto, min_samples_leaf=4, min_samples_split=10, n_estimators=38; total time=   0.1s\n",
      "[CV] END bootstrap=True, max_depth=58, max_features=auto, min_samples_leaf=4, min_samples_split=10, n_estimators=38; total time=   0.1s\n",
      "[CV] END bootstrap=True, max_depth=120, max_features=sqrt, min_samples_leaf=3, min_samples_split=10, n_estimators=52; total time=   0.2s\n",
      "[CV] END bootstrap=True, max_depth=120, max_features=sqrt, min_samples_leaf=3, min_samples_split=10, n_estimators=52; total time=   0.2s\n",
      "[CV] END bootstrap=True, max_depth=10, max_features=auto, min_samples_leaf=4, min_samples_split=6, n_estimators=30; total time=   0.1s\n",
      "[CV] END bootstrap=True, max_depth=10, max_features=auto, min_samples_leaf=4, min_samples_split=6, n_estimators=30; total time=   0.1s\n",
      "[CV] END bootstrap=True, max_depth=34, max_features=auto, min_samples_leaf=4, min_samples_split=10, n_estimators=43; total time=   0.1s\n",
      "[CV] END bootstrap=True, max_depth=34, max_features=auto, min_samples_leaf=4, min_samples_split=10, n_estimators=43; total time=   0.1s\n",
      "[CV] END bootstrap=False, max_depth=34, max_features=sqrt, min_samples_leaf=4, min_samples_split=6, n_estimators=70; total time=   0.2s\n",
      "[CV] END bootstrap=False, max_depth=34, max_features=sqrt, min_samples_leaf=4, min_samples_split=6, n_estimators=70; total time=   0.2s\n",
      "[CV] END bootstrap=False, max_depth=46, max_features=sqrt, min_samples_leaf=1, min_samples_split=10, n_estimators=43; total time=   0.2s\n",
      "[CV] END bootstrap=False, max_depth=46, max_features=sqrt, min_samples_leaf=1, min_samples_split=10, n_estimators=43; total time=   0.2s\n",
      "[CV] END bootstrap=True, max_depth=71, max_features=sqrt, min_samples_leaf=4, min_samples_split=6, n_estimators=61; total time=   0.2s\n",
      "[CV] END bootstrap=True, max_depth=71, max_features=sqrt, min_samples_leaf=4, min_samples_split=6, n_estimators=61; total time=   0.2s\n",
      "[CV] END bootstrap=False, max_depth=58, max_features=sqrt, min_samples_leaf=1, min_samples_split=10, n_estimators=56; total time=   0.2s\n",
      "[CV] END bootstrap=False, max_depth=58, max_features=sqrt, min_samples_leaf=1, min_samples_split=10, n_estimators=56; total time=   0.2s\n",
      "[CV] END bootstrap=False, max_depth=71, max_features=auto, min_samples_leaf=4, min_samples_split=6, n_estimators=38; total time=   0.1s\n",
      "[CV] END bootstrap=False, max_depth=71, max_features=auto, min_samples_leaf=4, min_samples_split=6, n_estimators=38; total time=   0.1s\n",
      "[CV] END bootstrap=False, max_depth=34, max_features=sqrt, min_samples_leaf=4, min_samples_split=10, n_estimators=47; total time=   0.2s\n",
      "[CV] END bootstrap=False, max_depth=34, max_features=sqrt, min_samples_leaf=4, min_samples_split=10, n_estimators=47; total time=   0.2s\n",
      "[CV] END bootstrap=False, max_depth=34, max_features=sqrt, min_samples_leaf=3, min_samples_split=2, n_estimators=38; total time=   0.1s\n",
      "[CV] END bootstrap=False, max_depth=34, max_features=sqrt, min_samples_leaf=3, min_samples_split=2, n_estimators=38; total time=   0.1s\n",
      "[CV] END bootstrap=True, max_depth=95, max_features=sqrt, min_samples_leaf=4, min_samples_split=2, n_estimators=47; total time=   0.1s\n",
      "[CV] END bootstrap=True, max_depth=95, max_features=sqrt, min_samples_leaf=4, min_samples_split=2, n_estimators=47; total time=   0.1s\n",
      "[CV] END bootstrap=True, max_depth=46, max_features=auto, min_samples_leaf=4, min_samples_split=2, n_estimators=52; total time=   0.2s\n",
      "[CV] END bootstrap=True, max_depth=46, max_features=auto, min_samples_leaf=4, min_samples_split=2, n_estimators=52; total time=   0.2s\n",
      "[CV] END bootstrap=True, max_depth=22, max_features=sqrt, min_samples_leaf=1, min_samples_split=10, n_estimators=34; total time=   0.1s\n",
      "[CV] END bootstrap=True, max_depth=22, max_features=sqrt, min_samples_leaf=1, min_samples_split=10, n_estimators=34; total time=   0.1s\n",
      "[CV] END bootstrap=True, max_depth=46, max_features=auto, min_samples_leaf=1, min_samples_split=10, n_estimators=47; total time=   0.1s\n",
      "[CV] END bootstrap=True, max_depth=46, max_features=auto, min_samples_leaf=1, min_samples_split=10, n_estimators=47; total time=   0.1s\n",
      "[CV] END bootstrap=False, max_depth=58, max_features=auto, min_samples_leaf=3, min_samples_split=6, n_estimators=61; total time=   0.2s\n",
      "[CV] END bootstrap=False, max_depth=58, max_features=auto, min_samples_leaf=3, min_samples_split=6, n_estimators=61; total time=   0.2s\n",
      "[CV] END bootstrap=False, max_depth=120, max_features=sqrt, min_samples_leaf=4, min_samples_split=6, n_estimators=34; total time=   0.1s\n",
      "[CV] END bootstrap=False, max_depth=120, max_features=sqrt, min_samples_leaf=4, min_samples_split=6, n_estimators=34; total time=   0.1s\n",
      "[CV] END bootstrap=True, max_depth=83, max_features=auto, min_samples_leaf=1, min_samples_split=10, n_estimators=56; total time=   0.2s\n",
      "[CV] END bootstrap=True, max_depth=83, max_features=auto, min_samples_leaf=1, min_samples_split=10, n_estimators=56; total time=   0.2s\n",
      "[CV] END bootstrap=False, max_depth=46, max_features=auto, min_samples_leaf=3, min_samples_split=6, n_estimators=47; total time=   0.2s\n",
      "[CV] END bootstrap=False, max_depth=46, max_features=auto, min_samples_leaf=3, min_samples_split=6, n_estimators=47; total time=   0.2s\n",
      "[CV] END bootstrap=True, max_depth=46, max_features=auto, min_samples_leaf=1, min_samples_split=6, n_estimators=34; total time=   0.1s\n",
      "[CV] END bootstrap=True, max_depth=46, max_features=auto, min_samples_leaf=1, min_samples_split=6, n_estimators=34; total time=   0.1s\n",
      "[CV] END bootstrap=True, max_depth=83, max_features=sqrt, min_samples_leaf=4, min_samples_split=2, n_estimators=56; total time=   0.2s\n",
      "[CV] END bootstrap=True, max_depth=83, max_features=sqrt, min_samples_leaf=4, min_samples_split=2, n_estimators=56; total time=   0.2s\n",
      "[CV] END bootstrap=True, max_depth=107, max_features=sqrt, min_samples_leaf=3, min_samples_split=6, n_estimators=38; total time=   0.1s\n",
      "[CV] END bootstrap=True, max_depth=107, max_features=sqrt, min_samples_leaf=3, min_samples_split=6, n_estimators=38; total time=   0.1s\n"
     ]
    }
   ],
   "source": [
    "# Время начала\n",
    "start = dt.datetime.now()\n",
    "\n",
    "# Формируем параметры, которые будем проверять\n",
    "param_RF = {'n_estimators': [int(x) for x in np.linspace(start=30, stop=70, num=10)],\n",
    "            'max_features': ['auto', 'sqrt'],\n",
    "            'max_depth': [int(x) for x in np.linspace(10, 120, num = 10)],\n",
    "            'min_samples_split': [2, 6, 10],\n",
    "            'min_samples_leaf': [1, 3, 4],\n",
    "            'bootstrap': [True, False]}\n",
    "\n",
    "# Инициализируем модель случайного леса\n",
    "model_RF = RandomForestClassifier(random_state=seed)\n",
    "\n",
    "# Подготавливаем случайный поиск\n",
    "random_search_RF = RandomizedSearchCV(estimator=model_RF,\n",
    "                                param_distributions = param_RF,\n",
    "                                n_iter=100, cv=2, verbose=2, random_state=seed, n_jobs=-1)\n",
    "# Тренируем\n",
    "random_search_RF.fit(features_train, target_train)\n",
    "\n",
    "# Время окончания\n",
    "stop = dt.datetime.now()"
   ]
  },
  {
   "cell_type": "code",
   "execution_count": 27,
   "metadata": {},
   "outputs": [
    {
     "name": "stdout",
     "output_type": "stream",
     "text": [
      "Время подбора параметров: 0:00:32.830348\n",
      "Лучшие гиперпараметры: {'n_estimators': 43, 'min_samples_split': 10, 'min_samples_leaf': 3, 'max_features': 'sqrt', 'max_depth': 95, 'bootstrap': True}\n",
      "Лучшая accuracy: 0.8082\n"
     ]
    }
   ],
   "source": [
    "print('Время подбора параметров:', stop-start)\n",
    "print('Лучшие гиперпараметры:', random_search_RF.best_params_)\n",
    "print('Лучшая accuracy:', round(random_search_RF.best_score_, 4))"
   ]
  },
  {
   "cell_type": "markdown",
   "metadata": {},
   "source": [
    "Случайный поиск нашел модель с правильностью ответов **80.82%**, у которой след. гиперпараметры:\n",
    "- n_estimators: 43,\n",
    "- min_samples_split: 10,\n",
    "- min_samples_leaf: 3,\n",
    "- max_features: 'sqrt',\n",
    "- max_depth: 95,\n",
    "- bootstrap: True\n",
    "\n",
    "Время подбора составило **30** секунды"
   ]
  },
  {
   "cell_type": "code",
   "execution_count": 28,
   "metadata": {},
   "outputs": [],
   "source": [
    "# Фиксируем результат\n",
    "model_RF = RandomForestClassifier(random_state=seed, n_estimators=43, min_samples_split=10,\n",
    "                    min_samples_leaf=3, max_features='sqrt', max_depth=95, bootstrap=True)\n",
    "model_RF.fit(features_train, target_train)\n",
    "models_characteristics.loc['Случайный лес (случайный поиск)'] = [model_RF, dt.time(0,0,31), .8082]"
   ]
  },
  {
   "cell_type": "code",
   "execution_count": 29,
   "metadata": {},
   "outputs": [],
   "source": [
    "# Время начала\n",
    "start = dt.datetime.now()\n",
    "\n",
    "# Ограничим список параметров, иначе обучение будет очень долгим\n",
    "param_RF = { 'n_estimators': range (30, 100, 10),\n",
    "              'max_depth': range (10,21, 5)}\n",
    "\n",
    "# Создаем модель\n",
    "model_RF = RandomForestClassifier(random_state=seed)\n",
    "\n",
    "# Запускаем обучение\n",
    "grid_RF = GridSearchCV(model_RF, param_RF, cv=5)\n",
    "grid_RF.fit(features_train, target_train)\n",
    "\n",
    "# Время окончания\n",
    "stop = dt.datetime.now()"
   ]
  },
  {
   "cell_type": "code",
   "execution_count": 30,
   "metadata": {},
   "outputs": [
    {
     "name": "stdout",
     "output_type": "stream",
     "text": [
      "Время подбора параметров: 0:00:23.427196\n",
      "Лучшие гиперпараметры: {'max_depth': 10, 'n_estimators': 80}\n",
      "Лучшая accuracy: 0.8055\n"
     ]
    }
   ],
   "source": [
    "print('Время подбора параметров:', stop-start)\n",
    "print('Лучшие гиперпараметры:', grid_RF.best_params_)\n",
    "print('Лучшая accuracy:', round(grid_RF.best_score_, 4))"
   ]
  },
  {
   "cell_type": "markdown",
   "metadata": {},
   "source": [
    "В результате наилучшую правильность показала модель с **80** деревьями и глубиной **10**\n",
    "\n",
    "Её accuracy составляет **80.55%**\n",
    "\n",
    "Конечно, это не предел. Есть множество других параметров, которые также можно перебрать, но это займет гораздо больше времени"
   ]
  },
  {
   "cell_type": "code",
   "execution_count": 31,
   "metadata": {},
   "outputs": [],
   "source": [
    "# Фиксируем результат\n",
    "model_RF = RandomForestClassifier(random_state=seed, n_estimators=80, max_depth=10)\n",
    "model_RF.fit(features_train, target_train)\n",
    "models_characteristics.loc['Случайный лес (Поиск по сетке)'] = [model_RF, dt.time(0,1,51), .8055]"
   ]
  },
  {
   "cell_type": "markdown",
   "metadata": {},
   "source": [
    "### Логистическая регрессия"
   ]
  },
  {
   "cell_type": "code",
   "execution_count": 32,
   "metadata": {},
   "outputs": [],
   "source": [
    "# Импортируем структуру данных логистической регрессии\n",
    "from sklearn.linear_model import LogisticRegression "
   ]
  },
  {
   "cell_type": "markdown",
   "metadata": {},
   "source": [
    "Для логистической регрессии сделаем перебор по двум основным параметрам:\n",
    "- **solver**: 'newton-cg', 'lbfgs', 'liblinear', 'sag', 'saga'\n",
    "- **max_iter**, от значения по умолчанию (100) до 5000"
   ]
  },
  {
   "cell_type": "code",
   "execution_count": 33,
   "metadata": {
    "scrolled": true
   },
   "outputs": [
    {
     "name": "stderr",
     "output_type": "stream",
     "text": [
      "/opt/conda/lib/python3.9/site-packages/sklearn/linear_model/_sag.py:328: ConvergenceWarning: The max_iter was reached which means the coef_ did not converge\n",
      "  warnings.warn(\"The max_iter was reached which means \"\n",
      "/opt/conda/lib/python3.9/site-packages/sklearn/linear_model/_sag.py:328: ConvergenceWarning: The max_iter was reached which means the coef_ did not converge\n",
      "  warnings.warn(\"The max_iter was reached which means \"\n",
      "/opt/conda/lib/python3.9/site-packages/sklearn/linear_model/_sag.py:328: ConvergenceWarning: The max_iter was reached which means the coef_ did not converge\n",
      "  warnings.warn(\"The max_iter was reached which means \"\n",
      "/opt/conda/lib/python3.9/site-packages/sklearn/linear_model/_sag.py:328: ConvergenceWarning: The max_iter was reached which means the coef_ did not converge\n",
      "  warnings.warn(\"The max_iter was reached which means \"\n",
      "/opt/conda/lib/python3.9/site-packages/sklearn/linear_model/_sag.py:328: ConvergenceWarning: The max_iter was reached which means the coef_ did not converge\n",
      "  warnings.warn(\"The max_iter was reached which means \"\n",
      "/opt/conda/lib/python3.9/site-packages/sklearn/linear_model/_sag.py:328: ConvergenceWarning: The max_iter was reached which means the coef_ did not converge\n",
      "  warnings.warn(\"The max_iter was reached which means \"\n",
      "/opt/conda/lib/python3.9/site-packages/sklearn/linear_model/_sag.py:328: ConvergenceWarning: The max_iter was reached which means the coef_ did not converge\n",
      "  warnings.warn(\"The max_iter was reached which means \"\n",
      "/opt/conda/lib/python3.9/site-packages/sklearn/linear_model/_sag.py:328: ConvergenceWarning: The max_iter was reached which means the coef_ did not converge\n",
      "  warnings.warn(\"The max_iter was reached which means \"\n",
      "/opt/conda/lib/python3.9/site-packages/sklearn/linear_model/_sag.py:328: ConvergenceWarning: The max_iter was reached which means the coef_ did not converge\n",
      "  warnings.warn(\"The max_iter was reached which means \"\n",
      "/opt/conda/lib/python3.9/site-packages/sklearn/linear_model/_sag.py:328: ConvergenceWarning: The max_iter was reached which means the coef_ did not converge\n",
      "  warnings.warn(\"The max_iter was reached which means \"\n",
      "/opt/conda/lib/python3.9/site-packages/sklearn/linear_model/_sag.py:328: ConvergenceWarning: The max_iter was reached which means the coef_ did not converge\n",
      "  warnings.warn(\"The max_iter was reached which means \"\n",
      "/opt/conda/lib/python3.9/site-packages/sklearn/linear_model/_sag.py:328: ConvergenceWarning: The max_iter was reached which means the coef_ did not converge\n",
      "  warnings.warn(\"The max_iter was reached which means \"\n",
      "/opt/conda/lib/python3.9/site-packages/sklearn/linear_model/_sag.py:328: ConvergenceWarning: The max_iter was reached which means the coef_ did not converge\n",
      "  warnings.warn(\"The max_iter was reached which means \"\n",
      "/opt/conda/lib/python3.9/site-packages/sklearn/linear_model/_sag.py:328: ConvergenceWarning: The max_iter was reached which means the coef_ did not converge\n",
      "  warnings.warn(\"The max_iter was reached which means \"\n",
      "/opt/conda/lib/python3.9/site-packages/sklearn/linear_model/_sag.py:328: ConvergenceWarning: The max_iter was reached which means the coef_ did not converge\n",
      "  warnings.warn(\"The max_iter was reached which means \"\n",
      "/opt/conda/lib/python3.9/site-packages/sklearn/linear_model/_sag.py:328: ConvergenceWarning: The max_iter was reached which means the coef_ did not converge\n",
      "  warnings.warn(\"The max_iter was reached which means \"\n",
      "/opt/conda/lib/python3.9/site-packages/sklearn/linear_model/_sag.py:328: ConvergenceWarning: The max_iter was reached which means the coef_ did not converge\n",
      "  warnings.warn(\"The max_iter was reached which means \"\n",
      "/opt/conda/lib/python3.9/site-packages/sklearn/linear_model/_sag.py:328: ConvergenceWarning: The max_iter was reached which means the coef_ did not converge\n",
      "  warnings.warn(\"The max_iter was reached which means \"\n",
      "/opt/conda/lib/python3.9/site-packages/sklearn/linear_model/_sag.py:328: ConvergenceWarning: The max_iter was reached which means the coef_ did not converge\n",
      "  warnings.warn(\"The max_iter was reached which means \"\n",
      "/opt/conda/lib/python3.9/site-packages/sklearn/linear_model/_sag.py:328: ConvergenceWarning: The max_iter was reached which means the coef_ did not converge\n",
      "  warnings.warn(\"The max_iter was reached which means \"\n",
      "/opt/conda/lib/python3.9/site-packages/sklearn/linear_model/_sag.py:328: ConvergenceWarning: The max_iter was reached which means the coef_ did not converge\n",
      "  warnings.warn(\"The max_iter was reached which means \"\n",
      "/opt/conda/lib/python3.9/site-packages/sklearn/linear_model/_sag.py:328: ConvergenceWarning: The max_iter was reached which means the coef_ did not converge\n",
      "  warnings.warn(\"The max_iter was reached which means \"\n",
      "/opt/conda/lib/python3.9/site-packages/sklearn/linear_model/_sag.py:328: ConvergenceWarning: The max_iter was reached which means the coef_ did not converge\n",
      "  warnings.warn(\"The max_iter was reached which means \"\n",
      "/opt/conda/lib/python3.9/site-packages/sklearn/linear_model/_sag.py:328: ConvergenceWarning: The max_iter was reached which means the coef_ did not converge\n",
      "  warnings.warn(\"The max_iter was reached which means \"\n",
      "/opt/conda/lib/python3.9/site-packages/sklearn/linear_model/_sag.py:328: ConvergenceWarning: The max_iter was reached which means the coef_ did not converge\n",
      "  warnings.warn(\"The max_iter was reached which means \"\n",
      "/opt/conda/lib/python3.9/site-packages/sklearn/linear_model/_sag.py:328: ConvergenceWarning: The max_iter was reached which means the coef_ did not converge\n",
      "  warnings.warn(\"The max_iter was reached which means \"\n",
      "/opt/conda/lib/python3.9/site-packages/sklearn/linear_model/_sag.py:328: ConvergenceWarning: The max_iter was reached which means the coef_ did not converge\n",
      "  warnings.warn(\"The max_iter was reached which means \"\n",
      "/opt/conda/lib/python3.9/site-packages/sklearn/linear_model/_sag.py:328: ConvergenceWarning: The max_iter was reached which means the coef_ did not converge\n",
      "  warnings.warn(\"The max_iter was reached which means \"\n",
      "/opt/conda/lib/python3.9/site-packages/sklearn/linear_model/_sag.py:328: ConvergenceWarning: The max_iter was reached which means the coef_ did not converge\n",
      "  warnings.warn(\"The max_iter was reached which means \"\n",
      "/opt/conda/lib/python3.9/site-packages/sklearn/linear_model/_sag.py:328: ConvergenceWarning: The max_iter was reached which means the coef_ did not converge\n",
      "  warnings.warn(\"The max_iter was reached which means \"\n",
      "/opt/conda/lib/python3.9/site-packages/sklearn/linear_model/_sag.py:328: ConvergenceWarning: The max_iter was reached which means the coef_ did not converge\n",
      "  warnings.warn(\"The max_iter was reached which means \"\n",
      "/opt/conda/lib/python3.9/site-packages/sklearn/linear_model/_sag.py:328: ConvergenceWarning: The max_iter was reached which means the coef_ did not converge\n",
      "  warnings.warn(\"The max_iter was reached which means \"\n",
      "/opt/conda/lib/python3.9/site-packages/sklearn/linear_model/_sag.py:328: ConvergenceWarning: The max_iter was reached which means the coef_ did not converge\n",
      "  warnings.warn(\"The max_iter was reached which means \"\n",
      "/opt/conda/lib/python3.9/site-packages/sklearn/linear_model/_sag.py:328: ConvergenceWarning: The max_iter was reached which means the coef_ did not converge\n",
      "  warnings.warn(\"The max_iter was reached which means \"\n",
      "/opt/conda/lib/python3.9/site-packages/sklearn/linear_model/_sag.py:328: ConvergenceWarning: The max_iter was reached which means the coef_ did not converge\n",
      "  warnings.warn(\"The max_iter was reached which means \"\n",
      "/opt/conda/lib/python3.9/site-packages/sklearn/linear_model/_sag.py:328: ConvergenceWarning: The max_iter was reached which means the coef_ did not converge\n",
      "  warnings.warn(\"The max_iter was reached which means \"\n",
      "/opt/conda/lib/python3.9/site-packages/sklearn/linear_model/_sag.py:328: ConvergenceWarning: The max_iter was reached which means the coef_ did not converge\n",
      "  warnings.warn(\"The max_iter was reached which means \"\n",
      "/opt/conda/lib/python3.9/site-packages/sklearn/linear_model/_sag.py:328: ConvergenceWarning: The max_iter was reached which means the coef_ did not converge\n",
      "  warnings.warn(\"The max_iter was reached which means \"\n",
      "/opt/conda/lib/python3.9/site-packages/sklearn/linear_model/_sag.py:328: ConvergenceWarning: The max_iter was reached which means the coef_ did not converge\n",
      "  warnings.warn(\"The max_iter was reached which means \"\n",
      "/opt/conda/lib/python3.9/site-packages/sklearn/linear_model/_sag.py:328: ConvergenceWarning: The max_iter was reached which means the coef_ did not converge\n",
      "  warnings.warn(\"The max_iter was reached which means \"\n",
      "/opt/conda/lib/python3.9/site-packages/sklearn/linear_model/_sag.py:328: ConvergenceWarning: The max_iter was reached which means the coef_ did not converge\n",
      "  warnings.warn(\"The max_iter was reached which means \"\n",
      "/opt/conda/lib/python3.9/site-packages/sklearn/linear_model/_sag.py:328: ConvergenceWarning: The max_iter was reached which means the coef_ did not converge\n",
      "  warnings.warn(\"The max_iter was reached which means \"\n",
      "/opt/conda/lib/python3.9/site-packages/sklearn/linear_model/_sag.py:328: ConvergenceWarning: The max_iter was reached which means the coef_ did not converge\n",
      "  warnings.warn(\"The max_iter was reached which means \"\n",
      "/opt/conda/lib/python3.9/site-packages/sklearn/linear_model/_sag.py:328: ConvergenceWarning: The max_iter was reached which means the coef_ did not converge\n",
      "  warnings.warn(\"The max_iter was reached which means \"\n",
      "/opt/conda/lib/python3.9/site-packages/sklearn/linear_model/_sag.py:328: ConvergenceWarning: The max_iter was reached which means the coef_ did not converge\n",
      "  warnings.warn(\"The max_iter was reached which means \"\n",
      "/opt/conda/lib/python3.9/site-packages/sklearn/linear_model/_sag.py:328: ConvergenceWarning: The max_iter was reached which means the coef_ did not converge\n",
      "  warnings.warn(\"The max_iter was reached which means \"\n",
      "/opt/conda/lib/python3.9/site-packages/sklearn/linear_model/_sag.py:328: ConvergenceWarning: The max_iter was reached which means the coef_ did not converge\n",
      "  warnings.warn(\"The max_iter was reached which means \"\n",
      "/opt/conda/lib/python3.9/site-packages/sklearn/linear_model/_sag.py:328: ConvergenceWarning: The max_iter was reached which means the coef_ did not converge\n",
      "  warnings.warn(\"The max_iter was reached which means \"\n",
      "/opt/conda/lib/python3.9/site-packages/sklearn/linear_model/_sag.py:328: ConvergenceWarning: The max_iter was reached which means the coef_ did not converge\n",
      "  warnings.warn(\"The max_iter was reached which means \"\n",
      "/opt/conda/lib/python3.9/site-packages/sklearn/linear_model/_sag.py:328: ConvergenceWarning: The max_iter was reached which means the coef_ did not converge\n",
      "  warnings.warn(\"The max_iter was reached which means \"\n",
      "/opt/conda/lib/python3.9/site-packages/sklearn/linear_model/_sag.py:328: ConvergenceWarning: The max_iter was reached which means the coef_ did not converge\n",
      "  warnings.warn(\"The max_iter was reached which means \"\n",
      "/opt/conda/lib/python3.9/site-packages/sklearn/linear_model/_sag.py:328: ConvergenceWarning: The max_iter was reached which means the coef_ did not converge\n",
      "  warnings.warn(\"The max_iter was reached which means \"\n",
      "/opt/conda/lib/python3.9/site-packages/sklearn/linear_model/_sag.py:328: ConvergenceWarning: The max_iter was reached which means the coef_ did not converge\n",
      "  warnings.warn(\"The max_iter was reached which means \"\n",
      "/opt/conda/lib/python3.9/site-packages/sklearn/linear_model/_sag.py:328: ConvergenceWarning: The max_iter was reached which means the coef_ did not converge\n",
      "  warnings.warn(\"The max_iter was reached which means \"\n",
      "/opt/conda/lib/python3.9/site-packages/sklearn/linear_model/_sag.py:328: ConvergenceWarning: The max_iter was reached which means the coef_ did not converge\n",
      "  warnings.warn(\"The max_iter was reached which means \"\n",
      "/opt/conda/lib/python3.9/site-packages/sklearn/linear_model/_sag.py:328: ConvergenceWarning: The max_iter was reached which means the coef_ did not converge\n",
      "  warnings.warn(\"The max_iter was reached which means \"\n",
      "/opt/conda/lib/python3.9/site-packages/sklearn/linear_model/_sag.py:328: ConvergenceWarning: The max_iter was reached which means the coef_ did not converge\n",
      "  warnings.warn(\"The max_iter was reached which means \"\n",
      "/opt/conda/lib/python3.9/site-packages/sklearn/linear_model/_sag.py:328: ConvergenceWarning: The max_iter was reached which means the coef_ did not converge\n",
      "  warnings.warn(\"The max_iter was reached which means \"\n",
      "/opt/conda/lib/python3.9/site-packages/sklearn/linear_model/_sag.py:328: ConvergenceWarning: The max_iter was reached which means the coef_ did not converge\n",
      "  warnings.warn(\"The max_iter was reached which means \"\n",
      "/opt/conda/lib/python3.9/site-packages/sklearn/linear_model/_sag.py:328: ConvergenceWarning: The max_iter was reached which means the coef_ did not converge\n",
      "  warnings.warn(\"The max_iter was reached which means \"\n",
      "/opt/conda/lib/python3.9/site-packages/sklearn/linear_model/_sag.py:328: ConvergenceWarning: The max_iter was reached which means the coef_ did not converge\n",
      "  warnings.warn(\"The max_iter was reached which means \"\n",
      "/opt/conda/lib/python3.9/site-packages/sklearn/linear_model/_sag.py:328: ConvergenceWarning: The max_iter was reached which means the coef_ did not converge\n",
      "  warnings.warn(\"The max_iter was reached which means \"\n",
      "/opt/conda/lib/python3.9/site-packages/sklearn/linear_model/_sag.py:328: ConvergenceWarning: The max_iter was reached which means the coef_ did not converge\n",
      "  warnings.warn(\"The max_iter was reached which means \"\n",
      "/opt/conda/lib/python3.9/site-packages/sklearn/linear_model/_sag.py:328: ConvergenceWarning: The max_iter was reached which means the coef_ did not converge\n",
      "  warnings.warn(\"The max_iter was reached which means \"\n",
      "/opt/conda/lib/python3.9/site-packages/sklearn/linear_model/_sag.py:328: ConvergenceWarning: The max_iter was reached which means the coef_ did not converge\n",
      "  warnings.warn(\"The max_iter was reached which means \"\n",
      "/opt/conda/lib/python3.9/site-packages/sklearn/linear_model/_sag.py:328: ConvergenceWarning: The max_iter was reached which means the coef_ did not converge\n",
      "  warnings.warn(\"The max_iter was reached which means \"\n",
      "/opt/conda/lib/python3.9/site-packages/sklearn/linear_model/_sag.py:328: ConvergenceWarning: The max_iter was reached which means the coef_ did not converge\n",
      "  warnings.warn(\"The max_iter was reached which means \"\n",
      "/opt/conda/lib/python3.9/site-packages/sklearn/linear_model/_sag.py:328: ConvergenceWarning: The max_iter was reached which means the coef_ did not converge\n",
      "  warnings.warn(\"The max_iter was reached which means \"\n",
      "/opt/conda/lib/python3.9/site-packages/sklearn/linear_model/_sag.py:328: ConvergenceWarning: The max_iter was reached which means the coef_ did not converge\n",
      "  warnings.warn(\"The max_iter was reached which means \"\n",
      "/opt/conda/lib/python3.9/site-packages/sklearn/linear_model/_sag.py:328: ConvergenceWarning: The max_iter was reached which means the coef_ did not converge\n",
      "  warnings.warn(\"The max_iter was reached which means \"\n",
      "/opt/conda/lib/python3.9/site-packages/sklearn/linear_model/_sag.py:328: ConvergenceWarning: The max_iter was reached which means the coef_ did not converge\n",
      "  warnings.warn(\"The max_iter was reached which means \"\n",
      "/opt/conda/lib/python3.9/site-packages/sklearn/linear_model/_sag.py:328: ConvergenceWarning: The max_iter was reached which means the coef_ did not converge\n",
      "  warnings.warn(\"The max_iter was reached which means \"\n",
      "/opt/conda/lib/python3.9/site-packages/sklearn/linear_model/_sag.py:328: ConvergenceWarning: The max_iter was reached which means the coef_ did not converge\n",
      "  warnings.warn(\"The max_iter was reached which means \"\n",
      "/opt/conda/lib/python3.9/site-packages/sklearn/linear_model/_sag.py:328: ConvergenceWarning: The max_iter was reached which means the coef_ did not converge\n",
      "  warnings.warn(\"The max_iter was reached which means \"\n",
      "/opt/conda/lib/python3.9/site-packages/sklearn/linear_model/_sag.py:328: ConvergenceWarning: The max_iter was reached which means the coef_ did not converge\n",
      "  warnings.warn(\"The max_iter was reached which means \"\n",
      "/opt/conda/lib/python3.9/site-packages/sklearn/linear_model/_sag.py:328: ConvergenceWarning: The max_iter was reached which means the coef_ did not converge\n",
      "  warnings.warn(\"The max_iter was reached which means \"\n",
      "/opt/conda/lib/python3.9/site-packages/sklearn/linear_model/_sag.py:328: ConvergenceWarning: The max_iter was reached which means the coef_ did not converge\n",
      "  warnings.warn(\"The max_iter was reached which means \"\n",
      "/opt/conda/lib/python3.9/site-packages/sklearn/linear_model/_sag.py:328: ConvergenceWarning: The max_iter was reached which means the coef_ did not converge\n",
      "  warnings.warn(\"The max_iter was reached which means \"\n",
      "/opt/conda/lib/python3.9/site-packages/sklearn/linear_model/_sag.py:328: ConvergenceWarning: The max_iter was reached which means the coef_ did not converge\n",
      "  warnings.warn(\"The max_iter was reached which means \"\n",
      "/opt/conda/lib/python3.9/site-packages/sklearn/linear_model/_sag.py:328: ConvergenceWarning: The max_iter was reached which means the coef_ did not converge\n",
      "  warnings.warn(\"The max_iter was reached which means \"\n",
      "/opt/conda/lib/python3.9/site-packages/sklearn/linear_model/_sag.py:328: ConvergenceWarning: The max_iter was reached which means the coef_ did not converge\n",
      "  warnings.warn(\"The max_iter was reached which means \"\n",
      "/opt/conda/lib/python3.9/site-packages/sklearn/linear_model/_sag.py:328: ConvergenceWarning: The max_iter was reached which means the coef_ did not converge\n",
      "  warnings.warn(\"The max_iter was reached which means \"\n",
      "/opt/conda/lib/python3.9/site-packages/sklearn/linear_model/_sag.py:328: ConvergenceWarning: The max_iter was reached which means the coef_ did not converge\n",
      "  warnings.warn(\"The max_iter was reached which means \"\n",
      "/opt/conda/lib/python3.9/site-packages/sklearn/linear_model/_sag.py:328: ConvergenceWarning: The max_iter was reached which means the coef_ did not converge\n",
      "  warnings.warn(\"The max_iter was reached which means \"\n",
      "/opt/conda/lib/python3.9/site-packages/sklearn/linear_model/_sag.py:328: ConvergenceWarning: The max_iter was reached which means the coef_ did not converge\n",
      "  warnings.warn(\"The max_iter was reached which means \"\n",
      "/opt/conda/lib/python3.9/site-packages/sklearn/linear_model/_sag.py:328: ConvergenceWarning: The max_iter was reached which means the coef_ did not converge\n",
      "  warnings.warn(\"The max_iter was reached which means \"\n",
      "/opt/conda/lib/python3.9/site-packages/sklearn/linear_model/_sag.py:328: ConvergenceWarning: The max_iter was reached which means the coef_ did not converge\n",
      "  warnings.warn(\"The max_iter was reached which means \"\n",
      "/opt/conda/lib/python3.9/site-packages/sklearn/linear_model/_sag.py:328: ConvergenceWarning: The max_iter was reached which means the coef_ did not converge\n",
      "  warnings.warn(\"The max_iter was reached which means \"\n",
      "/opt/conda/lib/python3.9/site-packages/sklearn/linear_model/_sag.py:328: ConvergenceWarning: The max_iter was reached which means the coef_ did not converge\n",
      "  warnings.warn(\"The max_iter was reached which means \"\n",
      "/opt/conda/lib/python3.9/site-packages/sklearn/linear_model/_sag.py:328: ConvergenceWarning: The max_iter was reached which means the coef_ did not converge\n",
      "  warnings.warn(\"The max_iter was reached which means \"\n",
      "/opt/conda/lib/python3.9/site-packages/sklearn/linear_model/_sag.py:328: ConvergenceWarning: The max_iter was reached which means the coef_ did not converge\n",
      "  warnings.warn(\"The max_iter was reached which means \"\n",
      "/opt/conda/lib/python3.9/site-packages/sklearn/linear_model/_sag.py:328: ConvergenceWarning: The max_iter was reached which means the coef_ did not converge\n",
      "  warnings.warn(\"The max_iter was reached which means \"\n",
      "/opt/conda/lib/python3.9/site-packages/sklearn/linear_model/_sag.py:328: ConvergenceWarning: The max_iter was reached which means the coef_ did not converge\n",
      "  warnings.warn(\"The max_iter was reached which means \"\n",
      "/opt/conda/lib/python3.9/site-packages/sklearn/linear_model/_sag.py:328: ConvergenceWarning: The max_iter was reached which means the coef_ did not converge\n",
      "  warnings.warn(\"The max_iter was reached which means \"\n",
      "/opt/conda/lib/python3.9/site-packages/sklearn/linear_model/_sag.py:328: ConvergenceWarning: The max_iter was reached which means the coef_ did not converge\n",
      "  warnings.warn(\"The max_iter was reached which means \"\n",
      "/opt/conda/lib/python3.9/site-packages/sklearn/linear_model/_sag.py:328: ConvergenceWarning: The max_iter was reached which means the coef_ did not converge\n",
      "  warnings.warn(\"The max_iter was reached which means \"\n",
      "/opt/conda/lib/python3.9/site-packages/sklearn/linear_model/_sag.py:328: ConvergenceWarning: The max_iter was reached which means the coef_ did not converge\n",
      "  warnings.warn(\"The max_iter was reached which means \"\n",
      "/opt/conda/lib/python3.9/site-packages/sklearn/linear_model/_sag.py:328: ConvergenceWarning: The max_iter was reached which means the coef_ did not converge\n",
      "  warnings.warn(\"The max_iter was reached which means \"\n",
      "/opt/conda/lib/python3.9/site-packages/sklearn/linear_model/_sag.py:328: ConvergenceWarning: The max_iter was reached which means the coef_ did not converge\n",
      "  warnings.warn(\"The max_iter was reached which means \"\n",
      "/opt/conda/lib/python3.9/site-packages/sklearn/linear_model/_sag.py:328: ConvergenceWarning: The max_iter was reached which means the coef_ did not converge\n",
      "  warnings.warn(\"The max_iter was reached which means \"\n",
      "/opt/conda/lib/python3.9/site-packages/sklearn/linear_model/_sag.py:328: ConvergenceWarning: The max_iter was reached which means the coef_ did not converge\n",
      "  warnings.warn(\"The max_iter was reached which means \"\n",
      "/opt/conda/lib/python3.9/site-packages/sklearn/linear_model/_sag.py:328: ConvergenceWarning: The max_iter was reached which means the coef_ did not converge\n",
      "  warnings.warn(\"The max_iter was reached which means \"\n",
      "/opt/conda/lib/python3.9/site-packages/sklearn/linear_model/_sag.py:328: ConvergenceWarning: The max_iter was reached which means the coef_ did not converge\n",
      "  warnings.warn(\"The max_iter was reached which means \"\n",
      "/opt/conda/lib/python3.9/site-packages/sklearn/linear_model/_sag.py:328: ConvergenceWarning: The max_iter was reached which means the coef_ did not converge\n",
      "  warnings.warn(\"The max_iter was reached which means \"\n",
      "/opt/conda/lib/python3.9/site-packages/sklearn/linear_model/_sag.py:328: ConvergenceWarning: The max_iter was reached which means the coef_ did not converge\n",
      "  warnings.warn(\"The max_iter was reached which means \"\n",
      "/opt/conda/lib/python3.9/site-packages/sklearn/linear_model/_sag.py:328: ConvergenceWarning: The max_iter was reached which means the coef_ did not converge\n",
      "  warnings.warn(\"The max_iter was reached which means \"\n",
      "/opt/conda/lib/python3.9/site-packages/sklearn/linear_model/_sag.py:328: ConvergenceWarning: The max_iter was reached which means the coef_ did not converge\n",
      "  warnings.warn(\"The max_iter was reached which means \"\n",
      "/opt/conda/lib/python3.9/site-packages/sklearn/linear_model/_sag.py:328: ConvergenceWarning: The max_iter was reached which means the coef_ did not converge\n",
      "  warnings.warn(\"The max_iter was reached which means \"\n",
      "/opt/conda/lib/python3.9/site-packages/sklearn/linear_model/_sag.py:328: ConvergenceWarning: The max_iter was reached which means the coef_ did not converge\n",
      "  warnings.warn(\"The max_iter was reached which means \"\n",
      "/opt/conda/lib/python3.9/site-packages/sklearn/linear_model/_sag.py:328: ConvergenceWarning: The max_iter was reached which means the coef_ did not converge\n",
      "  warnings.warn(\"The max_iter was reached which means \"\n",
      "/opt/conda/lib/python3.9/site-packages/sklearn/linear_model/_sag.py:328: ConvergenceWarning: The max_iter was reached which means the coef_ did not converge\n",
      "  warnings.warn(\"The max_iter was reached which means \"\n",
      "/opt/conda/lib/python3.9/site-packages/sklearn/linear_model/_sag.py:328: ConvergenceWarning: The max_iter was reached which means the coef_ did not converge\n",
      "  warnings.warn(\"The max_iter was reached which means \"\n",
      "/opt/conda/lib/python3.9/site-packages/sklearn/linear_model/_sag.py:328: ConvergenceWarning: The max_iter was reached which means the coef_ did not converge\n",
      "  warnings.warn(\"The max_iter was reached which means \"\n",
      "/opt/conda/lib/python3.9/site-packages/sklearn/linear_model/_sag.py:328: ConvergenceWarning: The max_iter was reached which means the coef_ did not converge\n",
      "  warnings.warn(\"The max_iter was reached which means \"\n",
      "/opt/conda/lib/python3.9/site-packages/sklearn/linear_model/_sag.py:328: ConvergenceWarning: The max_iter was reached which means the coef_ did not converge\n",
      "  warnings.warn(\"The max_iter was reached which means \"\n",
      "/opt/conda/lib/python3.9/site-packages/sklearn/linear_model/_sag.py:328: ConvergenceWarning: The max_iter was reached which means the coef_ did not converge\n",
      "  warnings.warn(\"The max_iter was reached which means \"\n",
      "/opt/conda/lib/python3.9/site-packages/sklearn/linear_model/_sag.py:328: ConvergenceWarning: The max_iter was reached which means the coef_ did not converge\n",
      "  warnings.warn(\"The max_iter was reached which means \"\n",
      "/opt/conda/lib/python3.9/site-packages/sklearn/linear_model/_sag.py:328: ConvergenceWarning: The max_iter was reached which means the coef_ did not converge\n",
      "  warnings.warn(\"The max_iter was reached which means \"\n",
      "/opt/conda/lib/python3.9/site-packages/sklearn/linear_model/_sag.py:328: ConvergenceWarning: The max_iter was reached which means the coef_ did not converge\n",
      "  warnings.warn(\"The max_iter was reached which means \"\n",
      "/opt/conda/lib/python3.9/site-packages/sklearn/linear_model/_sag.py:328: ConvergenceWarning: The max_iter was reached which means the coef_ did not converge\n",
      "  warnings.warn(\"The max_iter was reached which means \"\n",
      "/opt/conda/lib/python3.9/site-packages/sklearn/linear_model/_sag.py:328: ConvergenceWarning: The max_iter was reached which means the coef_ did not converge\n",
      "  warnings.warn(\"The max_iter was reached which means \"\n",
      "/opt/conda/lib/python3.9/site-packages/sklearn/linear_model/_sag.py:328: ConvergenceWarning: The max_iter was reached which means the coef_ did not converge\n",
      "  warnings.warn(\"The max_iter was reached which means \"\n",
      "/opt/conda/lib/python3.9/site-packages/sklearn/linear_model/_sag.py:328: ConvergenceWarning: The max_iter was reached which means the coef_ did not converge\n",
      "  warnings.warn(\"The max_iter was reached which means \"\n",
      "/opt/conda/lib/python3.9/site-packages/sklearn/linear_model/_sag.py:328: ConvergenceWarning: The max_iter was reached which means the coef_ did not converge\n",
      "  warnings.warn(\"The max_iter was reached which means \"\n",
      "/opt/conda/lib/python3.9/site-packages/sklearn/linear_model/_sag.py:328: ConvergenceWarning: The max_iter was reached which means the coef_ did not converge\n",
      "  warnings.warn(\"The max_iter was reached which means \"\n",
      "/opt/conda/lib/python3.9/site-packages/sklearn/linear_model/_sag.py:328: ConvergenceWarning: The max_iter was reached which means the coef_ did not converge\n",
      "  warnings.warn(\"The max_iter was reached which means \"\n",
      "/opt/conda/lib/python3.9/site-packages/sklearn/linear_model/_sag.py:328: ConvergenceWarning: The max_iter was reached which means the coef_ did not converge\n",
      "  warnings.warn(\"The max_iter was reached which means \"\n",
      "/opt/conda/lib/python3.9/site-packages/sklearn/linear_model/_sag.py:328: ConvergenceWarning: The max_iter was reached which means the coef_ did not converge\n",
      "  warnings.warn(\"The max_iter was reached which means \"\n",
      "/opt/conda/lib/python3.9/site-packages/sklearn/linear_model/_sag.py:328: ConvergenceWarning: The max_iter was reached which means the coef_ did not converge\n",
      "  warnings.warn(\"The max_iter was reached which means \"\n",
      "/opt/conda/lib/python3.9/site-packages/sklearn/linear_model/_sag.py:328: ConvergenceWarning: The max_iter was reached which means the coef_ did not converge\n",
      "  warnings.warn(\"The max_iter was reached which means \"\n",
      "/opt/conda/lib/python3.9/site-packages/sklearn/linear_model/_sag.py:328: ConvergenceWarning: The max_iter was reached which means the coef_ did not converge\n",
      "  warnings.warn(\"The max_iter was reached which means \"\n",
      "/opt/conda/lib/python3.9/site-packages/sklearn/linear_model/_sag.py:328: ConvergenceWarning: The max_iter was reached which means the coef_ did not converge\n",
      "  warnings.warn(\"The max_iter was reached which means \"\n",
      "/opt/conda/lib/python3.9/site-packages/sklearn/linear_model/_sag.py:328: ConvergenceWarning: The max_iter was reached which means the coef_ did not converge\n",
      "  warnings.warn(\"The max_iter was reached which means \"\n",
      "/opt/conda/lib/python3.9/site-packages/scipy/optimize/_linesearch.py:456: LineSearchWarning: The line search algorithm did not converge\n",
      "  warn('The line search algorithm did not converge', LineSearchWarning)\n",
      "/opt/conda/lib/python3.9/site-packages/scipy/optimize/_linesearch.py:305: LineSearchWarning: The line search algorithm did not converge\n",
      "  warn('The line search algorithm did not converge', LineSearchWarning)\n"
     ]
    }
   ],
   "source": [
    "# Время начала\n",
    "start = dt.datetime.now()\n",
    "\n",
    "# Формируем словарь параметров\n",
    "param_LR = { 'solver': ['newton-cg', 'lbfgs', 'liblinear', 'sag', 'saga'],\n",
    "              'max_iter': range (100,5001,250)}\n",
    "\n",
    "# Создаем модель\n",
    "model_LR = LogisticRegression(random_state=seed)\n",
    "\n",
    "# Запускаем обучение\n",
    "grid_LR = GridSearchCV(model_LR, param_LR, cv=5)\n",
    "grid_LR.fit(features_train, target_train)\n",
    "\n",
    "# Время окончания\n",
    "stop = dt.datetime.now()"
   ]
  },
  {
   "cell_type": "code",
   "execution_count": 34,
   "metadata": {},
   "outputs": [
    {
     "name": "stdout",
     "output_type": "stream",
     "text": [
      "Время подбора параметров: 0:01:35.202749\n",
      "Лучшие гиперпараметры: {'max_iter': 100, 'solver': 'newton-cg'}\n",
      "Лучшая accuracy: 0.7437\n"
     ]
    }
   ],
   "source": [
    "print('Время подбора параметров:', stop-start)\n",
    "print('Лучшие гиперпараметры:', grid_LR.best_params_)\n",
    "print('Лучшая accuracy:', round(grid_LR.best_score_, 4))"
   ]
  },
  {
   "cell_type": "markdown",
   "metadata": {},
   "source": [
    "В результате лучшей оказалась модель с гиперпараметром **solver='newton-cg'** и **max_iter: 100**\n",
    "\n",
    "Её accuracy составляет **74%**"
   ]
  },
  {
   "cell_type": "code",
   "execution_count": 35,
   "metadata": {},
   "outputs": [
    {
     "name": "stderr",
     "output_type": "stream",
     "text": [
      "/opt/conda/lib/python3.9/site-packages/scipy/optimize/_linesearch.py:456: LineSearchWarning: The line search algorithm did not converge\n",
      "  warn('The line search algorithm did not converge', LineSearchWarning)\n",
      "/opt/conda/lib/python3.9/site-packages/scipy/optimize/_linesearch.py:305: LineSearchWarning: The line search algorithm did not converge\n",
      "  warn('The line search algorithm did not converge', LineSearchWarning)\n"
     ]
    }
   ],
   "source": [
    "# Фиксируем результат\n",
    "model_LR = LogisticRegression(random_state=seed, solver='newton-cg', max_iter=100)\n",
    "model_LR.fit(features_train, target_train)\n",
    "models_characteristics.loc['Логистическая регрессия'] = [model_LR, dt.time(0,1,43), .7422]"
   ]
  },
  {
   "cell_type": "markdown",
   "metadata": {},
   "source": [
    "### Машины опорных векторов"
   ]
  },
  {
   "cell_type": "code",
   "execution_count": 36,
   "metadata": {},
   "outputs": [],
   "source": [
    "# Импортируем структуру машины опорных векторов\n",
    "from sklearn.svm import LinearSVC"
   ]
  },
  {
   "cell_type": "code",
   "execution_count": 37,
   "metadata": {},
   "outputs": [
    {
     "name": "stderr",
     "output_type": "stream",
     "text": [
      "/opt/conda/lib/python3.9/site-packages/sklearn/svm/_base.py:985: ConvergenceWarning: Liblinear failed to converge, increase the number of iterations.\n",
      "  warnings.warn(\"Liblinear failed to converge, increase \"\n",
      "/opt/conda/lib/python3.9/site-packages/sklearn/svm/_base.py:985: ConvergenceWarning: Liblinear failed to converge, increase the number of iterations.\n",
      "  warnings.warn(\"Liblinear failed to converge, increase \"\n",
      "/opt/conda/lib/python3.9/site-packages/sklearn/svm/_base.py:985: ConvergenceWarning: Liblinear failed to converge, increase the number of iterations.\n",
      "  warnings.warn(\"Liblinear failed to converge, increase \"\n",
      "/opt/conda/lib/python3.9/site-packages/sklearn/svm/_base.py:985: ConvergenceWarning: Liblinear failed to converge, increase the number of iterations.\n",
      "  warnings.warn(\"Liblinear failed to converge, increase \"\n",
      "/opt/conda/lib/python3.9/site-packages/sklearn/svm/_base.py:985: ConvergenceWarning: Liblinear failed to converge, increase the number of iterations.\n",
      "  warnings.warn(\"Liblinear failed to converge, increase \"\n",
      "/opt/conda/lib/python3.9/site-packages/sklearn/svm/_base.py:985: ConvergenceWarning: Liblinear failed to converge, increase the number of iterations.\n",
      "  warnings.warn(\"Liblinear failed to converge, increase \"\n",
      "/opt/conda/lib/python3.9/site-packages/sklearn/svm/_base.py:985: ConvergenceWarning: Liblinear failed to converge, increase the number of iterations.\n",
      "  warnings.warn(\"Liblinear failed to converge, increase \"\n",
      "/opt/conda/lib/python3.9/site-packages/sklearn/svm/_base.py:985: ConvergenceWarning: Liblinear failed to converge, increase the number of iterations.\n",
      "  warnings.warn(\"Liblinear failed to converge, increase \"\n",
      "/opt/conda/lib/python3.9/site-packages/sklearn/svm/_base.py:985: ConvergenceWarning: Liblinear failed to converge, increase the number of iterations.\n",
      "  warnings.warn(\"Liblinear failed to converge, increase \"\n",
      "/opt/conda/lib/python3.9/site-packages/sklearn/svm/_base.py:985: ConvergenceWarning: Liblinear failed to converge, increase the number of iterations.\n",
      "  warnings.warn(\"Liblinear failed to converge, increase \"\n",
      "/opt/conda/lib/python3.9/site-packages/sklearn/svm/_base.py:985: ConvergenceWarning: Liblinear failed to converge, increase the number of iterations.\n",
      "  warnings.warn(\"Liblinear failed to converge, increase \"\n",
      "/opt/conda/lib/python3.9/site-packages/sklearn/svm/_base.py:985: ConvergenceWarning: Liblinear failed to converge, increase the number of iterations.\n",
      "  warnings.warn(\"Liblinear failed to converge, increase \"\n",
      "/opt/conda/lib/python3.9/site-packages/sklearn/svm/_base.py:985: ConvergenceWarning: Liblinear failed to converge, increase the number of iterations.\n",
      "  warnings.warn(\"Liblinear failed to converge, increase \"\n",
      "/opt/conda/lib/python3.9/site-packages/sklearn/svm/_base.py:985: ConvergenceWarning: Liblinear failed to converge, increase the number of iterations.\n",
      "  warnings.warn(\"Liblinear failed to converge, increase \"\n",
      "/opt/conda/lib/python3.9/site-packages/sklearn/svm/_base.py:985: ConvergenceWarning: Liblinear failed to converge, increase the number of iterations.\n",
      "  warnings.warn(\"Liblinear failed to converge, increase \"\n",
      "/opt/conda/lib/python3.9/site-packages/sklearn/svm/_base.py:985: ConvergenceWarning: Liblinear failed to converge, increase the number of iterations.\n",
      "  warnings.warn(\"Liblinear failed to converge, increase \"\n",
      "/opt/conda/lib/python3.9/site-packages/sklearn/svm/_base.py:985: ConvergenceWarning: Liblinear failed to converge, increase the number of iterations.\n",
      "  warnings.warn(\"Liblinear failed to converge, increase \"\n",
      "/opt/conda/lib/python3.9/site-packages/sklearn/svm/_base.py:985: ConvergenceWarning: Liblinear failed to converge, increase the number of iterations.\n",
      "  warnings.warn(\"Liblinear failed to converge, increase \"\n",
      "/opt/conda/lib/python3.9/site-packages/sklearn/svm/_base.py:985: ConvergenceWarning: Liblinear failed to converge, increase the number of iterations.\n",
      "  warnings.warn(\"Liblinear failed to converge, increase \"\n",
      "/opt/conda/lib/python3.9/site-packages/sklearn/svm/_base.py:985: ConvergenceWarning: Liblinear failed to converge, increase the number of iterations.\n",
      "  warnings.warn(\"Liblinear failed to converge, increase \"\n",
      "/opt/conda/lib/python3.9/site-packages/sklearn/svm/_base.py:985: ConvergenceWarning: Liblinear failed to converge, increase the number of iterations.\n",
      "  warnings.warn(\"Liblinear failed to converge, increase \"\n",
      "/opt/conda/lib/python3.9/site-packages/sklearn/svm/_base.py:985: ConvergenceWarning: Liblinear failed to converge, increase the number of iterations.\n",
      "  warnings.warn(\"Liblinear failed to converge, increase \"\n",
      "/opt/conda/lib/python3.9/site-packages/sklearn/svm/_base.py:985: ConvergenceWarning: Liblinear failed to converge, increase the number of iterations.\n",
      "  warnings.warn(\"Liblinear failed to converge, increase \"\n",
      "/opt/conda/lib/python3.9/site-packages/sklearn/svm/_base.py:985: ConvergenceWarning: Liblinear failed to converge, increase the number of iterations.\n",
      "  warnings.warn(\"Liblinear failed to converge, increase \"\n",
      "/opt/conda/lib/python3.9/site-packages/sklearn/svm/_base.py:985: ConvergenceWarning: Liblinear failed to converge, increase the number of iterations.\n",
      "  warnings.warn(\"Liblinear failed to converge, increase \"\n",
      "/opt/conda/lib/python3.9/site-packages/sklearn/svm/_base.py:985: ConvergenceWarning: Liblinear failed to converge, increase the number of iterations.\n",
      "  warnings.warn(\"Liblinear failed to converge, increase \"\n",
      "/opt/conda/lib/python3.9/site-packages/sklearn/svm/_base.py:985: ConvergenceWarning: Liblinear failed to converge, increase the number of iterations.\n",
      "  warnings.warn(\"Liblinear failed to converge, increase \"\n",
      "/opt/conda/lib/python3.9/site-packages/sklearn/svm/_base.py:985: ConvergenceWarning: Liblinear failed to converge, increase the number of iterations.\n",
      "  warnings.warn(\"Liblinear failed to converge, increase \"\n",
      "/opt/conda/lib/python3.9/site-packages/sklearn/svm/_base.py:985: ConvergenceWarning: Liblinear failed to converge, increase the number of iterations.\n",
      "  warnings.warn(\"Liblinear failed to converge, increase \"\n",
      "/opt/conda/lib/python3.9/site-packages/sklearn/svm/_base.py:985: ConvergenceWarning: Liblinear failed to converge, increase the number of iterations.\n",
      "  warnings.warn(\"Liblinear failed to converge, increase \"\n",
      "/opt/conda/lib/python3.9/site-packages/sklearn/model_selection/_validation.py:610: FitFailedWarning: Estimator fit failed. The score on this train-test partition for these parameters will be set to nan. Details: \n",
      "Traceback (most recent call last):\n",
      "  File \"/opt/conda/lib/python3.9/site-packages/sklearn/model_selection/_validation.py\", line 593, in _fit_and_score\n",
      "    estimator.fit(X_train, y_train, **fit_params)\n",
      "  File \"/opt/conda/lib/python3.9/site-packages/sklearn/svm/_classes.py\", line 234, in fit\n",
      "    self.coef_, self.intercept_, self.n_iter_ = _fit_liblinear(\n",
      "  File \"/opt/conda/lib/python3.9/site-packages/sklearn/svm/_base.py\", line 974, in _fit_liblinear\n",
      "    solver_type = _get_liblinear_solver_type(multi_class, penalty, loss, dual)\n",
      "  File \"/opt/conda/lib/python3.9/site-packages/sklearn/svm/_base.py\", line 830, in _get_liblinear_solver_type\n",
      "    raise ValueError('Unsupported set of arguments: %s, '\n",
      "ValueError: Unsupported set of arguments: The combination of penalty='l2' and loss='hinge' are not supported when dual=False, Parameters: penalty='l2', loss='hinge', dual=False\n",
      "\n",
      "  warnings.warn(\"Estimator fit failed. The score on this train-test\"\n",
      "/opt/conda/lib/python3.9/site-packages/sklearn/model_selection/_validation.py:610: FitFailedWarning: Estimator fit failed. The score on this train-test partition for these parameters will be set to nan. Details: \n",
      "Traceback (most recent call last):\n",
      "  File \"/opt/conda/lib/python3.9/site-packages/sklearn/model_selection/_validation.py\", line 593, in _fit_and_score\n",
      "    estimator.fit(X_train, y_train, **fit_params)\n",
      "  File \"/opt/conda/lib/python3.9/site-packages/sklearn/svm/_classes.py\", line 234, in fit\n",
      "    self.coef_, self.intercept_, self.n_iter_ = _fit_liblinear(\n",
      "  File \"/opt/conda/lib/python3.9/site-packages/sklearn/svm/_base.py\", line 974, in _fit_liblinear\n",
      "    solver_type = _get_liblinear_solver_type(multi_class, penalty, loss, dual)\n",
      "  File \"/opt/conda/lib/python3.9/site-packages/sklearn/svm/_base.py\", line 830, in _get_liblinear_solver_type\n",
      "    raise ValueError('Unsupported set of arguments: %s, '\n",
      "ValueError: Unsupported set of arguments: The combination of penalty='l2' and loss='hinge' are not supported when dual=False, Parameters: penalty='l2', loss='hinge', dual=False\n",
      "\n",
      "  warnings.warn(\"Estimator fit failed. The score on this train-test\"\n",
      "/opt/conda/lib/python3.9/site-packages/sklearn/model_selection/_validation.py:610: FitFailedWarning: Estimator fit failed. The score on this train-test partition for these parameters will be set to nan. Details: \n",
      "Traceback (most recent call last):\n",
      "  File \"/opt/conda/lib/python3.9/site-packages/sklearn/model_selection/_validation.py\", line 593, in _fit_and_score\n",
      "    estimator.fit(X_train, y_train, **fit_params)\n",
      "  File \"/opt/conda/lib/python3.9/site-packages/sklearn/svm/_classes.py\", line 234, in fit\n",
      "    self.coef_, self.intercept_, self.n_iter_ = _fit_liblinear(\n",
      "  File \"/opt/conda/lib/python3.9/site-packages/sklearn/svm/_base.py\", line 974, in _fit_liblinear\n",
      "    solver_type = _get_liblinear_solver_type(multi_class, penalty, loss, dual)\n",
      "  File \"/opt/conda/lib/python3.9/site-packages/sklearn/svm/_base.py\", line 830, in _get_liblinear_solver_type\n",
      "    raise ValueError('Unsupported set of arguments: %s, '\n",
      "ValueError: Unsupported set of arguments: The combination of penalty='l2' and loss='hinge' are not supported when dual=False, Parameters: penalty='l2', loss='hinge', dual=False\n",
      "\n",
      "  warnings.warn(\"Estimator fit failed. The score on this train-test\"\n",
      "/opt/conda/lib/python3.9/site-packages/sklearn/model_selection/_validation.py:610: FitFailedWarning: Estimator fit failed. The score on this train-test partition for these parameters will be set to nan. Details: \n",
      "Traceback (most recent call last):\n",
      "  File \"/opt/conda/lib/python3.9/site-packages/sklearn/model_selection/_validation.py\", line 593, in _fit_and_score\n",
      "    estimator.fit(X_train, y_train, **fit_params)\n",
      "  File \"/opt/conda/lib/python3.9/site-packages/sklearn/svm/_classes.py\", line 234, in fit\n",
      "    self.coef_, self.intercept_, self.n_iter_ = _fit_liblinear(\n",
      "  File \"/opt/conda/lib/python3.9/site-packages/sklearn/svm/_base.py\", line 974, in _fit_liblinear\n",
      "    solver_type = _get_liblinear_solver_type(multi_class, penalty, loss, dual)\n",
      "  File \"/opt/conda/lib/python3.9/site-packages/sklearn/svm/_base.py\", line 830, in _get_liblinear_solver_type\n",
      "    raise ValueError('Unsupported set of arguments: %s, '\n",
      "ValueError: Unsupported set of arguments: The combination of penalty='l2' and loss='hinge' are not supported when dual=False, Parameters: penalty='l2', loss='hinge', dual=False\n",
      "\n",
      "  warnings.warn(\"Estimator fit failed. The score on this train-test\"\n",
      "/opt/conda/lib/python3.9/site-packages/sklearn/model_selection/_validation.py:610: FitFailedWarning: Estimator fit failed. The score on this train-test partition for these parameters will be set to nan. Details: \n",
      "Traceback (most recent call last):\n",
      "  File \"/opt/conda/lib/python3.9/site-packages/sklearn/model_selection/_validation.py\", line 593, in _fit_and_score\n",
      "    estimator.fit(X_train, y_train, **fit_params)\n",
      "  File \"/opt/conda/lib/python3.9/site-packages/sklearn/svm/_classes.py\", line 234, in fit\n",
      "    self.coef_, self.intercept_, self.n_iter_ = _fit_liblinear(\n",
      "  File \"/opt/conda/lib/python3.9/site-packages/sklearn/svm/_base.py\", line 974, in _fit_liblinear\n",
      "    solver_type = _get_liblinear_solver_type(multi_class, penalty, loss, dual)\n",
      "  File \"/opt/conda/lib/python3.9/site-packages/sklearn/svm/_base.py\", line 830, in _get_liblinear_solver_type\n",
      "    raise ValueError('Unsupported set of arguments: %s, '\n",
      "ValueError: Unsupported set of arguments: The combination of penalty='l2' and loss='hinge' are not supported when dual=False, Parameters: penalty='l2', loss='hinge', dual=False\n",
      "\n",
      "  warnings.warn(\"Estimator fit failed. The score on this train-test\"\n",
      "/opt/conda/lib/python3.9/site-packages/sklearn/model_selection/_validation.py:610: FitFailedWarning: Estimator fit failed. The score on this train-test partition for these parameters will be set to nan. Details: \n",
      "Traceback (most recent call last):\n",
      "  File \"/opt/conda/lib/python3.9/site-packages/sklearn/model_selection/_validation.py\", line 593, in _fit_and_score\n",
      "    estimator.fit(X_train, y_train, **fit_params)\n",
      "  File \"/opt/conda/lib/python3.9/site-packages/sklearn/svm/_classes.py\", line 234, in fit\n",
      "    self.coef_, self.intercept_, self.n_iter_ = _fit_liblinear(\n",
      "  File \"/opt/conda/lib/python3.9/site-packages/sklearn/svm/_base.py\", line 974, in _fit_liblinear\n",
      "    solver_type = _get_liblinear_solver_type(multi_class, penalty, loss, dual)\n",
      "  File \"/opt/conda/lib/python3.9/site-packages/sklearn/svm/_base.py\", line 830, in _get_liblinear_solver_type\n",
      "    raise ValueError('Unsupported set of arguments: %s, '\n",
      "ValueError: Unsupported set of arguments: The combination of penalty='l2' and loss='hinge' are not supported when dual=False, Parameters: penalty='l2', loss='hinge', dual=False\n",
      "\n",
      "  warnings.warn(\"Estimator fit failed. The score on this train-test\"\n",
      "/opt/conda/lib/python3.9/site-packages/sklearn/model_selection/_validation.py:610: FitFailedWarning: Estimator fit failed. The score on this train-test partition for these parameters will be set to nan. Details: \n",
      "Traceback (most recent call last):\n",
      "  File \"/opt/conda/lib/python3.9/site-packages/sklearn/model_selection/_validation.py\", line 593, in _fit_and_score\n",
      "    estimator.fit(X_train, y_train, **fit_params)\n",
      "  File \"/opt/conda/lib/python3.9/site-packages/sklearn/svm/_classes.py\", line 234, in fit\n",
      "    self.coef_, self.intercept_, self.n_iter_ = _fit_liblinear(\n",
      "  File \"/opt/conda/lib/python3.9/site-packages/sklearn/svm/_base.py\", line 974, in _fit_liblinear\n",
      "    solver_type = _get_liblinear_solver_type(multi_class, penalty, loss, dual)\n",
      "  File \"/opt/conda/lib/python3.9/site-packages/sklearn/svm/_base.py\", line 830, in _get_liblinear_solver_type\n",
      "    raise ValueError('Unsupported set of arguments: %s, '\n",
      "ValueError: Unsupported set of arguments: The combination of penalty='l2' and loss='hinge' are not supported when dual=False, Parameters: penalty='l2', loss='hinge', dual=False\n",
      "\n",
      "  warnings.warn(\"Estimator fit failed. The score on this train-test\"\n",
      "/opt/conda/lib/python3.9/site-packages/sklearn/model_selection/_validation.py:610: FitFailedWarning: Estimator fit failed. The score on this train-test partition for these parameters will be set to nan. Details: \n",
      "Traceback (most recent call last):\n",
      "  File \"/opt/conda/lib/python3.9/site-packages/sklearn/model_selection/_validation.py\", line 593, in _fit_and_score\n",
      "    estimator.fit(X_train, y_train, **fit_params)\n",
      "  File \"/opt/conda/lib/python3.9/site-packages/sklearn/svm/_classes.py\", line 234, in fit\n",
      "    self.coef_, self.intercept_, self.n_iter_ = _fit_liblinear(\n",
      "  File \"/opt/conda/lib/python3.9/site-packages/sklearn/svm/_base.py\", line 974, in _fit_liblinear\n",
      "    solver_type = _get_liblinear_solver_type(multi_class, penalty, loss, dual)\n",
      "  File \"/opt/conda/lib/python3.9/site-packages/sklearn/svm/_base.py\", line 830, in _get_liblinear_solver_type\n",
      "    raise ValueError('Unsupported set of arguments: %s, '\n",
      "ValueError: Unsupported set of arguments: The combination of penalty='l2' and loss='hinge' are not supported when dual=False, Parameters: penalty='l2', loss='hinge', dual=False\n",
      "\n",
      "  warnings.warn(\"Estimator fit failed. The score on this train-test\"\n",
      "/opt/conda/lib/python3.9/site-packages/sklearn/model_selection/_validation.py:610: FitFailedWarning: Estimator fit failed. The score on this train-test partition for these parameters will be set to nan. Details: \n",
      "Traceback (most recent call last):\n",
      "  File \"/opt/conda/lib/python3.9/site-packages/sklearn/model_selection/_validation.py\", line 593, in _fit_and_score\n",
      "    estimator.fit(X_train, y_train, **fit_params)\n",
      "  File \"/opt/conda/lib/python3.9/site-packages/sklearn/svm/_classes.py\", line 234, in fit\n",
      "    self.coef_, self.intercept_, self.n_iter_ = _fit_liblinear(\n",
      "  File \"/opt/conda/lib/python3.9/site-packages/sklearn/svm/_base.py\", line 974, in _fit_liblinear\n",
      "    solver_type = _get_liblinear_solver_type(multi_class, penalty, loss, dual)\n",
      "  File \"/opt/conda/lib/python3.9/site-packages/sklearn/svm/_base.py\", line 830, in _get_liblinear_solver_type\n",
      "    raise ValueError('Unsupported set of arguments: %s, '\n",
      "ValueError: Unsupported set of arguments: The combination of penalty='l2' and loss='hinge' are not supported when dual=False, Parameters: penalty='l2', loss='hinge', dual=False\n",
      "\n",
      "  warnings.warn(\"Estimator fit failed. The score on this train-test\"\n",
      "/opt/conda/lib/python3.9/site-packages/sklearn/model_selection/_validation.py:610: FitFailedWarning: Estimator fit failed. The score on this train-test partition for these parameters will be set to nan. Details: \n",
      "Traceback (most recent call last):\n",
      "  File \"/opt/conda/lib/python3.9/site-packages/sklearn/model_selection/_validation.py\", line 593, in _fit_and_score\n",
      "    estimator.fit(X_train, y_train, **fit_params)\n",
      "  File \"/opt/conda/lib/python3.9/site-packages/sklearn/svm/_classes.py\", line 234, in fit\n",
      "    self.coef_, self.intercept_, self.n_iter_ = _fit_liblinear(\n",
      "  File \"/opt/conda/lib/python3.9/site-packages/sklearn/svm/_base.py\", line 974, in _fit_liblinear\n",
      "    solver_type = _get_liblinear_solver_type(multi_class, penalty, loss, dual)\n",
      "  File \"/opt/conda/lib/python3.9/site-packages/sklearn/svm/_base.py\", line 830, in _get_liblinear_solver_type\n",
      "    raise ValueError('Unsupported set of arguments: %s, '\n",
      "ValueError: Unsupported set of arguments: The combination of penalty='l2' and loss='hinge' are not supported when dual=False, Parameters: penalty='l2', loss='hinge', dual=False\n",
      "\n",
      "  warnings.warn(\"Estimator fit failed. The score on this train-test\"\n",
      "/opt/conda/lib/python3.9/site-packages/sklearn/model_selection/_validation.py:610: FitFailedWarning: Estimator fit failed. The score on this train-test partition for these parameters will be set to nan. Details: \n",
      "Traceback (most recent call last):\n",
      "  File \"/opt/conda/lib/python3.9/site-packages/sklearn/model_selection/_validation.py\", line 593, in _fit_and_score\n",
      "    estimator.fit(X_train, y_train, **fit_params)\n",
      "  File \"/opt/conda/lib/python3.9/site-packages/sklearn/svm/_classes.py\", line 234, in fit\n",
      "    self.coef_, self.intercept_, self.n_iter_ = _fit_liblinear(\n",
      "  File \"/opt/conda/lib/python3.9/site-packages/sklearn/svm/_base.py\", line 974, in _fit_liblinear\n",
      "    solver_type = _get_liblinear_solver_type(multi_class, penalty, loss, dual)\n",
      "  File \"/opt/conda/lib/python3.9/site-packages/sklearn/svm/_base.py\", line 830, in _get_liblinear_solver_type\n",
      "    raise ValueError('Unsupported set of arguments: %s, '\n",
      "ValueError: Unsupported set of arguments: The combination of penalty='l2' and loss='hinge' are not supported when dual=False, Parameters: penalty='l2', loss='hinge', dual=False\n",
      "\n",
      "  warnings.warn(\"Estimator fit failed. The score on this train-test\"\n",
      "/opt/conda/lib/python3.9/site-packages/sklearn/model_selection/_validation.py:610: FitFailedWarning: Estimator fit failed. The score on this train-test partition for these parameters will be set to nan. Details: \n",
      "Traceback (most recent call last):\n",
      "  File \"/opt/conda/lib/python3.9/site-packages/sklearn/model_selection/_validation.py\", line 593, in _fit_and_score\n",
      "    estimator.fit(X_train, y_train, **fit_params)\n",
      "  File \"/opt/conda/lib/python3.9/site-packages/sklearn/svm/_classes.py\", line 234, in fit\n",
      "    self.coef_, self.intercept_, self.n_iter_ = _fit_liblinear(\n",
      "  File \"/opt/conda/lib/python3.9/site-packages/sklearn/svm/_base.py\", line 974, in _fit_liblinear\n",
      "    solver_type = _get_liblinear_solver_type(multi_class, penalty, loss, dual)\n",
      "  File \"/opt/conda/lib/python3.9/site-packages/sklearn/svm/_base.py\", line 830, in _get_liblinear_solver_type\n",
      "    raise ValueError('Unsupported set of arguments: %s, '\n",
      "ValueError: Unsupported set of arguments: The combination of penalty='l2' and loss='hinge' are not supported when dual=False, Parameters: penalty='l2', loss='hinge', dual=False\n",
      "\n",
      "  warnings.warn(\"Estimator fit failed. The score on this train-test\"\n",
      "/opt/conda/lib/python3.9/site-packages/sklearn/model_selection/_validation.py:610: FitFailedWarning: Estimator fit failed. The score on this train-test partition for these parameters will be set to nan. Details: \n",
      "Traceback (most recent call last):\n",
      "  File \"/opt/conda/lib/python3.9/site-packages/sklearn/model_selection/_validation.py\", line 593, in _fit_and_score\n",
      "    estimator.fit(X_train, y_train, **fit_params)\n",
      "  File \"/opt/conda/lib/python3.9/site-packages/sklearn/svm/_classes.py\", line 234, in fit\n",
      "    self.coef_, self.intercept_, self.n_iter_ = _fit_liblinear(\n",
      "  File \"/opt/conda/lib/python3.9/site-packages/sklearn/svm/_base.py\", line 974, in _fit_liblinear\n",
      "    solver_type = _get_liblinear_solver_type(multi_class, penalty, loss, dual)\n",
      "  File \"/opt/conda/lib/python3.9/site-packages/sklearn/svm/_base.py\", line 830, in _get_liblinear_solver_type\n",
      "    raise ValueError('Unsupported set of arguments: %s, '\n",
      "ValueError: Unsupported set of arguments: The combination of penalty='l2' and loss='hinge' are not supported when dual=False, Parameters: penalty='l2', loss='hinge', dual=False\n",
      "\n",
      "  warnings.warn(\"Estimator fit failed. The score on this train-test\"\n",
      "/opt/conda/lib/python3.9/site-packages/sklearn/model_selection/_validation.py:610: FitFailedWarning: Estimator fit failed. The score on this train-test partition for these parameters will be set to nan. Details: \n",
      "Traceback (most recent call last):\n",
      "  File \"/opt/conda/lib/python3.9/site-packages/sklearn/model_selection/_validation.py\", line 593, in _fit_and_score\n",
      "    estimator.fit(X_train, y_train, **fit_params)\n",
      "  File \"/opt/conda/lib/python3.9/site-packages/sklearn/svm/_classes.py\", line 234, in fit\n",
      "    self.coef_, self.intercept_, self.n_iter_ = _fit_liblinear(\n",
      "  File \"/opt/conda/lib/python3.9/site-packages/sklearn/svm/_base.py\", line 974, in _fit_liblinear\n",
      "    solver_type = _get_liblinear_solver_type(multi_class, penalty, loss, dual)\n",
      "  File \"/opt/conda/lib/python3.9/site-packages/sklearn/svm/_base.py\", line 830, in _get_liblinear_solver_type\n",
      "    raise ValueError('Unsupported set of arguments: %s, '\n",
      "ValueError: Unsupported set of arguments: The combination of penalty='l2' and loss='hinge' are not supported when dual=False, Parameters: penalty='l2', loss='hinge', dual=False\n",
      "\n",
      "  warnings.warn(\"Estimator fit failed. The score on this train-test\"\n",
      "/opt/conda/lib/python3.9/site-packages/sklearn/model_selection/_validation.py:610: FitFailedWarning: Estimator fit failed. The score on this train-test partition for these parameters will be set to nan. Details: \n",
      "Traceback (most recent call last):\n",
      "  File \"/opt/conda/lib/python3.9/site-packages/sklearn/model_selection/_validation.py\", line 593, in _fit_and_score\n",
      "    estimator.fit(X_train, y_train, **fit_params)\n",
      "  File \"/opt/conda/lib/python3.9/site-packages/sklearn/svm/_classes.py\", line 234, in fit\n",
      "    self.coef_, self.intercept_, self.n_iter_ = _fit_liblinear(\n",
      "  File \"/opt/conda/lib/python3.9/site-packages/sklearn/svm/_base.py\", line 974, in _fit_liblinear\n",
      "    solver_type = _get_liblinear_solver_type(multi_class, penalty, loss, dual)\n",
      "  File \"/opt/conda/lib/python3.9/site-packages/sklearn/svm/_base.py\", line 830, in _get_liblinear_solver_type\n",
      "    raise ValueError('Unsupported set of arguments: %s, '\n",
      "ValueError: Unsupported set of arguments: The combination of penalty='l2' and loss='hinge' are not supported when dual=False, Parameters: penalty='l2', loss='hinge', dual=False\n",
      "\n",
      "  warnings.warn(\"Estimator fit failed. The score on this train-test\"\n",
      "/opt/conda/lib/python3.9/site-packages/sklearn/svm/_base.py:985: ConvergenceWarning: Liblinear failed to converge, increase the number of iterations.\n",
      "  warnings.warn(\"Liblinear failed to converge, increase \"\n",
      "/opt/conda/lib/python3.9/site-packages/sklearn/svm/_base.py:985: ConvergenceWarning: Liblinear failed to converge, increase the number of iterations.\n",
      "  warnings.warn(\"Liblinear failed to converge, increase \"\n",
      "/opt/conda/lib/python3.9/site-packages/sklearn/svm/_base.py:985: ConvergenceWarning: Liblinear failed to converge, increase the number of iterations.\n",
      "  warnings.warn(\"Liblinear failed to converge, increase \"\n",
      "/opt/conda/lib/python3.9/site-packages/sklearn/svm/_base.py:985: ConvergenceWarning: Liblinear failed to converge, increase the number of iterations.\n",
      "  warnings.warn(\"Liblinear failed to converge, increase \"\n",
      "/opt/conda/lib/python3.9/site-packages/sklearn/svm/_base.py:985: ConvergenceWarning: Liblinear failed to converge, increase the number of iterations.\n",
      "  warnings.warn(\"Liblinear failed to converge, increase \"\n",
      "/opt/conda/lib/python3.9/site-packages/sklearn/svm/_base.py:985: ConvergenceWarning: Liblinear failed to converge, increase the number of iterations.\n",
      "  warnings.warn(\"Liblinear failed to converge, increase \"\n",
      "/opt/conda/lib/python3.9/site-packages/sklearn/svm/_base.py:985: ConvergenceWarning: Liblinear failed to converge, increase the number of iterations.\n",
      "  warnings.warn(\"Liblinear failed to converge, increase \"\n",
      "/opt/conda/lib/python3.9/site-packages/sklearn/svm/_base.py:985: ConvergenceWarning: Liblinear failed to converge, increase the number of iterations.\n",
      "  warnings.warn(\"Liblinear failed to converge, increase \"\n",
      "/opt/conda/lib/python3.9/site-packages/sklearn/svm/_base.py:985: ConvergenceWarning: Liblinear failed to converge, increase the number of iterations.\n",
      "  warnings.warn(\"Liblinear failed to converge, increase \"\n",
      "/opt/conda/lib/python3.9/site-packages/sklearn/svm/_base.py:985: ConvergenceWarning: Liblinear failed to converge, increase the number of iterations.\n",
      "  warnings.warn(\"Liblinear failed to converge, increase \"\n",
      "/opt/conda/lib/python3.9/site-packages/sklearn/svm/_base.py:985: ConvergenceWarning: Liblinear failed to converge, increase the number of iterations.\n",
      "  warnings.warn(\"Liblinear failed to converge, increase \"\n",
      "/opt/conda/lib/python3.9/site-packages/sklearn/svm/_base.py:985: ConvergenceWarning: Liblinear failed to converge, increase the number of iterations.\n",
      "  warnings.warn(\"Liblinear failed to converge, increase \"\n",
      "/opt/conda/lib/python3.9/site-packages/sklearn/svm/_base.py:985: ConvergenceWarning: Liblinear failed to converge, increase the number of iterations.\n",
      "  warnings.warn(\"Liblinear failed to converge, increase \"\n",
      "/opt/conda/lib/python3.9/site-packages/sklearn/svm/_base.py:985: ConvergenceWarning: Liblinear failed to converge, increase the number of iterations.\n",
      "  warnings.warn(\"Liblinear failed to converge, increase \"\n",
      "/opt/conda/lib/python3.9/site-packages/sklearn/svm/_base.py:985: ConvergenceWarning: Liblinear failed to converge, increase the number of iterations.\n",
      "  warnings.warn(\"Liblinear failed to converge, increase \"\n",
      "/opt/conda/lib/python3.9/site-packages/sklearn/svm/_base.py:985: ConvergenceWarning: Liblinear failed to converge, increase the number of iterations.\n",
      "  warnings.warn(\"Liblinear failed to converge, increase \"\n",
      "/opt/conda/lib/python3.9/site-packages/sklearn/svm/_base.py:985: ConvergenceWarning: Liblinear failed to converge, increase the number of iterations.\n",
      "  warnings.warn(\"Liblinear failed to converge, increase \"\n",
      "/opt/conda/lib/python3.9/site-packages/sklearn/svm/_base.py:985: ConvergenceWarning: Liblinear failed to converge, increase the number of iterations.\n",
      "  warnings.warn(\"Liblinear failed to converge, increase \"\n",
      "/opt/conda/lib/python3.9/site-packages/sklearn/svm/_base.py:985: ConvergenceWarning: Liblinear failed to converge, increase the number of iterations.\n",
      "  warnings.warn(\"Liblinear failed to converge, increase \"\n",
      "/opt/conda/lib/python3.9/site-packages/sklearn/svm/_base.py:985: ConvergenceWarning: Liblinear failed to converge, increase the number of iterations.\n",
      "  warnings.warn(\"Liblinear failed to converge, increase \"\n",
      "/opt/conda/lib/python3.9/site-packages/sklearn/svm/_base.py:985: ConvergenceWarning: Liblinear failed to converge, increase the number of iterations.\n",
      "  warnings.warn(\"Liblinear failed to converge, increase \"\n",
      "/opt/conda/lib/python3.9/site-packages/sklearn/svm/_base.py:985: ConvergenceWarning: Liblinear failed to converge, increase the number of iterations.\n",
      "  warnings.warn(\"Liblinear failed to converge, increase \"\n",
      "/opt/conda/lib/python3.9/site-packages/sklearn/svm/_base.py:985: ConvergenceWarning: Liblinear failed to converge, increase the number of iterations.\n",
      "  warnings.warn(\"Liblinear failed to converge, increase \"\n",
      "/opt/conda/lib/python3.9/site-packages/sklearn/svm/_base.py:985: ConvergenceWarning: Liblinear failed to converge, increase the number of iterations.\n",
      "  warnings.warn(\"Liblinear failed to converge, increase \"\n",
      "/opt/conda/lib/python3.9/site-packages/sklearn/svm/_base.py:985: ConvergenceWarning: Liblinear failed to converge, increase the number of iterations.\n",
      "  warnings.warn(\"Liblinear failed to converge, increase \"\n",
      "/opt/conda/lib/python3.9/site-packages/sklearn/svm/_base.py:985: ConvergenceWarning: Liblinear failed to converge, increase the number of iterations.\n",
      "  warnings.warn(\"Liblinear failed to converge, increase \"\n",
      "/opt/conda/lib/python3.9/site-packages/sklearn/svm/_base.py:985: ConvergenceWarning: Liblinear failed to converge, increase the number of iterations.\n",
      "  warnings.warn(\"Liblinear failed to converge, increase \"\n",
      "/opt/conda/lib/python3.9/site-packages/sklearn/svm/_base.py:985: ConvergenceWarning: Liblinear failed to converge, increase the number of iterations.\n",
      "  warnings.warn(\"Liblinear failed to converge, increase \"\n",
      "/opt/conda/lib/python3.9/site-packages/sklearn/svm/_base.py:985: ConvergenceWarning: Liblinear failed to converge, increase the number of iterations.\n",
      "  warnings.warn(\"Liblinear failed to converge, increase \"\n",
      "/opt/conda/lib/python3.9/site-packages/sklearn/svm/_base.py:985: ConvergenceWarning: Liblinear failed to converge, increase the number of iterations.\n",
      "  warnings.warn(\"Liblinear failed to converge, increase \"\n",
      "/opt/conda/lib/python3.9/site-packages/sklearn/model_selection/_validation.py:610: FitFailedWarning: Estimator fit failed. The score on this train-test partition for these parameters will be set to nan. Details: \n",
      "Traceback (most recent call last):\n",
      "  File \"/opt/conda/lib/python3.9/site-packages/sklearn/model_selection/_validation.py\", line 593, in _fit_and_score\n",
      "    estimator.fit(X_train, y_train, **fit_params)\n",
      "  File \"/opt/conda/lib/python3.9/site-packages/sklearn/svm/_classes.py\", line 234, in fit\n",
      "    self.coef_, self.intercept_, self.n_iter_ = _fit_liblinear(\n",
      "  File \"/opt/conda/lib/python3.9/site-packages/sklearn/svm/_base.py\", line 974, in _fit_liblinear\n",
      "    solver_type = _get_liblinear_solver_type(multi_class, penalty, loss, dual)\n",
      "  File \"/opt/conda/lib/python3.9/site-packages/sklearn/svm/_base.py\", line 830, in _get_liblinear_solver_type\n",
      "    raise ValueError('Unsupported set of arguments: %s, '\n",
      "ValueError: Unsupported set of arguments: The combination of penalty='l2' and loss='hinge' are not supported when dual=False, Parameters: penalty='l2', loss='hinge', dual=False\n",
      "\n",
      "  warnings.warn(\"Estimator fit failed. The score on this train-test\"\n",
      "/opt/conda/lib/python3.9/site-packages/sklearn/model_selection/_validation.py:610: FitFailedWarning: Estimator fit failed. The score on this train-test partition for these parameters will be set to nan. Details: \n",
      "Traceback (most recent call last):\n",
      "  File \"/opt/conda/lib/python3.9/site-packages/sklearn/model_selection/_validation.py\", line 593, in _fit_and_score\n",
      "    estimator.fit(X_train, y_train, **fit_params)\n",
      "  File \"/opt/conda/lib/python3.9/site-packages/sklearn/svm/_classes.py\", line 234, in fit\n",
      "    self.coef_, self.intercept_, self.n_iter_ = _fit_liblinear(\n",
      "  File \"/opt/conda/lib/python3.9/site-packages/sklearn/svm/_base.py\", line 974, in _fit_liblinear\n",
      "    solver_type = _get_liblinear_solver_type(multi_class, penalty, loss, dual)\n",
      "  File \"/opt/conda/lib/python3.9/site-packages/sklearn/svm/_base.py\", line 830, in _get_liblinear_solver_type\n",
      "    raise ValueError('Unsupported set of arguments: %s, '\n",
      "ValueError: Unsupported set of arguments: The combination of penalty='l2' and loss='hinge' are not supported when dual=False, Parameters: penalty='l2', loss='hinge', dual=False\n",
      "\n",
      "  warnings.warn(\"Estimator fit failed. The score on this train-test\"\n",
      "/opt/conda/lib/python3.9/site-packages/sklearn/model_selection/_validation.py:610: FitFailedWarning: Estimator fit failed. The score on this train-test partition for these parameters will be set to nan. Details: \n",
      "Traceback (most recent call last):\n",
      "  File \"/opt/conda/lib/python3.9/site-packages/sklearn/model_selection/_validation.py\", line 593, in _fit_and_score\n",
      "    estimator.fit(X_train, y_train, **fit_params)\n",
      "  File \"/opt/conda/lib/python3.9/site-packages/sklearn/svm/_classes.py\", line 234, in fit\n",
      "    self.coef_, self.intercept_, self.n_iter_ = _fit_liblinear(\n",
      "  File \"/opt/conda/lib/python3.9/site-packages/sklearn/svm/_base.py\", line 974, in _fit_liblinear\n",
      "    solver_type = _get_liblinear_solver_type(multi_class, penalty, loss, dual)\n",
      "  File \"/opt/conda/lib/python3.9/site-packages/sklearn/svm/_base.py\", line 830, in _get_liblinear_solver_type\n",
      "    raise ValueError('Unsupported set of arguments: %s, '\n",
      "ValueError: Unsupported set of arguments: The combination of penalty='l2' and loss='hinge' are not supported when dual=False, Parameters: penalty='l2', loss='hinge', dual=False\n",
      "\n",
      "  warnings.warn(\"Estimator fit failed. The score on this train-test\"\n",
      "/opt/conda/lib/python3.9/site-packages/sklearn/model_selection/_validation.py:610: FitFailedWarning: Estimator fit failed. The score on this train-test partition for these parameters will be set to nan. Details: \n",
      "Traceback (most recent call last):\n",
      "  File \"/opt/conda/lib/python3.9/site-packages/sklearn/model_selection/_validation.py\", line 593, in _fit_and_score\n",
      "    estimator.fit(X_train, y_train, **fit_params)\n",
      "  File \"/opt/conda/lib/python3.9/site-packages/sklearn/svm/_classes.py\", line 234, in fit\n",
      "    self.coef_, self.intercept_, self.n_iter_ = _fit_liblinear(\n",
      "  File \"/opt/conda/lib/python3.9/site-packages/sklearn/svm/_base.py\", line 974, in _fit_liblinear\n",
      "    solver_type = _get_liblinear_solver_type(multi_class, penalty, loss, dual)\n",
      "  File \"/opt/conda/lib/python3.9/site-packages/sklearn/svm/_base.py\", line 830, in _get_liblinear_solver_type\n",
      "    raise ValueError('Unsupported set of arguments: %s, '\n",
      "ValueError: Unsupported set of arguments: The combination of penalty='l2' and loss='hinge' are not supported when dual=False, Parameters: penalty='l2', loss='hinge', dual=False\n",
      "\n",
      "  warnings.warn(\"Estimator fit failed. The score on this train-test\"\n",
      "/opt/conda/lib/python3.9/site-packages/sklearn/model_selection/_validation.py:610: FitFailedWarning: Estimator fit failed. The score on this train-test partition for these parameters will be set to nan. Details: \n",
      "Traceback (most recent call last):\n",
      "  File \"/opt/conda/lib/python3.9/site-packages/sklearn/model_selection/_validation.py\", line 593, in _fit_and_score\n",
      "    estimator.fit(X_train, y_train, **fit_params)\n",
      "  File \"/opt/conda/lib/python3.9/site-packages/sklearn/svm/_classes.py\", line 234, in fit\n",
      "    self.coef_, self.intercept_, self.n_iter_ = _fit_liblinear(\n",
      "  File \"/opt/conda/lib/python3.9/site-packages/sklearn/svm/_base.py\", line 974, in _fit_liblinear\n",
      "    solver_type = _get_liblinear_solver_type(multi_class, penalty, loss, dual)\n",
      "  File \"/opt/conda/lib/python3.9/site-packages/sklearn/svm/_base.py\", line 830, in _get_liblinear_solver_type\n",
      "    raise ValueError('Unsupported set of arguments: %s, '\n",
      "ValueError: Unsupported set of arguments: The combination of penalty='l2' and loss='hinge' are not supported when dual=False, Parameters: penalty='l2', loss='hinge', dual=False\n",
      "\n",
      "  warnings.warn(\"Estimator fit failed. The score on this train-test\"\n",
      "/opt/conda/lib/python3.9/site-packages/sklearn/model_selection/_validation.py:610: FitFailedWarning: Estimator fit failed. The score on this train-test partition for these parameters will be set to nan. Details: \n",
      "Traceback (most recent call last):\n",
      "  File \"/opt/conda/lib/python3.9/site-packages/sklearn/model_selection/_validation.py\", line 593, in _fit_and_score\n",
      "    estimator.fit(X_train, y_train, **fit_params)\n",
      "  File \"/opt/conda/lib/python3.9/site-packages/sklearn/svm/_classes.py\", line 234, in fit\n",
      "    self.coef_, self.intercept_, self.n_iter_ = _fit_liblinear(\n",
      "  File \"/opt/conda/lib/python3.9/site-packages/sklearn/svm/_base.py\", line 974, in _fit_liblinear\n",
      "    solver_type = _get_liblinear_solver_type(multi_class, penalty, loss, dual)\n",
      "  File \"/opt/conda/lib/python3.9/site-packages/sklearn/svm/_base.py\", line 830, in _get_liblinear_solver_type\n",
      "    raise ValueError('Unsupported set of arguments: %s, '\n",
      "ValueError: Unsupported set of arguments: The combination of penalty='l2' and loss='hinge' are not supported when dual=False, Parameters: penalty='l2', loss='hinge', dual=False\n",
      "\n",
      "  warnings.warn(\"Estimator fit failed. The score on this train-test\"\n",
      "/opt/conda/lib/python3.9/site-packages/sklearn/model_selection/_validation.py:610: FitFailedWarning: Estimator fit failed. The score on this train-test partition for these parameters will be set to nan. Details: \n",
      "Traceback (most recent call last):\n",
      "  File \"/opt/conda/lib/python3.9/site-packages/sklearn/model_selection/_validation.py\", line 593, in _fit_and_score\n",
      "    estimator.fit(X_train, y_train, **fit_params)\n",
      "  File \"/opt/conda/lib/python3.9/site-packages/sklearn/svm/_classes.py\", line 234, in fit\n",
      "    self.coef_, self.intercept_, self.n_iter_ = _fit_liblinear(\n",
      "  File \"/opt/conda/lib/python3.9/site-packages/sklearn/svm/_base.py\", line 974, in _fit_liblinear\n",
      "    solver_type = _get_liblinear_solver_type(multi_class, penalty, loss, dual)\n",
      "  File \"/opt/conda/lib/python3.9/site-packages/sklearn/svm/_base.py\", line 830, in _get_liblinear_solver_type\n",
      "    raise ValueError('Unsupported set of arguments: %s, '\n",
      "ValueError: Unsupported set of arguments: The combination of penalty='l2' and loss='hinge' are not supported when dual=False, Parameters: penalty='l2', loss='hinge', dual=False\n",
      "\n",
      "  warnings.warn(\"Estimator fit failed. The score on this train-test\"\n",
      "/opt/conda/lib/python3.9/site-packages/sklearn/model_selection/_validation.py:610: FitFailedWarning: Estimator fit failed. The score on this train-test partition for these parameters will be set to nan. Details: \n",
      "Traceback (most recent call last):\n",
      "  File \"/opt/conda/lib/python3.9/site-packages/sklearn/model_selection/_validation.py\", line 593, in _fit_and_score\n",
      "    estimator.fit(X_train, y_train, **fit_params)\n",
      "  File \"/opt/conda/lib/python3.9/site-packages/sklearn/svm/_classes.py\", line 234, in fit\n",
      "    self.coef_, self.intercept_, self.n_iter_ = _fit_liblinear(\n",
      "  File \"/opt/conda/lib/python3.9/site-packages/sklearn/svm/_base.py\", line 974, in _fit_liblinear\n",
      "    solver_type = _get_liblinear_solver_type(multi_class, penalty, loss, dual)\n",
      "  File \"/opt/conda/lib/python3.9/site-packages/sklearn/svm/_base.py\", line 830, in _get_liblinear_solver_type\n",
      "    raise ValueError('Unsupported set of arguments: %s, '\n",
      "ValueError: Unsupported set of arguments: The combination of penalty='l2' and loss='hinge' are not supported when dual=False, Parameters: penalty='l2', loss='hinge', dual=False\n",
      "\n",
      "  warnings.warn(\"Estimator fit failed. The score on this train-test\"\n",
      "/opt/conda/lib/python3.9/site-packages/sklearn/model_selection/_validation.py:610: FitFailedWarning: Estimator fit failed. The score on this train-test partition for these parameters will be set to nan. Details: \n",
      "Traceback (most recent call last):\n",
      "  File \"/opt/conda/lib/python3.9/site-packages/sklearn/model_selection/_validation.py\", line 593, in _fit_and_score\n",
      "    estimator.fit(X_train, y_train, **fit_params)\n",
      "  File \"/opt/conda/lib/python3.9/site-packages/sklearn/svm/_classes.py\", line 234, in fit\n",
      "    self.coef_, self.intercept_, self.n_iter_ = _fit_liblinear(\n",
      "  File \"/opt/conda/lib/python3.9/site-packages/sklearn/svm/_base.py\", line 974, in _fit_liblinear\n",
      "    solver_type = _get_liblinear_solver_type(multi_class, penalty, loss, dual)\n",
      "  File \"/opt/conda/lib/python3.9/site-packages/sklearn/svm/_base.py\", line 830, in _get_liblinear_solver_type\n",
      "    raise ValueError('Unsupported set of arguments: %s, '\n",
      "ValueError: Unsupported set of arguments: The combination of penalty='l2' and loss='hinge' are not supported when dual=False, Parameters: penalty='l2', loss='hinge', dual=False\n",
      "\n",
      "  warnings.warn(\"Estimator fit failed. The score on this train-test\"\n",
      "/opt/conda/lib/python3.9/site-packages/sklearn/model_selection/_validation.py:610: FitFailedWarning: Estimator fit failed. The score on this train-test partition for these parameters will be set to nan. Details: \n",
      "Traceback (most recent call last):\n",
      "  File \"/opt/conda/lib/python3.9/site-packages/sklearn/model_selection/_validation.py\", line 593, in _fit_and_score\n",
      "    estimator.fit(X_train, y_train, **fit_params)\n",
      "  File \"/opt/conda/lib/python3.9/site-packages/sklearn/svm/_classes.py\", line 234, in fit\n",
      "    self.coef_, self.intercept_, self.n_iter_ = _fit_liblinear(\n",
      "  File \"/opt/conda/lib/python3.9/site-packages/sklearn/svm/_base.py\", line 974, in _fit_liblinear\n",
      "    solver_type = _get_liblinear_solver_type(multi_class, penalty, loss, dual)\n",
      "  File \"/opt/conda/lib/python3.9/site-packages/sklearn/svm/_base.py\", line 830, in _get_liblinear_solver_type\n",
      "    raise ValueError('Unsupported set of arguments: %s, '\n",
      "ValueError: Unsupported set of arguments: The combination of penalty='l2' and loss='hinge' are not supported when dual=False, Parameters: penalty='l2', loss='hinge', dual=False\n",
      "\n",
      "  warnings.warn(\"Estimator fit failed. The score on this train-test\"\n",
      "/opt/conda/lib/python3.9/site-packages/sklearn/model_selection/_validation.py:610: FitFailedWarning: Estimator fit failed. The score on this train-test partition for these parameters will be set to nan. Details: \n",
      "Traceback (most recent call last):\n",
      "  File \"/opt/conda/lib/python3.9/site-packages/sklearn/model_selection/_validation.py\", line 593, in _fit_and_score\n",
      "    estimator.fit(X_train, y_train, **fit_params)\n",
      "  File \"/opt/conda/lib/python3.9/site-packages/sklearn/svm/_classes.py\", line 234, in fit\n",
      "    self.coef_, self.intercept_, self.n_iter_ = _fit_liblinear(\n",
      "  File \"/opt/conda/lib/python3.9/site-packages/sklearn/svm/_base.py\", line 974, in _fit_liblinear\n",
      "    solver_type = _get_liblinear_solver_type(multi_class, penalty, loss, dual)\n",
      "  File \"/opt/conda/lib/python3.9/site-packages/sklearn/svm/_base.py\", line 830, in _get_liblinear_solver_type\n",
      "    raise ValueError('Unsupported set of arguments: %s, '\n",
      "ValueError: Unsupported set of arguments: The combination of penalty='l2' and loss='hinge' are not supported when dual=False, Parameters: penalty='l2', loss='hinge', dual=False\n",
      "\n",
      "  warnings.warn(\"Estimator fit failed. The score on this train-test\"\n",
      "/opt/conda/lib/python3.9/site-packages/sklearn/model_selection/_validation.py:610: FitFailedWarning: Estimator fit failed. The score on this train-test partition for these parameters will be set to nan. Details: \n",
      "Traceback (most recent call last):\n",
      "  File \"/opt/conda/lib/python3.9/site-packages/sklearn/model_selection/_validation.py\", line 593, in _fit_and_score\n",
      "    estimator.fit(X_train, y_train, **fit_params)\n",
      "  File \"/opt/conda/lib/python3.9/site-packages/sklearn/svm/_classes.py\", line 234, in fit\n",
      "    self.coef_, self.intercept_, self.n_iter_ = _fit_liblinear(\n",
      "  File \"/opt/conda/lib/python3.9/site-packages/sklearn/svm/_base.py\", line 974, in _fit_liblinear\n",
      "    solver_type = _get_liblinear_solver_type(multi_class, penalty, loss, dual)\n",
      "  File \"/opt/conda/lib/python3.9/site-packages/sklearn/svm/_base.py\", line 830, in _get_liblinear_solver_type\n",
      "    raise ValueError('Unsupported set of arguments: %s, '\n",
      "ValueError: Unsupported set of arguments: The combination of penalty='l2' and loss='hinge' are not supported when dual=False, Parameters: penalty='l2', loss='hinge', dual=False\n",
      "\n",
      "  warnings.warn(\"Estimator fit failed. The score on this train-test\"\n",
      "/opt/conda/lib/python3.9/site-packages/sklearn/model_selection/_validation.py:610: FitFailedWarning: Estimator fit failed. The score on this train-test partition for these parameters will be set to nan. Details: \n",
      "Traceback (most recent call last):\n",
      "  File \"/opt/conda/lib/python3.9/site-packages/sklearn/model_selection/_validation.py\", line 593, in _fit_and_score\n",
      "    estimator.fit(X_train, y_train, **fit_params)\n",
      "  File \"/opt/conda/lib/python3.9/site-packages/sklearn/svm/_classes.py\", line 234, in fit\n",
      "    self.coef_, self.intercept_, self.n_iter_ = _fit_liblinear(\n",
      "  File \"/opt/conda/lib/python3.9/site-packages/sklearn/svm/_base.py\", line 974, in _fit_liblinear\n",
      "    solver_type = _get_liblinear_solver_type(multi_class, penalty, loss, dual)\n",
      "  File \"/opt/conda/lib/python3.9/site-packages/sklearn/svm/_base.py\", line 830, in _get_liblinear_solver_type\n",
      "    raise ValueError('Unsupported set of arguments: %s, '\n",
      "ValueError: Unsupported set of arguments: The combination of penalty='l2' and loss='hinge' are not supported when dual=False, Parameters: penalty='l2', loss='hinge', dual=False\n",
      "\n",
      "  warnings.warn(\"Estimator fit failed. The score on this train-test\"\n",
      "/opt/conda/lib/python3.9/site-packages/sklearn/model_selection/_validation.py:610: FitFailedWarning: Estimator fit failed. The score on this train-test partition for these parameters will be set to nan. Details: \n",
      "Traceback (most recent call last):\n",
      "  File \"/opt/conda/lib/python3.9/site-packages/sklearn/model_selection/_validation.py\", line 593, in _fit_and_score\n",
      "    estimator.fit(X_train, y_train, **fit_params)\n",
      "  File \"/opt/conda/lib/python3.9/site-packages/sklearn/svm/_classes.py\", line 234, in fit\n",
      "    self.coef_, self.intercept_, self.n_iter_ = _fit_liblinear(\n",
      "  File \"/opt/conda/lib/python3.9/site-packages/sklearn/svm/_base.py\", line 974, in _fit_liblinear\n",
      "    solver_type = _get_liblinear_solver_type(multi_class, penalty, loss, dual)\n",
      "  File \"/opt/conda/lib/python3.9/site-packages/sklearn/svm/_base.py\", line 830, in _get_liblinear_solver_type\n",
      "    raise ValueError('Unsupported set of arguments: %s, '\n",
      "ValueError: Unsupported set of arguments: The combination of penalty='l2' and loss='hinge' are not supported when dual=False, Parameters: penalty='l2', loss='hinge', dual=False\n",
      "\n",
      "  warnings.warn(\"Estimator fit failed. The score on this train-test\"\n",
      "/opt/conda/lib/python3.9/site-packages/sklearn/model_selection/_validation.py:610: FitFailedWarning: Estimator fit failed. The score on this train-test partition for these parameters will be set to nan. Details: \n",
      "Traceback (most recent call last):\n",
      "  File \"/opt/conda/lib/python3.9/site-packages/sklearn/model_selection/_validation.py\", line 593, in _fit_and_score\n",
      "    estimator.fit(X_train, y_train, **fit_params)\n",
      "  File \"/opt/conda/lib/python3.9/site-packages/sklearn/svm/_classes.py\", line 234, in fit\n",
      "    self.coef_, self.intercept_, self.n_iter_ = _fit_liblinear(\n",
      "  File \"/opt/conda/lib/python3.9/site-packages/sklearn/svm/_base.py\", line 974, in _fit_liblinear\n",
      "    solver_type = _get_liblinear_solver_type(multi_class, penalty, loss, dual)\n",
      "  File \"/opt/conda/lib/python3.9/site-packages/sklearn/svm/_base.py\", line 830, in _get_liblinear_solver_type\n",
      "    raise ValueError('Unsupported set of arguments: %s, '\n",
      "ValueError: Unsupported set of arguments: The combination of penalty='l2' and loss='hinge' are not supported when dual=False, Parameters: penalty='l2', loss='hinge', dual=False\n",
      "\n",
      "  warnings.warn(\"Estimator fit failed. The score on this train-test\"\n",
      "/opt/conda/lib/python3.9/site-packages/sklearn/model_selection/_search.py:918: UserWarning: One or more of the test scores are non-finite: [0.5207495  0.5207495  0.5207495  0.62156398 0.62156398 0.62156398\n",
      "        nan        nan        nan 0.72657323 0.7397892  0.7397892\n",
      " 0.5207495  0.5207495  0.5207495  0.58344981 0.58344981 0.58344981\n",
      "        nan        nan        nan 0.7195633  0.73551963 0.7397892 ]\n",
      "  warnings.warn(\n"
     ]
    }
   ],
   "source": [
    "# Время начала\n",
    "start = dt.datetime.now()\n",
    "\n",
    "# Формируем словарь параметров\n",
    "param_LSVC = {'loss': ['hinge', 'squared_hinge'],\n",
    "            'dual':[True, False],\n",
    "            'C':range(1,3),\n",
    "            'tol':np.linspace(1e-4, 1e-6, 3)}\n",
    "\n",
    "# Создаем модель\n",
    "model_LSVC = LinearSVC(random_state=seed, multi_class='ovr')\n",
    "\n",
    "# Запускаем обучение\n",
    "grid_LSVC = GridSearchCV(model_LSVC, param_LSVC, cv=5)\n",
    "grid_LSVC.fit(features_train, target_train)\n",
    "\n",
    "# Время окончания\n",
    "stop = dt.datetime.now()"
   ]
  },
  {
   "cell_type": "code",
   "execution_count": 38,
   "metadata": {},
   "outputs": [
    {
     "name": "stdout",
     "output_type": "stream",
     "text": [
      "Время подбора параметров: 0:00:04.470680\n",
      "Лучшие гиперпараметры: {'C': 1, 'dual': False, 'loss': 'squared_hinge', 'tol': 5.05e-05}\n",
      "Лучшая accuracy: 0.7398\n"
     ]
    }
   ],
   "source": [
    "print('Время подбора параметров:', stop-start)\n",
    "print('Лучшие гиперпараметры:', grid_LSVC.best_params_)\n",
    "print('Лучшая accuracy:', round(grid_LSVC.best_score_, 4))"
   ]
  },
  {
   "cell_type": "markdown",
   "metadata": {},
   "source": [
    "В результате лучшая модель показала почти **74%**.\n",
    "\n",
    "Её параметры:\n",
    "- 'C': 2\n",
    "- 'dual': False\n",
    "- 'loss': 'squared_hinge'\n",
    "- 'tol': 5.05e-05\n"
   ]
  },
  {
   "cell_type": "code",
   "execution_count": 39,
   "metadata": {},
   "outputs": [],
   "source": [
    "# Фиксируем результат\n",
    "model_LSVC = LinearSVC(random_state=seed, multi_class='ovr', C=2, dual=False, loss='squared_hinge', tol= 5.05e-05)\n",
    "model_LSVC.fit(features_train, target_train)\n",
    "models_characteristics.loc['Машины опорных векторов'] = [model_LSVC, dt.time(0,0,4), .7386]"
   ]
  },
  {
   "cell_type": "markdown",
   "metadata": {},
   "source": [
    "### Нейронные сети"
   ]
  },
  {
   "cell_type": "code",
   "execution_count": 40,
   "metadata": {},
   "outputs": [],
   "source": [
    "from sklearn.neural_network import MLPClassifier"
   ]
  },
  {
   "cell_type": "code",
   "execution_count": 41,
   "metadata": {
    "scrolled": true
   },
   "outputs": [
    {
     "name": "stderr",
     "output_type": "stream",
     "text": [
      "/opt/conda/lib/python3.9/site-packages/sklearn/model_selection/_validation.py:610: FitFailedWarning: Estimator fit failed. The score on this train-test partition for these parameters will be set to nan. Details: \n",
      "Traceback (most recent call last):\n",
      "  File \"/opt/conda/lib/python3.9/site-packages/sklearn/model_selection/_validation.py\", line 593, in _fit_and_score\n",
      "    estimator.fit(X_train, y_train, **fit_params)\n",
      "  File \"/opt/conda/lib/python3.9/site-packages/sklearn/neural_network/_multilayer_perceptron.py\", line 673, in fit\n",
      "    return self._fit(X, y, incremental=False)\n",
      "  File \"/opt/conda/lib/python3.9/site-packages/sklearn/neural_network/_multilayer_perceptron.py\", line 357, in _fit\n",
      "    self._validate_hyperparameters()\n",
      "  File \"/opt/conda/lib/python3.9/site-packages/sklearn/neural_network/_multilayer_perceptron.py\", line 448, in _validate_hyperparameters\n",
      "    raise ValueError(\"The activation '%s' is not supported. Supported \"\n",
      "ValueError: The activation 'Tanh' is not supported. Supported activations are ['identity', 'logistic', 'relu', 'softmax', 'tanh'].\n",
      "\n",
      "  warnings.warn(\"Estimator fit failed. The score on this train-test\"\n",
      "/opt/conda/lib/python3.9/site-packages/sklearn/model_selection/_validation.py:610: FitFailedWarning: Estimator fit failed. The score on this train-test partition for these parameters will be set to nan. Details: \n",
      "Traceback (most recent call last):\n",
      "  File \"/opt/conda/lib/python3.9/site-packages/sklearn/model_selection/_validation.py\", line 593, in _fit_and_score\n",
      "    estimator.fit(X_train, y_train, **fit_params)\n",
      "  File \"/opt/conda/lib/python3.9/site-packages/sklearn/neural_network/_multilayer_perceptron.py\", line 673, in fit\n",
      "    return self._fit(X, y, incremental=False)\n",
      "  File \"/opt/conda/lib/python3.9/site-packages/sklearn/neural_network/_multilayer_perceptron.py\", line 357, in _fit\n",
      "    self._validate_hyperparameters()\n",
      "  File \"/opt/conda/lib/python3.9/site-packages/sklearn/neural_network/_multilayer_perceptron.py\", line 448, in _validate_hyperparameters\n",
      "    raise ValueError(\"The activation '%s' is not supported. Supported \"\n",
      "ValueError: The activation 'Tanh' is not supported. Supported activations are ['identity', 'logistic', 'relu', 'softmax', 'tanh'].\n",
      "\n",
      "  warnings.warn(\"Estimator fit failed. The score on this train-test\"\n",
      "/opt/conda/lib/python3.9/site-packages/sklearn/model_selection/_validation.py:610: FitFailedWarning: Estimator fit failed. The score on this train-test partition for these parameters will be set to nan. Details: \n",
      "Traceback (most recent call last):\n",
      "  File \"/opt/conda/lib/python3.9/site-packages/sklearn/model_selection/_validation.py\", line 593, in _fit_and_score\n",
      "    estimator.fit(X_train, y_train, **fit_params)\n",
      "  File \"/opt/conda/lib/python3.9/site-packages/sklearn/neural_network/_multilayer_perceptron.py\", line 673, in fit\n",
      "    return self._fit(X, y, incremental=False)\n",
      "  File \"/opt/conda/lib/python3.9/site-packages/sklearn/neural_network/_multilayer_perceptron.py\", line 357, in _fit\n",
      "    self._validate_hyperparameters()\n",
      "  File \"/opt/conda/lib/python3.9/site-packages/sklearn/neural_network/_multilayer_perceptron.py\", line 448, in _validate_hyperparameters\n",
      "    raise ValueError(\"The activation '%s' is not supported. Supported \"\n",
      "ValueError: The activation 'Tanh' is not supported. Supported activations are ['identity', 'logistic', 'relu', 'softmax', 'tanh'].\n",
      "\n",
      "  warnings.warn(\"Estimator fit failed. The score on this train-test\"\n",
      "/opt/conda/lib/python3.9/site-packages/sklearn/model_selection/_validation.py:610: FitFailedWarning: Estimator fit failed. The score on this train-test partition for these parameters will be set to nan. Details: \n",
      "Traceback (most recent call last):\n",
      "  File \"/opt/conda/lib/python3.9/site-packages/sklearn/model_selection/_validation.py\", line 593, in _fit_and_score\n",
      "    estimator.fit(X_train, y_train, **fit_params)\n",
      "  File \"/opt/conda/lib/python3.9/site-packages/sklearn/neural_network/_multilayer_perceptron.py\", line 673, in fit\n",
      "    return self._fit(X, y, incremental=False)\n",
      "  File \"/opt/conda/lib/python3.9/site-packages/sklearn/neural_network/_multilayer_perceptron.py\", line 357, in _fit\n",
      "    self._validate_hyperparameters()\n",
      "  File \"/opt/conda/lib/python3.9/site-packages/sklearn/neural_network/_multilayer_perceptron.py\", line 448, in _validate_hyperparameters\n",
      "    raise ValueError(\"The activation '%s' is not supported. Supported \"\n",
      "ValueError: The activation 'Tanh' is not supported. Supported activations are ['identity', 'logistic', 'relu', 'softmax', 'tanh'].\n",
      "\n",
      "  warnings.warn(\"Estimator fit failed. The score on this train-test\"\n",
      "/opt/conda/lib/python3.9/site-packages/sklearn/model_selection/_validation.py:610: FitFailedWarning: Estimator fit failed. The score on this train-test partition for these parameters will be set to nan. Details: \n",
      "Traceback (most recent call last):\n",
      "  File \"/opt/conda/lib/python3.9/site-packages/sklearn/model_selection/_validation.py\", line 593, in _fit_and_score\n",
      "    estimator.fit(X_train, y_train, **fit_params)\n",
      "  File \"/opt/conda/lib/python3.9/site-packages/sklearn/neural_network/_multilayer_perceptron.py\", line 673, in fit\n",
      "    return self._fit(X, y, incremental=False)\n",
      "  File \"/opt/conda/lib/python3.9/site-packages/sklearn/neural_network/_multilayer_perceptron.py\", line 357, in _fit\n",
      "    self._validate_hyperparameters()\n",
      "  File \"/opt/conda/lib/python3.9/site-packages/sklearn/neural_network/_multilayer_perceptron.py\", line 448, in _validate_hyperparameters\n",
      "    raise ValueError(\"The activation '%s' is not supported. Supported \"\n",
      "ValueError: The activation 'Tanh' is not supported. Supported activations are ['identity', 'logistic', 'relu', 'softmax', 'tanh'].\n",
      "\n",
      "  warnings.warn(\"Estimator fit failed. The score on this train-test\"\n",
      "/opt/conda/lib/python3.9/site-packages/sklearn/model_selection/_search.py:918: UserWarning: One or more of the test scores are non-finite: [0.70167202 0.63629255        nan]\n",
      "  warnings.warn(\n"
     ]
    }
   ],
   "source": [
    "# Время начала\n",
    "start = dt.datetime.now()\n",
    "\n",
    "# Формируем словарь параметров\n",
    "param_NN = {'activation': [\"logistic\", \"relu\", \"Tanh\"]}\n",
    "\n",
    "# Создаем модель\n",
    "model_NN = MLPClassifier(random_state=seed)\n",
    "\n",
    "# Запускаем обучение\n",
    "grid_NN = GridSearchCV(model_NN, param_NN, cv=5)\n",
    "grid_NN.fit(features_train, target_train)\n",
    "\n",
    "# Время окончания\n",
    "stop = dt.datetime.now()"
   ]
  },
  {
   "cell_type": "code",
   "execution_count": 42,
   "metadata": {},
   "outputs": [
    {
     "name": "stdout",
     "output_type": "stream",
     "text": [
      "Время подбора параметров: 0:01:20.541804\n",
      "Лучшие гиперпараметры: {'activation': 'logistic'}\n",
      "Лучшая accuracy: 0.7017\n"
     ]
    }
   ],
   "source": [
    "print('Время подбора параметров:', stop-start)\n",
    "print('Лучшие гиперпараметры:', grid_NN.best_params_)\n",
    "print('Лучшая accuracy:', round(grid_NN.best_score_, 4))"
   ]
  },
  {
   "cell_type": "markdown",
   "metadata": {},
   "source": [
    "В результате лучшая модель показала **70%**.\n",
    "\n",
    "Её параметры:\n",
    "- 'activation': 'logistic'"
   ]
  },
  {
   "cell_type": "code",
   "execution_count": 43,
   "metadata": {},
   "outputs": [],
   "source": [
    "# Фиксируем результат\n",
    "model_NN = MLPClassifier(random_state=seed, activation = 'logistic')\n",
    "model_NN.fit(features_train, target_train)\n",
    "models_characteristics.loc['Нейронные сети'] = [model_NN, dt.time(0,1,30), .7017]"
   ]
  },
  {
   "cell_type": "markdown",
   "metadata": {},
   "source": [
    "### Catboost"
   ]
  },
  {
   "cell_type": "code",
   "execution_count": 44,
   "metadata": {},
   "outputs": [],
   "source": [
    "from catboost import CatBoostClassifier"
   ]
  },
  {
   "cell_type": "code",
   "execution_count": 45,
   "metadata": {
    "scrolled": true
   },
   "outputs": [
    {
     "data": {
      "application/vnd.jupyter.widget-view+json": {
       "model_id": "17444bcb6bec41efb3f0deb92c09b9ca",
       "version_major": 2,
       "version_minor": 0
      },
      "text/plain": [
       "MetricVisualizer(layout=Layout(align_self='stretch', height='500px'))"
      ]
     },
     "metadata": {},
     "output_type": "display_data"
    },
    {
     "name": "stdout",
     "output_type": "stream",
     "text": [
      "\n",
      "bestTest = 0.4036308981\n",
      "bestIteration = 199\n",
      "\n",
      "0:\tloss: 0.4036309\tbest: 0.4036309 (0)\ttotal: 1.24s\tremaining: 11.1s\n",
      "\n",
      "bestTest = 0.4014645882\n",
      "bestIteration = 218\n",
      "\n",
      "1:\tloss: 0.4014646\tbest: 0.4014646 (1)\ttotal: 2.03s\tremaining: 8.12s\n",
      "\n",
      "bestTest = 0.3996548894\n",
      "bestIteration = 429\n",
      "\n",
      "2:\tloss: 0.3996549\tbest: 0.3996549 (2)\ttotal: 3.43s\tremaining: 8s\n",
      "\n",
      "bestTest = 0.4035888827\n",
      "bestIteration = 104\n",
      "\n",
      "3:\tloss: 0.4035889\tbest: 0.3996549 (2)\ttotal: 4.77s\tremaining: 7.15s\n",
      "\n",
      "bestTest = 0.3990857769\n",
      "bestIteration = 410\n",
      "\n",
      "4:\tloss: 0.3990858\tbest: 0.3990858 (4)\ttotal: 6.07s\tremaining: 6.07s\n",
      "\n",
      "bestTest = 0.4055381025\n",
      "bestIteration = 95\n",
      "\n",
      "5:\tloss: 0.4055381\tbest: 0.3990858 (4)\ttotal: 7.38s\tremaining: 4.92s\n",
      "\n",
      "bestTest = 0.4041335829\n",
      "bestIteration = 132\n",
      "\n",
      "6:\tloss: 0.4041336\tbest: 0.3990858 (4)\ttotal: 8.67s\tremaining: 3.71s\n",
      "\n",
      "bestTest = 0.4053111669\n",
      "bestIteration = 52\n",
      "\n",
      "7:\tloss: 0.4053112\tbest: 0.3990858 (4)\ttotal: 18s\tremaining: 4.5s\n",
      "\n",
      "bestTest = 0.400811556\n",
      "bestIteration = 342\n",
      "\n",
      "8:\tloss: 0.4008116\tbest: 0.3990858 (4)\ttotal: 27.2s\tremaining: 3.03s\n",
      "\n",
      "bestTest = 0.4049699465\n",
      "bestIteration = 52\n",
      "\n",
      "9:\tloss: 0.4049699\tbest: 0.3990858 (4)\ttotal: 36.8s\tremaining: 0us\n",
      "Estimating final quality...\n",
      "Training on fold [0/3]\n",
      "\n",
      "bestTest = 0.4565143892\n",
      "bestIteration = 203\n",
      "\n",
      "Training on fold [1/3]\n",
      "\n",
      "bestTest = 0.4595650842\n",
      "bestIteration = 233\n",
      "\n",
      "Training on fold [2/3]\n",
      "\n",
      "bestTest = 0.4389457935\n",
      "bestIteration = 395\n",
      "\n"
     ]
    }
   ],
   "source": [
    "# Время начала\n",
    "start = dt.datetime.now()\n",
    "\n",
    "param_CatBoost = {'learning_rate': [0.03, 0.1],\n",
    "        'depth': [4, 6, 10],\n",
    "        'l2_leaf_reg': [1, 3, 5, 7, 9]}\n",
    "\n",
    "model_CatBoost = CatBoostClassifier(task_type=\"CPU\", devices='0:1', silent=True, random_state=seed)\n",
    "\n",
    "grid_CatBoost = model_CatBoost.randomized_search(param_CatBoost, X=features_train, \n",
    "                                                 y=target_train, plot=True)\n",
    "\n",
    "# Время окончания\n",
    "stop = dt.datetime.now()"
   ]
  },
  {
   "cell_type": "code",
   "execution_count": 46,
   "metadata": {},
   "outputs": [
    {
     "name": "stdout",
     "output_type": "stream",
     "text": [
      "Время подбора параметров: 0:00:42.754174\n",
      "Лучшие гиперпараметры: {'depth': 6, 'l2_leaf_reg': 7, 'learning_rate': 0.03}\n",
      "Лучшая accuracy: 0.6811\n"
     ]
    }
   ],
   "source": [
    "print('Время подбора параметров:', stop-start)\n",
    "print('Лучшие гиперпараметры:', grid_CatBoost['params'])\n",
    "print('Лучшая accuracy:', round(pd.DataFrame(grid_CatBoost['cv_results'])['test-Logloss-mean'].max(), 4))"
   ]
  },
  {
   "cell_type": "markdown",
   "metadata": {},
   "source": [
    "Лучшая модель показала **68%**.\n",
    "\n",
    "Её параметры:\n",
    "- 'depth': 6, \n",
    "- 'l2_leaf_reg': 7,\n",
    "- 'learning_rate': 0.03"
   ]
  },
  {
   "cell_type": "code",
   "execution_count": 47,
   "metadata": {},
   "outputs": [],
   "source": [
    "# Фиксируем результат\n",
    "model_CatBoost = CatBoostClassifier(task_type=\"CPU\", devices='0:1', silent=True, random_state=seed,\n",
    "                                   depth=6, l2_leaf_reg=7, learning_rate=0.03)\n",
    "model_CatBoost.fit(features_train, target_train)\n",
    "models_characteristics.loc['CatBoost'] = [model_CatBoost, dt.time(0,0,38), .6811]"
   ]
  },
  {
   "cell_type": "markdown",
   "metadata": {},
   "source": [
    "Теперь, когда у нас есть все модели, проверим их на тестовой выборке и запишем полученные результаты в таблицу"
   ]
  },
  {
   "cell_type": "code",
   "execution_count": 48,
   "metadata": {},
   "outputs": [],
   "source": [
    "# Функция, которая вернет нам правильность модели\n",
    "def get_accuracy_score(model, features, target):\n",
    "    return model.score(features, target)"
   ]
  },
  {
   "cell_type": "code",
   "execution_count": 49,
   "metadata": {},
   "outputs": [],
   "source": [
    "# Запишем в новый столбец результаты модели\n",
    "models_characteristics['accuracy_test'] = models_characteristics['model'].apply(get_accuracy_score, args=(features_test, target_test))"
   ]
  },
  {
   "cell_type": "code",
   "execution_count": 50,
   "metadata": {},
   "outputs": [
    {
     "data": {
      "text/html": [
       "<style  type=\"text/css\" >\n",
       "#T_73be8_row0_col3,#T_73be8_row1_col3,#T_73be8_row2_col3,#T_73be8_row3_col3,#T_73be8_row4_col3,#T_73be8_row5_col3,#T_73be8_row6_col3{\n",
       "            background-color:  Yellow;\n",
       "        }</style><table id=\"T_73be8_\" ><thead>    <tr>        <th class=\"blank level0\" ></th>        <th class=\"col_heading level0 col0\" >model</th>        <th class=\"col_heading level0 col1\" >time_hparam</th>        <th class=\"col_heading level0 col2\" >accuracy_valid</th>        <th class=\"col_heading level0 col3\" >accuracy_test</th>    </tr></thead><tbody>\n",
       "                <tr>\n",
       "                        <th id=\"T_73be8_level0_row0\" class=\"row_heading level0 row0\" >CatBoost</th>\n",
       "                        <td id=\"T_73be8_row0_col0\" class=\"data row0 col0\" ><catboost.core.CatBoostClassifier object at 0x7fbbdfc48b50></td>\n",
       "                        <td id=\"T_73be8_row0_col1\" class=\"data row0 col1\" >00:00:38</td>\n",
       "                        <td id=\"T_73be8_row0_col2\" class=\"data row0 col2\" >0.681100</td>\n",
       "                        <td id=\"T_73be8_row0_col3\" class=\"data row0 col3\" >0.818040</td>\n",
       "            </tr>\n",
       "            <tr>\n",
       "                        <th id=\"T_73be8_level0_row1\" class=\"row_heading level0 row1\" >Случайный лес (случайный поиск)</th>\n",
       "                        <td id=\"T_73be8_row1_col0\" class=\"data row1 col0\" >RandomForestClassifier(max_depth=95, max_features='sqrt', min_samples_leaf=3,\n",
       "                       min_samples_split=10, n_estimators=43, random_state=42)</td>\n",
       "                        <td id=\"T_73be8_row1_col1\" class=\"data row1 col1\" >00:00:31</td>\n",
       "                        <td id=\"T_73be8_row1_col2\" class=\"data row1 col2\" >0.808200</td>\n",
       "                        <td id=\"T_73be8_row1_col3\" class=\"data row1 col3\" >0.816485</td>\n",
       "            </tr>\n",
       "            <tr>\n",
       "                        <th id=\"T_73be8_level0_row2\" class=\"row_heading level0 row2\" >Случайный лес (Поиск по сетке)</th>\n",
       "                        <td id=\"T_73be8_row2_col0\" class=\"data row2 col0\" >RandomForestClassifier(max_depth=10, n_estimators=80, random_state=42)</td>\n",
       "                        <td id=\"T_73be8_row2_col1\" class=\"data row2 col1\" >00:01:51</td>\n",
       "                        <td id=\"T_73be8_row2_col2\" class=\"data row2 col2\" >0.805500</td>\n",
       "                        <td id=\"T_73be8_row2_col3\" class=\"data row2 col3\" >0.814930</td>\n",
       "            </tr>\n",
       "            <tr>\n",
       "                        <th id=\"T_73be8_level0_row3\" class=\"row_heading level0 row3\" >Решающее дерево</th>\n",
       "                        <td id=\"T_73be8_row3_col0\" class=\"data row3 col0\" >DecisionTreeClassifier(max_depth=8, min_samples_leaf=7, random_state=42)</td>\n",
       "                        <td id=\"T_73be8_row3_col1\" class=\"data row3 col1\" >00:00:09</td>\n",
       "                        <td id=\"T_73be8_row3_col2\" class=\"data row3 col2\" >0.790700</td>\n",
       "                        <td id=\"T_73be8_row3_col3\" class=\"data row3 col3\" >0.810264</td>\n",
       "            </tr>\n",
       "            <tr>\n",
       "                        <th id=\"T_73be8_level0_row4\" class=\"row_heading level0 row4\" >Логистическая регрессия</th>\n",
       "                        <td id=\"T_73be8_row4_col0\" class=\"data row4 col0\" >LogisticRegression(random_state=42, solver='newton-cg')</td>\n",
       "                        <td id=\"T_73be8_row4_col1\" class=\"data row4 col1\" >00:01:43</td>\n",
       "                        <td id=\"T_73be8_row4_col2\" class=\"data row4 col2\" >0.742200</td>\n",
       "                        <td id=\"T_73be8_row4_col3\" class=\"data row4 col3\" >0.758942</td>\n",
       "            </tr>\n",
       "            <tr>\n",
       "                        <th id=\"T_73be8_level0_row5\" class=\"row_heading level0 row5\" >Машины опорных векторов</th>\n",
       "                        <td id=\"T_73be8_row5_col0\" class=\"data row5 col0\" >LinearSVC(C=2, dual=False, random_state=42, tol=5.05e-05)</td>\n",
       "                        <td id=\"T_73be8_row5_col1\" class=\"data row5 col1\" >00:00:04</td>\n",
       "                        <td id=\"T_73be8_row5_col2\" class=\"data row5 col2\" >0.738600</td>\n",
       "                        <td id=\"T_73be8_row5_col3\" class=\"data row5 col3\" >0.758942</td>\n",
       "            </tr>\n",
       "            <tr>\n",
       "                        <th id=\"T_73be8_level0_row6\" class=\"row_heading level0 row6\" >Нейронные сети</th>\n",
       "                        <td id=\"T_73be8_row6_col0\" class=\"data row6 col0\" >MLPClassifier(activation='logistic', random_state=42)</td>\n",
       "                        <td id=\"T_73be8_row6_col1\" class=\"data row6 col1\" >00:01:30</td>\n",
       "                        <td id=\"T_73be8_row6_col2\" class=\"data row6 col2\" >0.701700</td>\n",
       "                        <td id=\"T_73be8_row6_col3\" class=\"data row6 col3\" >0.730949</td>\n",
       "            </tr>\n",
       "    </tbody></table>"
      ],
      "text/plain": [
       "<pandas.io.formats.style.Styler at 0x7fbc47a64df0>"
      ]
     },
     "metadata": {},
     "output_type": "display_data"
    }
   ],
   "source": [
    "# Выведем модели в порядке лучших резульатов\n",
    "pd.options.display.float_format = '{:,.4f}'.format\n",
    "display(models_characteristics.sort_values(by='accuracy_test', ascending=False)\n",
    "            .style.set_properties(**{'background-color': 'Yellow'}, subset=['accuracy_test']))\n",
    "pd.options.display.float_format = None"
   ]
  },
  {
   "cell_type": "markdown",
   "metadata": {},
   "source": [
    "Теперь, когда есть таблица с итоговыми результатами можно выделить следующие факты:\n",
    "- Первое место **CatBoost** (почти **82%**)\n",
    "- Второе место разделили модели **случайного леса** с разными видами подбора гиперпараметров. (**81,5 %**). Лучшим из них, конечно, можно считать модель со случайным поиском, т.к. время на подбор параметров в данном варианте **31 секунда**, а в поиске по сетке почти в **2 минуты**\n",
    "- На третье место, следует поставить модель **дерева решений**. Её показатель точности равен **81%**, при этом скорость подбора параметров, одна из самых маленьких - **9 секунд**\n",
    "- На четвертом месте расположены Логистическая регрессия\tи Машины опорных векторов. Качество ответов около **76%**\n",
    "- Самый маленький результат у нейросете, **73%** точности, а время подбора парметров довольно высокое **1:30** мин."
   ]
  },
  {
   "cell_type": "markdown",
   "metadata": {},
   "source": [
    "Из этого можно сделать следующий выводы:\n",
    "\n",
    "Если нужна **максимальная точность**, то лучше использовать **CatBoost**. У него даже при параметрах по умолчанию получаются довольно хорошие результаты, а если сделать ещё большой перебор, то можно найти модель с очень высокими показателями точности.\n",
    "В данном исследовании были проверены далеко не все гиперпараметры, а лишь малая часть, поэтому время поиска не очень большое, однако при серьезном подходе поиск лучшей модели может занять очень **много времени**.\n",
    "\n",
    "Если интересует одновременно и скорость, и высокая точность, то лучше использовать решающее дерево. Среди моделей с точностью выше **80%** у нее самый быстрый поиск гиперпарамтеров, всего **9 секунд**\n",
    "\n",
    "**Случайны лес** тоже имеет довольно высокие показатели, но минус в подборе гиперпараметров. Он будет такой же долгий, как и у **CatBoost**, а результат может быть не лучше\n",
    "\n",
    "По поводу **других алгоритмов**, нельзя сделать вывод что они работают хуже, дело в том, что для них проверены далеко не все параметры, а чтобы найти **ключевые**, потребуется досконально изучить их, что на данный момент не позволяют временные рамки, поэтому, можно заявлять только то, что для данной задачи и такими гиперпараметрами данные модели не являются эффективными"
   ]
  },
  {
   "cell_type": "code",
   "execution_count": null,
   "metadata": {},
   "outputs": [],
   "source": []
  }
 ],
 "metadata": {
  "ExecuteTimeLog": [
   {
    "duration": 397,
    "start_time": "2022-11-28T01:19:08.803Z"
   },
   {
    "duration": 116,
    "start_time": "2022-11-28T01:22:43.667Z"
   },
   {
    "duration": 73,
    "start_time": "2022-11-28T01:22:58.465Z"
   },
   {
    "duration": 17,
    "start_time": "2022-11-28T01:23:04.341Z"
   },
   {
    "duration": 8,
    "start_time": "2022-11-28T01:23:12.774Z"
   },
   {
    "duration": 10,
    "start_time": "2022-11-28T01:23:23.131Z"
   },
   {
    "duration": 9,
    "start_time": "2022-11-28T01:24:20.616Z"
   },
   {
    "duration": 7,
    "start_time": "2022-11-28T01:25:55.472Z"
   },
   {
    "duration": 7,
    "start_time": "2022-11-28T01:25:59.243Z"
   },
   {
    "duration": 8,
    "start_time": "2022-11-28T01:26:04.173Z"
   },
   {
    "duration": 619,
    "start_time": "2022-11-28T01:34:10.445Z"
   },
   {
    "duration": 4,
    "start_time": "2022-11-28T01:35:33.636Z"
   },
   {
    "duration": 2,
    "start_time": "2022-11-28T01:35:44.730Z"
   },
   {
    "duration": 4,
    "start_time": "2022-11-28T01:35:45.314Z"
   },
   {
    "duration": 38,
    "start_time": "2022-11-28T01:35:51.910Z"
   },
   {
    "duration": 2,
    "start_time": "2022-11-28T01:40:51.707Z"
   },
   {
    "duration": 3,
    "start_time": "2022-11-28T01:50:33.868Z"
   },
   {
    "duration": 3,
    "start_time": "2022-11-28T01:50:35.641Z"
   },
   {
    "duration": 3,
    "start_time": "2022-11-28T01:50:41.404Z"
   },
   {
    "duration": 4,
    "start_time": "2022-11-28T01:50:43.189Z"
   },
   {
    "duration": 5,
    "start_time": "2022-11-28T01:51:14.828Z"
   },
   {
    "duration": 44,
    "start_time": "2022-11-28T01:52:20.636Z"
   },
   {
    "duration": 5,
    "start_time": "2022-11-28T01:52:25.029Z"
   },
   {
    "duration": 6,
    "start_time": "2022-11-28T01:53:34.618Z"
   },
   {
    "duration": 9,
    "start_time": "2022-11-28T01:53:43.931Z"
   },
   {
    "duration": 4,
    "start_time": "2022-11-28T01:53:46.605Z"
   },
   {
    "duration": 4,
    "start_time": "2022-11-28T01:53:46.912Z"
   },
   {
    "duration": 11,
    "start_time": "2022-11-28T01:53:47.305Z"
   },
   {
    "duration": 12,
    "start_time": "2022-11-28T01:54:28.954Z"
   },
   {
    "duration": 11,
    "start_time": "2022-11-28T01:54:39.394Z"
   },
   {
    "duration": 16,
    "start_time": "2022-11-28T01:54:51.735Z"
   },
   {
    "duration": 4,
    "start_time": "2022-11-28T03:18:51.395Z"
   },
   {
    "duration": 5,
    "start_time": "2022-11-28T03:19:05.179Z"
   },
   {
    "duration": 3,
    "start_time": "2022-11-28T03:19:16.603Z"
   },
   {
    "duration": 5,
    "start_time": "2022-11-28T03:19:25.175Z"
   },
   {
    "duration": 3,
    "start_time": "2022-11-28T03:19:32.160Z"
   },
   {
    "duration": 2,
    "start_time": "2022-11-28T03:28:13.764Z"
   },
   {
    "duration": 2,
    "start_time": "2022-11-28T03:30:52.309Z"
   },
   {
    "duration": 12,
    "start_time": "2022-11-28T03:32:44.102Z"
   },
   {
    "duration": 17,
    "start_time": "2022-11-28T03:33:05.250Z"
   },
   {
    "duration": 13,
    "start_time": "2022-11-28T03:34:20.194Z"
   },
   {
    "duration": 11,
    "start_time": "2022-11-28T03:34:29.520Z"
   },
   {
    "duration": 9,
    "start_time": "2022-11-28T03:34:45.702Z"
   },
   {
    "duration": 13,
    "start_time": "2022-11-28T03:35:15.392Z"
   },
   {
    "duration": 10,
    "start_time": "2022-11-28T03:35:29.441Z"
   },
   {
    "duration": 11,
    "start_time": "2022-11-28T03:35:34.399Z"
   },
   {
    "duration": 36,
    "start_time": "2022-11-28T03:49:37.220Z"
   },
   {
    "duration": 3,
    "start_time": "2022-11-28T03:53:51.555Z"
   },
   {
    "duration": 15,
    "start_time": "2022-11-28T03:54:42.408Z"
   },
   {
    "duration": 13,
    "start_time": "2022-11-28T03:55:30.719Z"
   },
   {
    "duration": 7,
    "start_time": "2022-11-28T03:55:52.616Z"
   },
   {
    "duration": 5,
    "start_time": "2022-11-28T03:55:59.784Z"
   },
   {
    "duration": 34,
    "start_time": "2022-11-28T03:59:38.928Z"
   },
   {
    "duration": 998,
    "start_time": "2022-11-28T03:59:53.720Z"
   },
   {
    "duration": 56,
    "start_time": "2022-11-28T04:04:38.814Z"
   },
   {
    "duration": 946,
    "start_time": "2022-11-28T04:06:12.880Z"
   },
   {
    "duration": 952,
    "start_time": "2022-11-28T04:06:47.109Z"
   },
   {
    "duration": 12,
    "start_time": "2022-11-28T04:07:23.546Z"
   },
   {
    "duration": 12,
    "start_time": "2022-11-28T04:08:12.431Z"
   },
   {
    "duration": 945,
    "start_time": "2022-11-28T04:08:28.188Z"
   },
   {
    "duration": 10115,
    "start_time": "2022-11-28T04:08:39.478Z"
   },
   {
    "duration": 51,
    "start_time": "2022-11-28T04:08:56.110Z"
   },
   {
    "duration": 20182,
    "start_time": "2022-11-28T04:09:04.064Z"
   },
   {
    "duration": 53,
    "start_time": "2022-11-28T04:11:43.352Z"
   },
   {
    "duration": 12,
    "start_time": "2022-11-28T04:11:52.228Z"
   },
   {
    "duration": 10150,
    "start_time": "2022-11-28T04:14:31.644Z"
   },
   {
    "duration": 55,
    "start_time": "2022-11-28T04:14:52.083Z"
   },
   {
    "duration": 2,
    "start_time": "2022-11-28T04:15:08.016Z"
   },
   {
    "duration": 54,
    "start_time": "2022-11-28T04:15:08.601Z"
   },
   {
    "duration": 55,
    "start_time": "2022-11-28T04:15:32.525Z"
   },
   {
    "duration": 51,
    "start_time": "2022-11-28T04:15:37.138Z"
   },
   {
    "duration": 12,
    "start_time": "2022-11-28T04:19:19.298Z"
   },
   {
    "duration": 11,
    "start_time": "2022-11-28T04:20:33.115Z"
   },
   {
    "duration": 16,
    "start_time": "2022-11-28T04:23:28.734Z"
   },
   {
    "duration": 233,
    "start_time": "2022-11-28T04:23:37.128Z"
   },
   {
    "duration": 17932,
    "start_time": "2022-11-28T04:23:54.183Z"
   },
   {
    "duration": 1140,
    "start_time": "2022-11-28T04:25:50.626Z"
   },
   {
    "duration": 1084,
    "start_time": "2022-11-28T04:26:13.990Z"
   },
   {
    "duration": 1078,
    "start_time": "2022-11-28T04:26:27.910Z"
   },
   {
    "duration": 40697,
    "start_time": "2022-11-28T04:26:37.362Z"
   },
   {
    "duration": 1716617,
    "start_time": "2022-11-28T04:27:31.016Z"
   },
   {
    "duration": 59,
    "start_time": "2022-11-28T06:05:46.313Z"
   },
   {
    "duration": 18100,
    "start_time": "2022-11-28T06:05:54.922Z"
   },
   {
    "duration": 1499,
    "start_time": "2022-11-28T06:06:57.216Z"
   },
   {
    "duration": 18172,
    "start_time": "2022-11-28T06:07:46.118Z"
   },
   {
    "duration": 2,
    "start_time": "2022-11-28T06:13:50.293Z"
   },
   {
    "duration": 364,
    "start_time": "2022-11-28T06:21:19.955Z"
   },
   {
    "duration": 29,
    "start_time": "2022-11-28T06:21:20.321Z"
   },
   {
    "duration": 10,
    "start_time": "2022-11-28T06:21:20.352Z"
   },
   {
    "duration": 8,
    "start_time": "2022-11-28T06:21:20.364Z"
   },
   {
    "duration": 6,
    "start_time": "2022-11-28T06:21:20.374Z"
   },
   {
    "duration": 10,
    "start_time": "2022-11-28T06:21:20.382Z"
   },
   {
    "duration": 662,
    "start_time": "2022-11-28T06:21:20.393Z"
   },
   {
    "duration": 65,
    "start_time": "2022-11-28T06:21:21.056Z"
   },
   {
    "duration": 15,
    "start_time": "2022-11-28T06:21:21.122Z"
   },
   {
    "duration": 9,
    "start_time": "2022-11-28T06:21:21.139Z"
   },
   {
    "duration": 18195,
    "start_time": "2022-11-28T06:21:21.149Z"
   },
   {
    "duration": 2,
    "start_time": "2022-11-28T06:21:39.346Z"
   },
   {
    "duration": 49,
    "start_time": "2022-11-28T06:21:39.351Z"
   },
   {
    "duration": 23,
    "start_time": "2022-11-28T06:21:52.341Z"
   },
   {
    "duration": 23,
    "start_time": "2022-11-28T06:21:56.603Z"
   },
   {
    "duration": 13,
    "start_time": "2022-11-28T06:21:59.622Z"
   },
   {
    "duration": 14,
    "start_time": "2022-11-28T06:22:04.930Z"
   },
   {
    "duration": 23,
    "start_time": "2022-11-28T06:22:08.168Z"
   },
   {
    "duration": 35,
    "start_time": "2022-11-28T06:22:15.203Z"
   },
   {
    "duration": 26,
    "start_time": "2022-11-28T06:22:22.885Z"
   },
   {
    "duration": 23,
    "start_time": "2022-11-28T06:22:27.598Z"
   },
   {
    "duration": 22,
    "start_time": "2022-11-28T06:22:32.878Z"
   },
   {
    "duration": 22,
    "start_time": "2022-11-28T06:22:35.905Z"
   },
   {
    "duration": 48,
    "start_time": "2022-11-28T06:26:57.532Z"
   },
   {
    "duration": 3,
    "start_time": "2022-11-28T06:27:17.999Z"
   },
   {
    "duration": 94,
    "start_time": "2022-11-28T06:27:28.675Z"
   },
   {
    "duration": 680,
    "start_time": "2022-11-28T06:27:45.250Z"
   },
   {
    "duration": 4,
    "start_time": "2022-11-28T06:27:55.336Z"
   },
   {
    "duration": 2140,
    "start_time": "2022-11-28T06:27:56.282Z"
   },
   {
    "duration": 1844,
    "start_time": "2022-11-28T06:28:16.259Z"
   },
   {
    "duration": 6,
    "start_time": "2022-11-28T06:28:41.081Z"
   },
   {
    "duration": 3,
    "start_time": "2022-11-28T06:28:54.920Z"
   },
   {
    "duration": 8173,
    "start_time": "2022-11-28T06:28:55.603Z"
   },
   {
    "duration": 8,
    "start_time": "2022-11-28T06:29:03.777Z"
   },
   {
    "duration": 9,
    "start_time": "2022-11-28T06:29:08.360Z"
   },
   {
    "duration": 3,
    "start_time": "2022-11-28T06:30:12.401Z"
   },
   {
    "duration": 357,
    "start_time": "2022-11-28T06:30:14.223Z"
   },
   {
    "duration": 4,
    "start_time": "2022-11-28T06:30:16.799Z"
   },
   {
    "duration": 8,
    "start_time": "2022-11-28T06:30:43.221Z"
   },
   {
    "duration": 1377,
    "start_time": "2022-11-28T06:30:50.888Z"
   },
   {
    "duration": 2,
    "start_time": "2022-11-28T06:34:25.724Z"
   },
   {
    "duration": 1393,
    "start_time": "2022-11-28T06:34:26.435Z"
   },
   {
    "duration": 8124,
    "start_time": "2022-11-28T06:34:34.543Z"
   },
   {
    "duration": 9,
    "start_time": "2022-11-28T06:34:45.225Z"
   },
   {
    "duration": 18,
    "start_time": "2022-11-28T06:36:14.071Z"
   },
   {
    "duration": 20,
    "start_time": "2022-11-28T06:36:20.464Z"
   },
   {
    "duration": 95,
    "start_time": "2022-11-28T06:36:39.846Z"
   },
   {
    "duration": 104,
    "start_time": "2022-11-28T06:36:49.794Z"
   },
   {
    "duration": 23,
    "start_time": "2022-11-28T06:37:03.262Z"
   },
   {
    "duration": 104,
    "start_time": "2022-11-28T06:37:10.840Z"
   },
   {
    "duration": 103,
    "start_time": "2022-11-28T06:37:15.579Z"
   },
   {
    "duration": 106,
    "start_time": "2022-11-28T06:37:47.493Z"
   },
   {
    "duration": 97,
    "start_time": "2022-11-28T06:37:50.729Z"
   },
   {
    "duration": 13,
    "start_time": "2022-11-28T06:38:40.167Z"
   },
   {
    "duration": 15,
    "start_time": "2022-11-28T06:38:48.350Z"
   },
   {
    "duration": 12,
    "start_time": "2022-11-28T06:38:52.042Z"
   },
   {
    "duration": 10,
    "start_time": "2022-11-28T06:38:54.899Z"
   },
   {
    "duration": 13,
    "start_time": "2022-11-28T06:38:59.560Z"
   },
   {
    "duration": 24,
    "start_time": "2022-11-28T06:39:14.836Z"
   },
   {
    "duration": 353,
    "start_time": "2022-11-28T06:39:18.103Z"
   },
   {
    "duration": 618,
    "start_time": "2022-11-28T06:39:22.283Z"
   },
   {
    "duration": 9,
    "start_time": "2022-11-28T06:39:35.700Z"
   },
   {
    "duration": 102,
    "start_time": "2022-11-28T06:39:39.084Z"
   },
   {
    "duration": 112,
    "start_time": "2022-11-28T06:39:43.411Z"
   },
   {
    "duration": 10,
    "start_time": "2022-11-28T06:39:50.362Z"
   },
   {
    "duration": 12,
    "start_time": "2022-11-28T06:40:00.899Z"
   },
   {
    "duration": 9,
    "start_time": "2022-11-28T06:40:07.949Z"
   },
   {
    "duration": 15,
    "start_time": "2022-11-28T06:41:15.574Z"
   },
   {
    "duration": 10,
    "start_time": "2022-11-28T06:41:37.206Z"
   },
   {
    "duration": 23,
    "start_time": "2022-11-28T06:41:49.745Z"
   },
   {
    "duration": 103,
    "start_time": "2022-11-28T06:42:14.770Z"
   },
   {
    "duration": 391,
    "start_time": "2022-11-28T06:43:25.134Z"
   },
   {
    "duration": 29,
    "start_time": "2022-11-28T06:43:25.527Z"
   },
   {
    "duration": 10,
    "start_time": "2022-11-28T06:43:25.558Z"
   },
   {
    "duration": 3,
    "start_time": "2022-11-28T06:43:25.569Z"
   },
   {
    "duration": 6,
    "start_time": "2022-11-28T06:43:25.574Z"
   },
   {
    "duration": 8,
    "start_time": "2022-11-28T06:43:25.581Z"
   },
   {
    "duration": 697,
    "start_time": "2022-11-28T06:43:25.590Z"
   },
   {
    "duration": 63,
    "start_time": "2022-11-28T06:43:26.289Z"
   },
   {
    "duration": 15,
    "start_time": "2022-11-28T06:43:26.353Z"
   },
   {
    "duration": 9,
    "start_time": "2022-11-28T06:43:26.370Z"
   },
   {
    "duration": 18250,
    "start_time": "2022-11-28T06:43:26.380Z"
   },
   {
    "duration": 2,
    "start_time": "2022-11-28T06:43:44.632Z"
   },
   {
    "duration": 31,
    "start_time": "2022-11-28T06:43:44.636Z"
   },
   {
    "duration": 117,
    "start_time": "2022-11-28T06:43:44.669Z"
   },
   {
    "duration": 13,
    "start_time": "2022-11-28T06:43:44.787Z"
   },
   {
    "duration": 12,
    "start_time": "2022-11-28T06:43:54.864Z"
   },
   {
    "duration": 13799,
    "start_time": "2022-11-28T06:43:56.069Z"
   },
   {
    "duration": 324,
    "start_time": "2022-11-28T06:44:23.528Z"
   },
   {
    "duration": 3490,
    "start_time": "2022-11-28T06:44:32.126Z"
   },
   {
    "duration": 3578,
    "start_time": "2022-11-28T06:44:40.666Z"
   },
   {
    "duration": 140,
    "start_time": "2022-11-28T06:45:17.982Z"
   },
   {
    "duration": 137,
    "start_time": "2022-11-28T06:45:30.992Z"
   },
   {
    "duration": 152,
    "start_time": "2022-11-28T06:45:51.524Z"
   },
   {
    "duration": 168,
    "start_time": "2022-11-28T06:45:59.627Z"
   },
   {
    "duration": 332,
    "start_time": "2022-11-28T06:46:33.948Z"
   },
   {
    "duration": 111,
    "start_time": "2022-11-28T06:47:49.144Z"
   },
   {
    "duration": 31,
    "start_time": "2022-11-28T06:47:52.122Z"
   },
   {
    "duration": 107,
    "start_time": "2022-11-28T06:47:52.635Z"
   },
   {
    "duration": 13,
    "start_time": "2022-11-28T06:47:54.689Z"
   },
   {
    "duration": 28,
    "start_time": "2022-11-28T06:53:06.950Z"
   },
   {
    "duration": 131,
    "start_time": "2022-11-28T06:53:08.572Z"
   },
   {
    "duration": 14,
    "start_time": "2022-11-28T06:53:10.660Z"
   },
   {
    "duration": 50,
    "start_time": "2022-11-28T22:23:06.166Z"
   },
   {
    "duration": 412,
    "start_time": "2022-11-28T22:23:13.437Z"
   },
   {
    "duration": 116,
    "start_time": "2022-11-28T22:23:13.851Z"
   },
   {
    "duration": 11,
    "start_time": "2022-11-28T22:23:13.969Z"
   },
   {
    "duration": 8,
    "start_time": "2022-11-28T22:23:13.981Z"
   },
   {
    "duration": 24,
    "start_time": "2022-11-28T22:23:13.991Z"
   },
   {
    "duration": 30,
    "start_time": "2022-11-28T22:23:14.017Z"
   },
   {
    "duration": 660,
    "start_time": "2022-11-28T22:23:14.049Z"
   },
   {
    "duration": 66,
    "start_time": "2022-11-28T22:23:14.711Z"
   },
   {
    "duration": 17,
    "start_time": "2022-11-28T22:23:14.778Z"
   },
   {
    "duration": 12,
    "start_time": "2022-11-28T22:23:14.796Z"
   },
   {
    "duration": 18992,
    "start_time": "2022-11-28T22:23:14.810Z"
   },
   {
    "duration": 2,
    "start_time": "2022-11-28T22:23:33.804Z"
   },
   {
    "duration": 47,
    "start_time": "2022-11-28T22:23:33.808Z"
   },
   {
    "duration": 117,
    "start_time": "2022-11-28T22:23:33.857Z"
   },
   {
    "duration": 14,
    "start_time": "2022-11-28T22:23:37.757Z"
   },
   {
    "duration": 26,
    "start_time": "2022-11-28T22:23:40.454Z"
   },
   {
    "duration": 33,
    "start_time": "2022-11-28T22:24:02.047Z"
   },
   {
    "duration": 163,
    "start_time": "2022-11-28T22:24:08.934Z"
   },
   {
    "duration": 370,
    "start_time": "2022-11-28T22:24:15.216Z"
   },
   {
    "duration": 388,
    "start_time": "2022-11-28T22:24:22.067Z"
   },
   {
    "duration": 252,
    "start_time": "2022-11-28T22:24:25.961Z"
   },
   {
    "duration": 320,
    "start_time": "2022-11-28T22:24:29.306Z"
   },
   {
    "duration": 395,
    "start_time": "2022-11-28T22:24:32.737Z"
   },
   {
    "duration": 565,
    "start_time": "2022-11-28T22:24:37.906Z"
   },
   {
    "duration": 659,
    "start_time": "2022-11-28T22:24:41.818Z"
   },
   {
    "duration": 617,
    "start_time": "2022-11-28T22:24:53.549Z"
   },
   {
    "duration": 624,
    "start_time": "2022-11-28T22:24:56.783Z"
   },
   {
    "duration": 575,
    "start_time": "2022-11-28T22:25:00.778Z"
   },
   {
    "duration": 578,
    "start_time": "2022-11-28T22:25:08.593Z"
   },
   {
    "duration": 589,
    "start_time": "2022-11-28T22:25:11.211Z"
   },
   {
    "duration": 677,
    "start_time": "2022-11-28T22:25:16.000Z"
   },
   {
    "duration": 111,
    "start_time": "2022-11-28T22:25:21.230Z"
   },
   {
    "duration": 100,
    "start_time": "2022-11-28T22:25:24.458Z"
   },
   {
    "duration": 105,
    "start_time": "2022-11-28T22:25:26.844Z"
   },
   {
    "duration": 21,
    "start_time": "2022-11-28T22:25:30.844Z"
   },
   {
    "duration": 11,
    "start_time": "2022-11-28T22:25:35.632Z"
   },
   {
    "duration": 124,
    "start_time": "2022-11-28T22:25:39.556Z"
   },
   {
    "duration": 107,
    "start_time": "2022-11-28T22:25:44.246Z"
   },
   {
    "duration": 111,
    "start_time": "2022-11-28T22:25:48.503Z"
   },
   {
    "duration": 111,
    "start_time": "2022-11-28T22:25:53.505Z"
   },
   {
    "duration": 24,
    "start_time": "2022-11-28T22:37:29.796Z"
   },
   {
    "duration": 24,
    "start_time": "2022-11-28T22:37:33.273Z"
   },
   {
    "duration": 104,
    "start_time": "2022-11-28T22:37:41.580Z"
   },
   {
    "duration": 14,
    "start_time": "2022-11-28T22:37:46.894Z"
   },
   {
    "duration": 12,
    "start_time": "2022-11-28T22:37:49.953Z"
   },
   {
    "duration": 367,
    "start_time": "2022-11-28T22:37:52.961Z"
   },
   {
    "duration": 397,
    "start_time": "2022-11-28T22:37:57.109Z"
   },
   {
    "duration": 659,
    "start_time": "2022-11-28T22:38:01.626Z"
   },
   {
    "duration": 671,
    "start_time": "2022-11-28T22:38:04.949Z"
   },
   {
    "duration": 3,
    "start_time": "2022-11-28T22:39:05.813Z"
   },
   {
    "duration": 3,
    "start_time": "2022-11-28T22:39:54.170Z"
   },
   {
    "duration": 70,
    "start_time": "2022-11-28T22:40:41.417Z"
   },
   {
    "duration": 683,
    "start_time": "2022-11-28T22:42:01.052Z"
   },
   {
    "duration": 384,
    "start_time": "2022-11-28T22:42:11.851Z"
   },
   {
    "duration": 392,
    "start_time": "2022-11-28T22:42:16.241Z"
   },
   {
    "duration": 384,
    "start_time": "2022-11-28T22:42:24.787Z"
   },
   {
    "duration": 16,
    "start_time": "2022-11-28T22:42:34.938Z"
   },
   {
    "duration": 117,
    "start_time": "2022-11-28T22:42:43.332Z"
   },
   {
    "duration": 25,
    "start_time": "2022-11-28T22:42:55.009Z"
   },
   {
    "duration": 20096,
    "start_time": "2022-11-28T22:43:10.952Z"
   },
   {
    "duration": 67,
    "start_time": "2022-11-28T22:43:58.379Z"
   },
   {
    "duration": 71,
    "start_time": "2022-11-28T22:44:06.230Z"
   },
   {
    "duration": 5,
    "start_time": "2022-11-28T22:45:44.094Z"
   },
   {
    "duration": 3,
    "start_time": "2022-11-28T22:46:14.894Z"
   },
   {
    "duration": 52,
    "start_time": "2022-11-28T22:47:46.429Z"
   },
   {
    "duration": 105,
    "start_time": "2022-11-28T22:48:06.436Z"
   },
   {
    "duration": 1582,
    "start_time": "2022-11-28T22:48:16.557Z"
   },
   {
    "duration": 68,
    "start_time": "2022-11-28T22:53:38.510Z"
   },
   {
    "duration": 13,
    "start_time": "2022-11-28T22:53:56.820Z"
   },
   {
    "duration": 70,
    "start_time": "2022-11-28T22:54:29.398Z"
   },
   {
    "duration": 57,
    "start_time": "2022-11-28T22:54:53.352Z"
   },
   {
    "duration": 504,
    "start_time": "2022-11-28T22:54:58.657Z"
   },
   {
    "duration": 134,
    "start_time": "2022-11-28T22:55:08.478Z"
   },
   {
    "duration": 854,
    "start_time": "2022-11-28T22:55:13.302Z"
   },
   {
    "duration": 862,
    "start_time": "2022-11-28T22:55:17.510Z"
   },
   {
    "duration": 869,
    "start_time": "2022-11-28T22:55:25.205Z"
   },
   {
    "duration": 964,
    "start_time": "2022-11-28T22:55:48.394Z"
   },
   {
    "duration": 8,
    "start_time": "2022-11-28T22:56:21.964Z"
   },
   {
    "duration": 50,
    "start_time": "2022-11-28T22:56:24.874Z"
   },
   {
    "duration": 8955,
    "start_time": "2022-11-28T22:56:51.321Z"
   },
   {
    "duration": 8296,
    "start_time": "2022-11-28T22:58:52.196Z"
   },
   {
    "duration": 8123,
    "start_time": "2022-11-28T22:59:11.310Z"
   },
   {
    "duration": 8278,
    "start_time": "2022-11-28T22:59:23.353Z"
   },
   {
    "duration": 16240,
    "start_time": "2022-11-28T22:59:44.833Z"
   },
   {
    "duration": 2,
    "start_time": "2022-11-28T23:10:20.741Z"
   },
   {
    "duration": 3,
    "start_time": "2022-11-28T23:13:18.883Z"
   },
   {
    "duration": 12,
    "start_time": "2022-11-28T23:17:02.583Z"
   },
   {
    "duration": 9,
    "start_time": "2022-11-28T23:17:10.482Z"
   },
   {
    "duration": 279979,
    "start_time": "2022-11-28T23:17:23.652Z"
   },
   {
    "duration": 8,
    "start_time": "2022-11-28T23:22:03.636Z"
   },
   {
    "duration": 8,
    "start_time": "2022-11-28T23:22:18.932Z"
   },
   {
    "duration": 3,
    "start_time": "2022-11-28T23:22:25.461Z"
   },
   {
    "duration": 136,
    "start_time": "2022-11-28T23:24:13.522Z"
   },
   {
    "duration": 146,
    "start_time": "2022-11-28T23:24:33.457Z"
   },
   {
    "duration": 126,
    "start_time": "2022-11-28T23:25:11.754Z"
   },
   {
    "duration": 111,
    "start_time": "2022-11-28T23:25:20.193Z"
   },
   {
    "duration": 3,
    "start_time": "2022-11-28T23:26:16.052Z"
   },
   {
    "duration": 385,
    "start_time": "2022-11-29T00:44:24.841Z"
   },
   {
    "duration": 30,
    "start_time": "2022-11-29T00:44:25.228Z"
   },
   {
    "duration": 11,
    "start_time": "2022-11-29T00:44:25.259Z"
   },
   {
    "duration": 31,
    "start_time": "2022-11-29T00:44:25.272Z"
   },
   {
    "duration": 3,
    "start_time": "2022-11-29T00:44:25.304Z"
   },
   {
    "duration": 13,
    "start_time": "2022-11-29T00:44:25.308Z"
   },
   {
    "duration": 10,
    "start_time": "2022-11-29T00:44:25.322Z"
   },
   {
    "duration": 6,
    "start_time": "2022-11-29T00:44:25.334Z"
   },
   {
    "duration": 645,
    "start_time": "2022-11-29T00:44:25.341Z"
   },
   {
    "duration": 71,
    "start_time": "2022-11-29T00:44:25.989Z"
   },
   {
    "duration": 13,
    "start_time": "2022-11-29T00:44:26.062Z"
   },
   {
    "duration": 22,
    "start_time": "2022-11-29T00:44:26.076Z"
   },
   {
    "duration": 3,
    "start_time": "2022-11-29T00:44:27.433Z"
   },
   {
    "duration": 3,
    "start_time": "2022-11-29T00:44:28.266Z"
   },
   {
    "duration": 83060,
    "start_time": "2022-11-29T00:44:30.339Z"
   },
   {
    "duration": 3,
    "start_time": "2022-11-29T00:45:53.401Z"
   },
   {
    "duration": 2,
    "start_time": "2022-11-29T00:47:07.175Z"
   },
   {
    "duration": 2,
    "start_time": "2022-11-29T00:50:35.705Z"
   },
   {
    "duration": 3,
    "start_time": "2022-11-29T00:50:36.010Z"
   },
   {
    "duration": 8693,
    "start_time": "2022-11-29T00:50:54.730Z"
   },
   {
    "duration": 3,
    "start_time": "2022-11-29T00:51:22.633Z"
   },
   {
    "duration": 8836,
    "start_time": "2022-11-29T00:51:29.850Z"
   },
   {
    "duration": 3,
    "start_time": "2022-11-29T00:52:26.369Z"
   },
   {
    "duration": 8603,
    "start_time": "2022-11-29T00:52:26.655Z"
   },
   {
    "duration": 4,
    "start_time": "2022-11-29T00:52:35.260Z"
   },
   {
    "duration": 11,
    "start_time": "2022-11-29T00:56:16.805Z"
   },
   {
    "duration": 18,
    "start_time": "2022-11-29T00:56:40.351Z"
   },
   {
    "duration": 10,
    "start_time": "2022-11-29T00:56:44.853Z"
   },
   {
    "duration": 10,
    "start_time": "2022-11-29T00:56:49.546Z"
   },
   {
    "duration": 10,
    "start_time": "2022-11-29T00:56:55.654Z"
   },
   {
    "duration": 10,
    "start_time": "2022-11-29T00:57:14.353Z"
   },
   {
    "duration": 5,
    "start_time": "2022-11-29T00:57:49.099Z"
   },
   {
    "duration": 3,
    "start_time": "2022-11-29T01:02:00.308Z"
   },
   {
    "duration": 3,
    "start_time": "2022-11-29T01:06:15.028Z"
   },
   {
    "duration": 13,
    "start_time": "2022-11-29T01:28:33.728Z"
   },
   {
    "duration": 108,
    "start_time": "2022-11-29T01:29:47.946Z"
   },
   {
    "duration": 9865,
    "start_time": "2022-11-29T01:29:55.829Z"
   },
   {
    "duration": 4,
    "start_time": "2022-11-29T01:30:14.194Z"
   },
   {
    "duration": 3,
    "start_time": "2022-11-29T01:30:15.421Z"
   },
   {
    "duration": 11,
    "start_time": "2022-11-29T01:30:47.715Z"
   },
   {
    "duration": 4,
    "start_time": "2022-11-29T01:32:09.199Z"
   },
   {
    "duration": 3,
    "start_time": "2022-11-29T01:32:09.874Z"
   },
   {
    "duration": 4,
    "start_time": "2022-11-29T01:35:40.652Z"
   },
   {
    "duration": 4,
    "start_time": "2022-11-29T01:41:12.430Z"
   },
   {
    "duration": 3,
    "start_time": "2022-11-29T01:41:13.327Z"
   },
   {
    "duration": 50291,
    "start_time": "2022-11-29T01:41:14.370Z"
   },
   {
    "duration": 94439,
    "start_time": "2022-11-29T01:42:06.799Z"
   },
   {
    "duration": 4,
    "start_time": "2022-11-29T01:43:41.239Z"
   },
   {
    "duration": 9,
    "start_time": "2022-11-29T01:43:41.245Z"
   },
   {
    "duration": 95085,
    "start_time": "2022-11-29T01:43:55.897Z"
   },
   {
    "duration": 4,
    "start_time": "2022-11-29T01:45:30.984Z"
   },
   {
    "duration": 16,
    "start_time": "2022-11-29T01:45:30.990Z"
   },
   {
    "duration": 2,
    "start_time": "2022-11-29T03:25:19.741Z"
   },
   {
    "duration": 3,
    "start_time": "2022-11-29T03:25:20.212Z"
   },
   {
    "duration": 24288,
    "start_time": "2022-11-29T03:25:21.033Z"
   },
   {
    "duration": 0,
    "start_time": "2022-11-29T03:25:45.323Z"
   },
   {
    "duration": 3,
    "start_time": "2022-11-29T03:26:01.842Z"
   },
   {
    "duration": 3,
    "start_time": "2022-11-29T03:27:56.841Z"
   },
   {
    "duration": 5,
    "start_time": "2022-11-29T03:30:26.147Z"
   },
   {
    "duration": 25393,
    "start_time": "2022-11-29T03:34:52.278Z"
   },
   {
    "duration": 11,
    "start_time": "2022-11-29T03:35:43.283Z"
   },
   {
    "duration": 968,
    "start_time": "2022-11-29T03:40:46.248Z"
   },
   {
    "duration": 26784,
    "start_time": "2022-11-29T03:40:59.309Z"
   },
   {
    "duration": 6,
    "start_time": "2022-11-29T03:54:22.414Z"
   },
   {
    "duration": 4,
    "start_time": "2022-11-29T03:54:45.058Z"
   },
   {
    "duration": 143831,
    "start_time": "2022-11-29T03:55:18.617Z"
   },
   {
    "duration": 0,
    "start_time": "2022-11-29T03:57:42.450Z"
   },
   {
    "duration": 0,
    "start_time": "2022-11-29T03:57:42.451Z"
   },
   {
    "duration": 20,
    "start_time": "2022-11-29T03:57:50.890Z"
   },
   {
    "duration": 11051,
    "start_time": "2022-11-29T03:57:58.094Z"
   },
   {
    "duration": 4,
    "start_time": "2022-11-29T03:58:13.561Z"
   },
   {
    "duration": 4,
    "start_time": "2022-11-29T03:58:14.485Z"
   },
   {
    "duration": 5,
    "start_time": "2022-11-29T04:03:01.295Z"
   },
   {
    "duration": 33069,
    "start_time": "2022-11-29T04:03:03.162Z"
   },
   {
    "duration": 4,
    "start_time": "2022-11-29T04:03:55.130Z"
   },
   {
    "duration": 4,
    "start_time": "2022-11-29T04:03:57.338Z"
   },
   {
    "duration": 4,
    "start_time": "2022-11-29T04:11:31.816Z"
   },
   {
    "duration": 5,
    "start_time": "2022-11-29T04:11:32.497Z"
   },
   {
    "duration": 3,
    "start_time": "2022-11-29T04:12:32.435Z"
   },
   {
    "duration": 3,
    "start_time": "2022-11-29T04:12:32.736Z"
   },
   {
    "duration": 214433,
    "start_time": "2022-11-29T04:12:33.172Z"
   },
   {
    "duration": 0,
    "start_time": "2022-11-29T04:16:07.607Z"
   },
   {
    "duration": 3,
    "start_time": "2022-11-29T04:16:09.324Z"
   },
   {
    "duration": 226737,
    "start_time": "2022-11-29T04:16:09.853Z"
   },
   {
    "duration": 3,
    "start_time": "2022-11-29T04:19:56.592Z"
   },
   {
    "duration": 4,
    "start_time": "2022-11-29T04:20:06.731Z"
   },
   {
    "duration": 3,
    "start_time": "2022-11-29T04:20:13.773Z"
   },
   {
    "duration": 9,
    "start_time": "2022-11-29T04:21:54.780Z"
   },
   {
    "duration": 35,
    "start_time": "2022-11-29T04:21:54.791Z"
   },
   {
    "duration": 15,
    "start_time": "2022-11-29T04:21:54.827Z"
   },
   {
    "duration": 18,
    "start_time": "2022-11-29T04:21:54.844Z"
   },
   {
    "duration": 9,
    "start_time": "2022-11-29T04:21:54.865Z"
   },
   {
    "duration": 10,
    "start_time": "2022-11-29T04:21:54.875Z"
   },
   {
    "duration": 8,
    "start_time": "2022-11-29T04:21:54.886Z"
   },
   {
    "duration": 20,
    "start_time": "2022-11-29T04:21:54.895Z"
   },
   {
    "duration": 6,
    "start_time": "2022-11-29T04:21:54.917Z"
   },
   {
    "duration": 17,
    "start_time": "2022-11-29T04:21:54.925Z"
   },
   {
    "duration": 14,
    "start_time": "2022-11-29T04:21:54.946Z"
   },
   {
    "duration": 10995,
    "start_time": "2022-11-29T04:21:54.962Z"
   },
   {
    "duration": 3,
    "start_time": "2022-11-29T04:22:05.959Z"
   },
   {
    "duration": 10,
    "start_time": "2022-11-29T04:22:05.964Z"
   },
   {
    "duration": 9,
    "start_time": "2022-11-29T04:22:05.976Z"
   },
   {
    "duration": 3,
    "start_time": "2022-11-29T04:22:07.748Z"
   },
   {
    "duration": 3,
    "start_time": "2022-11-29T04:22:11.329Z"
   },
   {
    "duration": 96106,
    "start_time": "2022-11-29T04:22:15.911Z"
   },
   {
    "duration": 5,
    "start_time": "2022-11-29T04:23:52.019Z"
   },
   {
    "duration": 10,
    "start_time": "2022-11-29T04:23:52.036Z"
   },
   {
    "duration": 31782,
    "start_time": "2022-11-29T04:24:03.395Z"
   },
   {
    "duration": 3,
    "start_time": "2022-11-29T04:24:35.180Z"
   },
   {
    "duration": 14,
    "start_time": "2022-11-29T04:24:35.185Z"
   },
   {
    "duration": 5,
    "start_time": "2022-11-29T04:25:15.365Z"
   },
   {
    "duration": 11215,
    "start_time": "2022-11-29T04:25:24.569Z"
   },
   {
    "duration": 4,
    "start_time": "2022-11-29T04:26:09.262Z"
   },
   {
    "duration": 4,
    "start_time": "2022-11-29T04:26:11.014Z"
   },
   {
    "duration": 4,
    "start_time": "2022-11-29T04:26:39.848Z"
   },
   {
    "duration": 31510,
    "start_time": "2022-11-29T04:26:53.989Z"
   },
   {
    "duration": 3,
    "start_time": "2022-11-29T05:30:52.895Z"
   },
   {
    "duration": 3,
    "start_time": "2022-11-29T05:37:15.109Z"
   },
   {
    "duration": 13,
    "start_time": "2022-11-29T05:43:50.332Z"
   },
   {
    "duration": 34085,
    "start_time": "2022-11-29T05:43:58.996Z"
   },
   {
    "duration": 3,
    "start_time": "2022-11-29T05:44:46.699Z"
   },
   {
    "duration": 3,
    "start_time": "2022-11-29T05:44:58.489Z"
   },
   {
    "duration": 3,
    "start_time": "2022-11-29T05:45:51.609Z"
   },
   {
    "duration": 4,
    "start_time": "2022-11-29T05:46:28.861Z"
   },
   {
    "duration": 4,
    "start_time": "2022-11-29T05:46:31.022Z"
   },
   {
    "duration": 4,
    "start_time": "2022-11-29T05:46:38.277Z"
   },
   {
    "duration": 9,
    "start_time": "2022-11-29T05:47:43.085Z"
   },
   {
    "duration": 9,
    "start_time": "2022-11-29T05:49:28.961Z"
   },
   {
    "duration": 7,
    "start_time": "2022-11-29T05:50:30.846Z"
   },
   {
    "duration": 9,
    "start_time": "2022-11-29T05:50:50.462Z"
   },
   {
    "duration": 33647,
    "start_time": "2022-11-29T05:50:57.890Z"
   },
   {
    "duration": 4,
    "start_time": "2022-11-29T05:53:21.254Z"
   },
   {
    "duration": 5,
    "start_time": "2022-11-29T05:56:46.843Z"
   },
   {
    "duration": 3,
    "start_time": "2022-11-29T05:56:48.455Z"
   },
   {
    "duration": 10883,
    "start_time": "2022-11-29T05:56:49.017Z"
   },
   {
    "duration": 5,
    "start_time": "2022-11-29T05:58:00.835Z"
   },
   {
    "duration": 2,
    "start_time": "2022-11-29T05:58:18.162Z"
   },
   {
    "duration": 2,
    "start_time": "2022-11-29T05:58:29.881Z"
   },
   {
    "duration": 4,
    "start_time": "2022-11-29T05:58:30.654Z"
   },
   {
    "duration": 3,
    "start_time": "2022-11-29T05:59:53.847Z"
   },
   {
    "duration": 2,
    "start_time": "2022-11-29T05:59:54.973Z"
   },
   {
    "duration": 4,
    "start_time": "2022-11-29T06:04:02.562Z"
   },
   {
    "duration": 4,
    "start_time": "2022-11-29T06:04:03.058Z"
   },
   {
    "duration": 100892,
    "start_time": "2022-11-29T06:04:04.093Z"
   },
   {
    "duration": 3,
    "start_time": "2022-11-29T06:05:44.987Z"
   },
   {
    "duration": 42,
    "start_time": "2022-11-29T06:05:44.991Z"
   },
   {
    "duration": 69,
    "start_time": "2022-11-29T06:05:45.035Z"
   },
   {
    "duration": 4,
    "start_time": "2022-11-29T06:05:49.490Z"
   },
   {
    "duration": 10,
    "start_time": "2022-11-29T06:12:54.347Z"
   },
   {
    "duration": 48,
    "start_time": "2022-11-29T06:12:55.974Z"
   },
   {
    "duration": 18741,
    "start_time": "2022-11-29T06:12:56.173Z"
   },
   {
    "duration": 17574,
    "start_time": "2022-11-29T06:13:19.354Z"
   },
   {
    "duration": 3,
    "start_time": "2022-11-29T06:43:57.774Z"
   },
   {
    "duration": 3,
    "start_time": "2022-11-29T06:44:47.248Z"
   },
   {
    "duration": 2,
    "start_time": "2022-11-29T06:44:59.901Z"
   },
   {
    "duration": 99080,
    "start_time": "2022-11-29T06:45:09.252Z"
   },
   {
    "duration": 5,
    "start_time": "2022-11-29T06:48:23.834Z"
   },
   {
    "duration": 4,
    "start_time": "2022-11-29T06:48:35.524Z"
   },
   {
    "duration": 34395,
    "start_time": "2022-11-29T06:49:18.480Z"
   },
   {
    "duration": 5,
    "start_time": "2022-11-29T06:49:58.634Z"
   },
   {
    "duration": 3,
    "start_time": "2022-11-29T06:50:33.513Z"
   },
   {
    "duration": 3,
    "start_time": "2022-11-29T06:50:36.682Z"
   },
   {
    "duration": 118220,
    "start_time": "2022-11-29T06:50:38.039Z"
   },
   {
    "duration": 0,
    "start_time": "2022-11-29T06:52:36.261Z"
   },
   {
    "duration": 111148,
    "start_time": "2022-11-29T06:52:38.531Z"
   },
   {
    "duration": 0,
    "start_time": "2022-11-29T06:54:29.681Z"
   },
   {
    "duration": 2,
    "start_time": "2022-11-29T06:54:31.975Z"
   },
   {
    "duration": 16708,
    "start_time": "2022-11-29T06:54:39.545Z"
   },
   {
    "duration": 4,
    "start_time": "2022-11-29T06:55:03.931Z"
   },
   {
    "duration": 3,
    "start_time": "2022-11-29T06:55:45.043Z"
   },
   {
    "duration": 2,
    "start_time": "2022-11-29T06:55:55.790Z"
   },
   {
    "duration": 75009,
    "start_time": "2022-11-29T06:55:56.874Z"
   },
   {
    "duration": 4,
    "start_time": "2022-11-29T06:57:21.385Z"
   },
   {
    "duration": 3,
    "start_time": "2022-11-29T06:58:04.757Z"
   },
   {
    "duration": 75,
    "start_time": "2022-11-29T06:58:07.404Z"
   },
   {
    "duration": 3,
    "start_time": "2022-11-29T06:58:31.968Z"
   },
   {
    "duration": 3,
    "start_time": "2022-11-29T07:04:15.976Z"
   },
   {
    "duration": 61,
    "start_time": "2022-11-29T07:04:16.996Z"
   },
   {
    "duration": 2,
    "start_time": "2022-11-29T07:07:55.245Z"
   },
   {
    "duration": 65,
    "start_time": "2022-11-29T07:07:57.274Z"
   },
   {
    "duration": 50,
    "start_time": "2022-11-29T11:01:01.921Z"
   },
   {
    "duration": 413,
    "start_time": "2022-11-29T11:01:06.047Z"
   },
   {
    "duration": 63,
    "start_time": "2022-11-29T11:01:06.462Z"
   },
   {
    "duration": 12,
    "start_time": "2022-11-29T11:01:06.527Z"
   },
   {
    "duration": 18,
    "start_time": "2022-11-29T11:01:06.541Z"
   },
   {
    "duration": 691,
    "start_time": "2022-11-29T11:01:06.561Z"
   },
   {
    "duration": 3,
    "start_time": "2022-11-29T11:01:07.254Z"
   },
   {
    "duration": 6,
    "start_time": "2022-11-29T11:01:07.259Z"
   },
   {
    "duration": 9,
    "start_time": "2022-11-29T11:01:07.267Z"
   },
   {
    "duration": 4,
    "start_time": "2022-11-29T11:01:07.277Z"
   },
   {
    "duration": 68,
    "start_time": "2022-11-29T11:01:10.146Z"
   },
   {
    "duration": 6,
    "start_time": "2022-11-29T11:01:16.246Z"
   },
   {
    "duration": 5,
    "start_time": "2022-11-29T11:01:50.491Z"
   },
   {
    "duration": 74,
    "start_time": "2022-11-29T11:04:22.427Z"
   },
   {
    "duration": 5,
    "start_time": "2022-11-29T11:04:36.342Z"
   },
   {
    "duration": 8,
    "start_time": "2022-11-29T11:04:49.164Z"
   },
   {
    "duration": 87,
    "start_time": "2022-11-29T11:18:30.179Z"
   },
   {
    "duration": 16,
    "start_time": "2022-11-29T11:18:36.259Z"
   },
   {
    "duration": 5,
    "start_time": "2022-11-29T11:18:43.717Z"
   },
   {
    "duration": 9,
    "start_time": "2022-11-29T11:18:44.305Z"
   },
   {
    "duration": 10,
    "start_time": "2022-11-29T11:18:49.531Z"
   },
   {
    "duration": 3268,
    "start_time": "2022-11-29T11:19:03.755Z"
   },
   {
    "duration": 7,
    "start_time": "2022-11-29T11:19:07.469Z"
   },
   {
    "duration": 4,
    "start_time": "2022-11-29T11:19:24.184Z"
   },
   {
    "duration": 12,
    "start_time": "2022-11-29T11:19:30.594Z"
   },
   {
    "duration": 41,
    "start_time": "2022-11-29T11:26:59.497Z"
   },
   {
    "duration": 3,
    "start_time": "2022-11-29T11:27:01.952Z"
   },
   {
    "duration": 18,
    "start_time": "2022-11-29T11:27:03.791Z"
   },
   {
    "duration": 2,
    "start_time": "2022-11-29T11:27:09.431Z"
   },
   {
    "duration": 3,
    "start_time": "2022-11-29T11:27:10.589Z"
   },
   {
    "duration": 3,
    "start_time": "2022-11-29T11:27:11.280Z"
   },
   {
    "duration": 10903,
    "start_time": "2022-11-29T11:27:12.547Z"
   },
   {
    "duration": 4,
    "start_time": "2022-11-29T11:27:35.870Z"
   },
   {
    "duration": 4,
    "start_time": "2022-11-29T11:29:41.160Z"
   },
   {
    "duration": 10815,
    "start_time": "2022-11-29T11:31:24.461Z"
   },
   {
    "duration": 4,
    "start_time": "2022-11-29T11:31:40.388Z"
   },
   {
    "duration": 2,
    "start_time": "2022-11-29T11:33:17.309Z"
   },
   {
    "duration": 2,
    "start_time": "2022-11-29T11:33:28.918Z"
   },
   {
    "duration": 3,
    "start_time": "2022-11-29T11:34:40.068Z"
   },
   {
    "duration": 3,
    "start_time": "2022-11-29T11:34:40.708Z"
   },
   {
    "duration": 89,
    "start_time": "2022-11-29T11:34:42.393Z"
   },
   {
    "duration": 3,
    "start_time": "2022-11-29T11:34:42.848Z"
   },
   {
    "duration": 3,
    "start_time": "2022-11-29T11:34:48.708Z"
   },
   {
    "duration": 4,
    "start_time": "2022-11-29T11:34:49.621Z"
   },
   {
    "duration": 3,
    "start_time": "2022-11-29T11:34:50.190Z"
   },
   {
    "duration": 11058,
    "start_time": "2022-11-29T11:34:51.558Z"
   },
   {
    "duration": 3,
    "start_time": "2022-11-29T11:35:06.964Z"
   },
   {
    "duration": 19,
    "start_time": "2022-11-29T11:35:35.416Z"
   },
   {
    "duration": 3,
    "start_time": "2022-11-29T11:36:07.720Z"
   },
   {
    "duration": 3,
    "start_time": "2022-11-29T11:36:09.501Z"
   },
   {
    "duration": 3,
    "start_time": "2022-11-29T11:36:22.036Z"
   },
   {
    "duration": 3,
    "start_time": "2022-11-29T11:36:22.712Z"
   },
   {
    "duration": 3,
    "start_time": "2022-11-29T11:36:23.181Z"
   },
   {
    "duration": 5,
    "start_time": "2022-11-29T11:40:50.096Z"
   },
   {
    "duration": 10,
    "start_time": "2022-11-29T11:41:07.443Z"
   },
   {
    "duration": 12,
    "start_time": "2022-11-29T11:41:11.776Z"
   },
   {
    "duration": 19,
    "start_time": "2022-11-29T11:41:12.153Z"
   },
   {
    "duration": 34497,
    "start_time": "2022-11-29T11:41:14.139Z"
   },
   {
    "duration": 12,
    "start_time": "2022-11-29T11:41:48.639Z"
   },
   {
    "duration": 4,
    "start_time": "2022-11-29T11:52:07.750Z"
   },
   {
    "duration": 20,
    "start_time": "2022-11-29T11:54:27.924Z"
   },
   {
    "duration": 13,
    "start_time": "2022-11-29T11:54:52.157Z"
   },
   {
    "duration": 16,
    "start_time": "2022-11-29T11:54:54.108Z"
   },
   {
    "duration": 10,
    "start_time": "2022-11-29T11:54:58.074Z"
   },
   {
    "duration": 12,
    "start_time": "2022-11-29T11:55:05.017Z"
   },
   {
    "duration": 7,
    "start_time": "2022-11-29T11:55:42.332Z"
   },
   {
    "duration": 3,
    "start_time": "2022-11-29T11:56:01.933Z"
   },
   {
    "duration": 6,
    "start_time": "2022-11-29T11:56:04.855Z"
   },
   {
    "duration": 8,
    "start_time": "2022-11-29T11:56:09.896Z"
   },
   {
    "duration": 6,
    "start_time": "2022-11-29T11:56:39.803Z"
   },
   {
    "duration": 9,
    "start_time": "2022-11-29T11:56:42.929Z"
   },
   {
    "duration": 8,
    "start_time": "2022-11-29T11:56:52.736Z"
   },
   {
    "duration": 10,
    "start_time": "2022-11-29T11:56:57.608Z"
   },
   {
    "duration": 14,
    "start_time": "2022-11-29T11:58:27.445Z"
   },
   {
    "duration": 9,
    "start_time": "2022-11-29T12:00:35.321Z"
   },
   {
    "duration": 8,
    "start_time": "2022-11-29T12:00:39.486Z"
   },
   {
    "duration": 8,
    "start_time": "2022-11-29T12:00:41.208Z"
   },
   {
    "duration": 8,
    "start_time": "2022-11-29T12:00:44.112Z"
   },
   {
    "duration": 2,
    "start_time": "2022-11-29T12:03:12.532Z"
   },
   {
    "duration": 9,
    "start_time": "2022-11-29T12:03:16.920Z"
   },
   {
    "duration": 2,
    "start_time": "2022-11-29T12:03:27.824Z"
   },
   {
    "duration": 10782,
    "start_time": "2022-11-29T12:03:34.339Z"
   },
   {
    "duration": 8,
    "start_time": "2022-11-29T12:04:02.823Z"
   },
   {
    "duration": 2,
    "start_time": "2022-11-29T12:04:13.941Z"
   },
   {
    "duration": 3,
    "start_time": "2022-11-29T12:04:17.326Z"
   },
   {
    "duration": 36,
    "start_time": "2022-11-29T12:04:17.331Z"
   },
   {
    "duration": 10,
    "start_time": "2022-11-29T12:04:17.369Z"
   },
   {
    "duration": 14,
    "start_time": "2022-11-29T12:04:17.381Z"
   },
   {
    "duration": 6,
    "start_time": "2022-11-29T12:04:17.396Z"
   },
   {
    "duration": 5,
    "start_time": "2022-11-29T12:04:17.403Z"
   },
   {
    "duration": 6,
    "start_time": "2022-11-29T12:04:17.410Z"
   },
   {
    "duration": 9,
    "start_time": "2022-11-29T12:04:17.417Z"
   },
   {
    "duration": 4,
    "start_time": "2022-11-29T12:04:17.428Z"
   },
   {
    "duration": 19,
    "start_time": "2022-11-29T12:04:17.435Z"
   },
   {
    "duration": 4,
    "start_time": "2022-11-29T12:04:19.869Z"
   },
   {
    "duration": 3,
    "start_time": "2022-11-29T12:04:20.314Z"
   },
   {
    "duration": 9,
    "start_time": "2022-11-29T12:04:23.392Z"
   },
   {
    "duration": 9,
    "start_time": "2022-11-29T12:04:25.902Z"
   },
   {
    "duration": 9,
    "start_time": "2022-11-29T12:04:26.760Z"
   },
   {
    "duration": 9,
    "start_time": "2022-11-29T12:04:27.372Z"
   },
   {
    "duration": 13,
    "start_time": "2022-11-29T12:04:27.953Z"
   },
   {
    "duration": 7,
    "start_time": "2022-11-29T12:06:34.586Z"
   },
   {
    "duration": 43,
    "start_time": "2022-11-29T12:06:37.006Z"
   },
   {
    "duration": 7,
    "start_time": "2022-11-29T12:06:42.560Z"
   },
   {
    "duration": 7,
    "start_time": "2022-11-29T12:06:52.709Z"
   },
   {
    "duration": 6,
    "start_time": "2022-11-29T12:06:58.051Z"
   },
   {
    "duration": 3,
    "start_time": "2022-11-29T12:07:04.355Z"
   },
   {
    "duration": 3,
    "start_time": "2022-11-29T12:07:05.849Z"
   },
   {
    "duration": 6,
    "start_time": "2022-11-29T12:07:09.308Z"
   },
   {
    "duration": 5,
    "start_time": "2022-11-29T12:07:16.971Z"
   },
   {
    "duration": 13,
    "start_time": "2022-11-29T12:07:20.597Z"
   },
   {
    "duration": 377,
    "start_time": "2022-11-29T12:07:28.914Z"
   },
   {
    "duration": 31,
    "start_time": "2022-11-29T12:07:29.293Z"
   },
   {
    "duration": 12,
    "start_time": "2022-11-29T12:07:29.326Z"
   },
   {
    "duration": 17,
    "start_time": "2022-11-29T12:07:29.340Z"
   },
   {
    "duration": 768,
    "start_time": "2022-11-29T12:07:29.359Z"
   },
   {
    "duration": 3,
    "start_time": "2022-11-29T12:07:30.129Z"
   },
   {
    "duration": 18,
    "start_time": "2022-11-29T12:07:30.134Z"
   },
   {
    "duration": 28,
    "start_time": "2022-11-29T12:07:30.154Z"
   },
   {
    "duration": 42,
    "start_time": "2022-11-29T12:07:30.184Z"
   },
   {
    "duration": 19,
    "start_time": "2022-11-29T12:07:30.229Z"
   },
   {
    "duration": 15,
    "start_time": "2022-11-29T12:07:30.251Z"
   },
   {
    "duration": 58,
    "start_time": "2022-11-29T12:07:30.268Z"
   },
   {
    "duration": 3,
    "start_time": "2022-11-29T12:07:30.328Z"
   },
   {
    "duration": 69,
    "start_time": "2022-11-29T12:07:33.480Z"
   },
   {
    "duration": 11,
    "start_time": "2022-11-29T12:07:51.532Z"
   },
   {
    "duration": 3,
    "start_time": "2022-11-29T12:07:55.366Z"
   },
   {
    "duration": 3,
    "start_time": "2022-11-29T12:07:57.710Z"
   },
   {
    "duration": 4,
    "start_time": "2022-11-29T12:07:58.119Z"
   },
   {
    "duration": 11129,
    "start_time": "2022-11-29T12:07:59.081Z"
   },
   {
    "duration": 5,
    "start_time": "2022-11-29T12:08:20.970Z"
   },
   {
    "duration": 16,
    "start_time": "2022-11-29T12:08:26.103Z"
   },
   {
    "duration": 4,
    "start_time": "2022-11-29T12:08:30.621Z"
   },
   {
    "duration": 18,
    "start_time": "2022-11-29T12:08:44.359Z"
   },
   {
    "duration": 8,
    "start_time": "2022-11-29T12:08:51.589Z"
   },
   {
    "duration": 11,
    "start_time": "2022-11-29T12:13:16.177Z"
   },
   {
    "duration": 5,
    "start_time": "2022-11-29T12:13:38.677Z"
   },
   {
    "duration": 10,
    "start_time": "2022-11-29T12:13:48.489Z"
   },
   {
    "duration": 11,
    "start_time": "2022-11-29T12:13:56.869Z"
   },
   {
    "duration": 7,
    "start_time": "2022-11-29T12:13:59.327Z"
   },
   {
    "duration": 184,
    "start_time": "2022-11-29T12:14:06.412Z"
   },
   {
    "duration": 9,
    "start_time": "2022-11-29T12:14:11.535Z"
   },
   {
    "duration": 188,
    "start_time": "2022-11-29T12:14:23.251Z"
   },
   {
    "duration": 31,
    "start_time": "2022-11-29T12:14:23.744Z"
   },
   {
    "duration": 5,
    "start_time": "2022-11-29T12:15:29.265Z"
   },
   {
    "duration": 192,
    "start_time": "2022-11-29T12:15:35.378Z"
   },
   {
    "duration": 19,
    "start_time": "2022-11-29T12:15:36.969Z"
   },
   {
    "duration": 27,
    "start_time": "2022-11-29T12:16:20.524Z"
   },
   {
    "duration": 8,
    "start_time": "2022-11-29T12:16:41.487Z"
   },
   {
    "duration": 209,
    "start_time": "2022-11-29T12:16:50.006Z"
   },
   {
    "duration": 31,
    "start_time": "2022-11-29T12:16:51.585Z"
   },
   {
    "duration": 18,
    "start_time": "2022-11-29T12:17:02.261Z"
   },
   {
    "duration": 12,
    "start_time": "2022-11-29T12:17:04.654Z"
   },
   {
    "duration": 31,
    "start_time": "2022-11-29T12:17:11.208Z"
   },
   {
    "duration": 5,
    "start_time": "2022-11-29T12:17:29.941Z"
   },
   {
    "duration": 3,
    "start_time": "2022-11-29T12:17:32.854Z"
   },
   {
    "duration": 6,
    "start_time": "2022-11-29T12:18:13.512Z"
   },
   {
    "duration": 189,
    "start_time": "2022-11-29T12:18:17.259Z"
   },
   {
    "duration": 30,
    "start_time": "2022-11-29T12:18:17.992Z"
   },
   {
    "duration": 21,
    "start_time": "2022-11-29T12:19:14.755Z"
   },
   {
    "duration": 43,
    "start_time": "2022-11-29T12:19:17.774Z"
   },
   {
    "duration": 3,
    "start_time": "2022-11-29T12:19:47.250Z"
   },
   {
    "duration": 52,
    "start_time": "2022-11-29T12:19:47.255Z"
   },
   {
    "duration": 12,
    "start_time": "2022-11-29T12:19:47.308Z"
   },
   {
    "duration": 11,
    "start_time": "2022-11-29T12:19:47.322Z"
   },
   {
    "duration": 6,
    "start_time": "2022-11-29T12:19:47.336Z"
   },
   {
    "duration": 5,
    "start_time": "2022-11-29T12:19:47.344Z"
   },
   {
    "duration": 9,
    "start_time": "2022-11-29T12:19:47.351Z"
   },
   {
    "duration": 9,
    "start_time": "2022-11-29T12:19:47.363Z"
   },
   {
    "duration": 4,
    "start_time": "2022-11-29T12:19:47.374Z"
   },
   {
    "duration": 9,
    "start_time": "2022-11-29T12:19:47.380Z"
   },
   {
    "duration": 11,
    "start_time": "2022-11-29T12:19:47.391Z"
   },
   {
    "duration": 11,
    "start_time": "2022-11-29T12:19:47.404Z"
   },
   {
    "duration": 9,
    "start_time": "2022-11-29T12:19:47.417Z"
   },
   {
    "duration": 11446,
    "start_time": "2022-11-29T12:19:47.428Z"
   },
   {
    "duration": 5,
    "start_time": "2022-11-29T12:19:58.876Z"
   },
   {
    "duration": 19,
    "start_time": "2022-11-29T12:19:58.883Z"
   },
   {
    "duration": 3,
    "start_time": "2022-11-29T12:19:58.904Z"
   },
   {
    "duration": 6,
    "start_time": "2022-11-29T12:19:58.909Z"
   },
   {
    "duration": 36,
    "start_time": "2022-11-29T12:19:58.917Z"
   },
   {
    "duration": 0,
    "start_time": "2022-11-29T12:19:58.955Z"
   },
   {
    "duration": 1,
    "start_time": "2022-11-29T12:19:58.956Z"
   },
   {
    "duration": 3,
    "start_time": "2022-11-29T12:21:27.214Z"
   },
   {
    "duration": 34259,
    "start_time": "2022-11-29T12:21:42.670Z"
   },
   {
    "duration": 5,
    "start_time": "2022-11-29T12:23:05.304Z"
   },
   {
    "duration": 3,
    "start_time": "2022-11-29T12:25:24.768Z"
   },
   {
    "duration": 111873,
    "start_time": "2022-11-29T12:25:29.248Z"
   },
   {
    "duration": 5,
    "start_time": "2022-11-29T12:27:21.123Z"
   },
   {
    "duration": 59,
    "start_time": "2022-11-29T12:27:33.180Z"
   },
   {
    "duration": 41,
    "start_time": "2022-11-29T12:27:47.135Z"
   },
   {
    "duration": 100,
    "start_time": "2022-11-29T12:27:59.214Z"
   },
   {
    "duration": 21,
    "start_time": "2022-11-29T12:28:04.880Z"
   },
   {
    "duration": 98,
    "start_time": "2022-11-29T12:28:32.589Z"
   },
   {
    "duration": 101,
    "start_time": "2022-11-29T12:28:39.018Z"
   },
   {
    "duration": 98,
    "start_time": "2022-11-29T12:28:48.512Z"
   },
   {
    "duration": 178,
    "start_time": "2022-11-29T12:28:53.017Z"
   },
   {
    "duration": 6,
    "start_time": "2022-11-29T12:29:04.875Z"
   },
   {
    "duration": 20,
    "start_time": "2022-11-29T12:29:08.889Z"
   },
   {
    "duration": 236,
    "start_time": "2022-11-29T12:29:17.435Z"
   },
   {
    "duration": 111,
    "start_time": "2022-11-29T12:29:21.128Z"
   },
   {
    "duration": 41,
    "start_time": "2022-11-29T12:29:25.239Z"
   },
   {
    "duration": 9,
    "start_time": "2022-11-29T12:30:31.994Z"
   },
   {
    "duration": 3,
    "start_time": "2022-11-29T12:30:37.216Z"
   },
   {
    "duration": 3,
    "start_time": "2022-11-29T12:30:37.901Z"
   },
   {
    "duration": 78289,
    "start_time": "2022-11-29T12:30:38.880Z"
   },
   {
    "duration": 5,
    "start_time": "2022-11-29T12:31:57.171Z"
   },
   {
    "duration": 5,
    "start_time": "2022-11-29T12:38:32.694Z"
   },
   {
    "duration": 11,
    "start_time": "2022-11-29T12:38:56.251Z"
   },
   {
    "duration": 2870,
    "start_time": "2022-11-29T12:40:08.990Z"
   },
   {
    "duration": 86,
    "start_time": "2022-11-29T12:40:26.993Z"
   },
   {
    "duration": 2,
    "start_time": "2022-11-29T12:41:24.280Z"
   },
   {
    "duration": 69,
    "start_time": "2022-11-29T12:41:26.741Z"
   },
   {
    "duration": 49,
    "start_time": "2022-11-29T12:52:43.878Z"
   },
   {
    "duration": 4,
    "start_time": "2022-11-29T12:52:45.726Z"
   },
   {
    "duration": 13,
    "start_time": "2022-11-29T12:52:55.689Z"
   },
   {
    "duration": 13,
    "start_time": "2022-11-29T12:53:04.790Z"
   },
   {
    "duration": 280,
    "start_time": "2022-11-29T12:53:11.714Z"
   },
   {
    "duration": 4,
    "start_time": "2022-11-29T12:53:16.381Z"
   },
   {
    "duration": 250,
    "start_time": "2022-11-29T12:55:14.581Z"
   },
   {
    "duration": 31,
    "start_time": "2022-11-29T12:55:35.558Z"
   },
   {
    "duration": 10,
    "start_time": "2022-11-29T12:55:51.235Z"
   },
   {
    "duration": 33,
    "start_time": "2022-11-29T12:56:03.790Z"
   },
   {
    "duration": 26,
    "start_time": "2022-11-29T12:56:06.542Z"
   },
   {
    "duration": 36,
    "start_time": "2022-11-29T12:56:47.427Z"
   },
   {
    "duration": 28,
    "start_time": "2022-11-29T12:58:03.867Z"
   },
   {
    "duration": 831,
    "start_time": "2022-11-29T12:58:25.314Z"
   },
   {
    "duration": 4,
    "start_time": "2022-11-29T12:58:29.880Z"
   },
   {
    "duration": 832,
    "start_time": "2022-11-29T12:58:42.192Z"
   },
   {
    "duration": 4,
    "start_time": "2022-11-29T12:58:44.749Z"
   },
   {
    "duration": 85,
    "start_time": "2022-11-29T12:59:31.465Z"
   },
   {
    "duration": 841,
    "start_time": "2022-11-29T12:59:40.215Z"
   },
   {
    "duration": 468,
    "start_time": "2022-11-29T12:59:52.157Z"
   },
   {
    "duration": 5,
    "start_time": "2022-11-29T12:59:59.789Z"
   },
   {
    "duration": 785,
    "start_time": "2022-11-29T13:00:06.691Z"
   },
   {
    "duration": 9,
    "start_time": "2022-11-29T13:00:09.868Z"
   },
   {
    "duration": 30,
    "start_time": "2022-11-29T13:01:10.161Z"
   },
   {
    "duration": 766,
    "start_time": "2022-11-29T13:01:40.444Z"
   },
   {
    "duration": 5,
    "start_time": "2022-11-29T13:01:45.125Z"
   },
   {
    "duration": 16,
    "start_time": "2022-11-29T13:03:29.692Z"
   },
   {
    "duration": 6490,
    "start_time": "2022-11-29T13:03:47.263Z"
   },
   {
    "duration": 4,
    "start_time": "2022-11-29T13:03:53.754Z"
   },
   {
    "duration": 13,
    "start_time": "2022-11-29T13:04:53.418Z"
   },
   {
    "duration": 6710,
    "start_time": "2022-11-29T13:05:13.246Z"
   },
   {
    "duration": 4,
    "start_time": "2022-11-29T13:05:19.958Z"
   },
   {
    "duration": 3021,
    "start_time": "2022-11-29T13:05:42.001Z"
   },
   {
    "duration": 5,
    "start_time": "2022-11-29T13:05:46.982Z"
   },
   {
    "duration": 12125,
    "start_time": "2022-11-29T13:06:11.578Z"
   },
   {
    "duration": 4,
    "start_time": "2022-11-29T13:06:29.812Z"
   },
   {
    "duration": 14,
    "start_time": "2022-11-29T13:06:45.938Z"
   },
   {
    "duration": 14,
    "start_time": "2022-11-29T13:07:05.996Z"
   },
   {
    "duration": 2927,
    "start_time": "2022-11-29T13:07:11.075Z"
   },
   {
    "duration": 5,
    "start_time": "2022-11-29T13:07:22.793Z"
   },
   {
    "duration": 123079,
    "start_time": "2022-11-29T13:07:38.703Z"
   },
   {
    "duration": 5,
    "start_time": "2022-11-29T13:10:03.169Z"
   },
   {
    "duration": 1573,
    "start_time": "2022-11-29T13:10:09.664Z"
   },
   {
    "duration": 4,
    "start_time": "2022-11-29T13:10:14.719Z"
   },
   {
    "duration": 17213,
    "start_time": "2022-11-29T13:11:08.070Z"
   },
   {
    "duration": 4,
    "start_time": "2022-11-29T13:11:41.145Z"
   },
   {
    "duration": 1453,
    "start_time": "2022-11-29T13:11:55.688Z"
   },
   {
    "duration": 4,
    "start_time": "2022-11-29T13:11:58.252Z"
   },
   {
    "duration": 12,
    "start_time": "2022-11-29T13:19:56.824Z"
   },
   {
    "duration": 10,
    "start_time": "2022-11-29T13:22:51.904Z"
   },
   {
    "duration": 1469,
    "start_time": "2022-11-29T13:22:57.412Z"
   },
   {
    "duration": 4,
    "start_time": "2022-11-29T13:23:03.664Z"
   },
   {
    "duration": 7,
    "start_time": "2022-11-29T13:23:31.596Z"
   },
   {
    "duration": 11,
    "start_time": "2022-11-29T13:26:14.492Z"
   },
   {
    "duration": 9,
    "start_time": "2022-11-29T13:26:32.680Z"
   },
   {
    "duration": 4,
    "start_time": "2022-11-29T13:27:44.241Z"
   },
   {
    "duration": 1482,
    "start_time": "2022-11-29T13:27:56.182Z"
   },
   {
    "duration": 4,
    "start_time": "2022-11-29T13:28:01.648Z"
   },
   {
    "duration": 15756,
    "start_time": "2022-11-29T13:28:56.864Z"
   },
   {
    "duration": 3,
    "start_time": "2022-11-29T13:29:25.717Z"
   },
   {
    "duration": 15604,
    "start_time": "2022-11-29T13:29:34.920Z"
   },
   {
    "duration": 4,
    "start_time": "2022-11-29T13:29:50.525Z"
   },
   {
    "duration": 4,
    "start_time": "2022-11-29T13:30:27.682Z"
   },
   {
    "duration": 15271,
    "start_time": "2022-11-29T13:30:39.678Z"
   },
   {
    "duration": 5,
    "start_time": "2022-11-29T13:31:00.409Z"
   },
   {
    "duration": 7484,
    "start_time": "2022-11-29T13:31:10.370Z"
   },
   {
    "duration": 4,
    "start_time": "2022-11-29T13:31:21.820Z"
   },
   {
    "duration": 4480,
    "start_time": "2022-11-29T13:31:29.763Z"
   },
   {
    "duration": 4,
    "start_time": "2022-11-29T13:31:39.418Z"
   },
   {
    "duration": 12,
    "start_time": "2022-11-29T13:32:48.333Z"
   },
   {
    "duration": 4440,
    "start_time": "2022-11-29T13:34:38.761Z"
   },
   {
    "duration": 4,
    "start_time": "2022-11-29T13:34:50.447Z"
   },
   {
    "duration": 24,
    "start_time": "2022-11-29T13:35:34.382Z"
   },
   {
    "duration": 140665,
    "start_time": "2022-11-29T13:35:43.927Z"
   },
   {
    "duration": 76,
    "start_time": "2022-11-29T13:38:45.530Z"
   },
   {
    "duration": 432,
    "start_time": "2022-11-29T13:41:41.527Z"
   },
   {
    "duration": 30,
    "start_time": "2022-11-29T13:41:41.961Z"
   },
   {
    "duration": 13,
    "start_time": "2022-11-29T13:41:41.992Z"
   },
   {
    "duration": 20,
    "start_time": "2022-11-29T13:41:42.007Z"
   },
   {
    "duration": 705,
    "start_time": "2022-11-29T13:41:42.030Z"
   },
   {
    "duration": 3,
    "start_time": "2022-11-29T13:41:42.737Z"
   },
   {
    "duration": 8,
    "start_time": "2022-11-29T13:41:42.741Z"
   },
   {
    "duration": 12,
    "start_time": "2022-11-29T13:41:42.750Z"
   },
   {
    "duration": 9,
    "start_time": "2022-11-29T13:41:42.764Z"
   },
   {
    "duration": 13,
    "start_time": "2022-11-29T13:41:42.775Z"
   },
   {
    "duration": 7,
    "start_time": "2022-11-29T13:41:42.790Z"
   },
   {
    "duration": 52,
    "start_time": "2022-11-29T13:41:42.799Z"
   },
   {
    "duration": 10609,
    "start_time": "2022-11-29T13:41:42.853Z"
   },
   {
    "duration": 4,
    "start_time": "2022-11-29T13:41:53.465Z"
   },
   {
    "duration": 124,
    "start_time": "2022-11-29T13:41:53.471Z"
   },
   {
    "duration": 0,
    "start_time": "2022-11-29T13:41:53.597Z"
   },
   {
    "duration": 0,
    "start_time": "2022-11-29T13:41:53.598Z"
   },
   {
    "duration": 0,
    "start_time": "2022-11-29T13:41:53.599Z"
   },
   {
    "duration": 0,
    "start_time": "2022-11-29T13:41:53.600Z"
   },
   {
    "duration": 0,
    "start_time": "2022-11-29T13:41:53.601Z"
   },
   {
    "duration": 0,
    "start_time": "2022-11-29T13:41:53.603Z"
   },
   {
    "duration": 0,
    "start_time": "2022-11-29T13:41:53.604Z"
   },
   {
    "duration": 0,
    "start_time": "2022-11-29T13:41:53.604Z"
   },
   {
    "duration": 0,
    "start_time": "2022-11-29T13:41:53.605Z"
   },
   {
    "duration": 0,
    "start_time": "2022-11-29T13:41:53.606Z"
   },
   {
    "duration": 0,
    "start_time": "2022-11-29T13:41:53.607Z"
   },
   {
    "duration": 1,
    "start_time": "2022-11-29T13:41:53.608Z"
   },
   {
    "duration": 0,
    "start_time": "2022-11-29T13:41:53.609Z"
   },
   {
    "duration": 0,
    "start_time": "2022-11-29T13:41:53.611Z"
   },
   {
    "duration": 0,
    "start_time": "2022-11-29T13:41:53.612Z"
   },
   {
    "duration": 0,
    "start_time": "2022-11-29T13:41:53.614Z"
   },
   {
    "duration": 0,
    "start_time": "2022-11-29T13:41:53.615Z"
   },
   {
    "duration": 11,
    "start_time": "2022-11-29T13:42:09.199Z"
   },
   {
    "duration": 7,
    "start_time": "2022-11-29T13:42:16.452Z"
   },
   {
    "duration": 5577,
    "start_time": "2022-11-29T13:42:18.976Z"
   },
   {
    "duration": 8,
    "start_time": "2022-11-29T13:42:25.617Z"
   },
   {
    "duration": 12,
    "start_time": "2022-11-29T13:42:27.526Z"
   },
   {
    "duration": 5349,
    "start_time": "2022-11-29T13:42:39.908Z"
   },
   {
    "duration": 8,
    "start_time": "2022-11-29T13:42:48.206Z"
   },
   {
    "duration": 10,
    "start_time": "2022-11-29T13:42:49.299Z"
   },
   {
    "duration": 14848,
    "start_time": "2022-11-29T13:42:56.306Z"
   },
   {
    "duration": 103,
    "start_time": "2022-11-29T13:43:11.156Z"
   },
   {
    "duration": 217,
    "start_time": "2022-11-29T13:43:11.261Z"
   },
   {
    "duration": 30,
    "start_time": "2022-11-29T13:46:12.870Z"
   },
   {
    "duration": 259,
    "start_time": "2022-11-29T13:47:00.178Z"
   },
   {
    "duration": 8349,
    "start_time": "2022-11-29T13:47:06.309Z"
   },
   {
    "duration": 261,
    "start_time": "2022-11-29T13:47:22.394Z"
   },
   {
    "duration": 6,
    "start_time": "2022-11-29T13:47:54.768Z"
   },
   {
    "duration": 297,
    "start_time": "2022-11-29T13:48:27.717Z"
   },
   {
    "duration": 80,
    "start_time": "2022-11-29T13:48:54.793Z"
   },
   {
    "duration": 4,
    "start_time": "2022-11-29T13:49:00.841Z"
   },
   {
    "duration": 103424,
    "start_time": "2022-11-29T13:49:16.626Z"
   },
   {
    "duration": 6,
    "start_time": "2022-11-29T13:51:00.053Z"
   },
   {
    "duration": 3,
    "start_time": "2022-11-29T13:51:08.948Z"
   },
   {
    "duration": 31,
    "start_time": "2022-11-29T13:51:52.771Z"
   },
   {
    "duration": 66724,
    "start_time": "2022-11-29T13:52:13.133Z"
   },
   {
    "duration": 95,
    "start_time": "2022-11-29T13:53:19.860Z"
   },
   {
    "duration": 113659,
    "start_time": "2022-11-29T13:55:19.799Z"
   },
   {
    "duration": 93,
    "start_time": "2022-11-29T13:57:13.460Z"
   },
   {
    "duration": 28205,
    "start_time": "2022-11-29T14:00:44.849Z"
   },
   {
    "duration": 23389,
    "start_time": "2022-11-29T14:01:34.963Z"
   },
   {
    "duration": 3,
    "start_time": "2022-11-29T14:02:57.973Z"
   },
   {
    "duration": 32,
    "start_time": "2022-11-29T14:02:57.978Z"
   },
   {
    "duration": 11,
    "start_time": "2022-11-29T14:02:58.011Z"
   },
   {
    "duration": 15,
    "start_time": "2022-11-29T14:02:58.024Z"
   },
   {
    "duration": 4,
    "start_time": "2022-11-29T14:02:58.041Z"
   },
   {
    "duration": 7,
    "start_time": "2022-11-29T14:02:58.047Z"
   },
   {
    "duration": 4,
    "start_time": "2022-11-29T14:02:58.056Z"
   },
   {
    "duration": 65,
    "start_time": "2022-11-29T14:02:58.062Z"
   },
   {
    "duration": 6,
    "start_time": "2022-11-29T14:02:58.129Z"
   },
   {
    "duration": 9,
    "start_time": "2022-11-29T14:02:58.151Z"
   },
   {
    "duration": 8,
    "start_time": "2022-11-29T14:02:58.162Z"
   },
   {
    "duration": 7,
    "start_time": "2022-11-29T14:02:58.172Z"
   },
   {
    "duration": 10830,
    "start_time": "2022-11-29T14:02:58.181Z"
   },
   {
    "duration": 4,
    "start_time": "2022-11-29T14:03:09.014Z"
   },
   {
    "duration": 32,
    "start_time": "2022-11-29T14:03:09.020Z"
   },
   {
    "duration": 0,
    "start_time": "2022-11-29T14:03:09.053Z"
   },
   {
    "duration": 0,
    "start_time": "2022-11-29T14:03:09.054Z"
   },
   {
    "duration": 0,
    "start_time": "2022-11-29T14:03:09.055Z"
   },
   {
    "duration": 0,
    "start_time": "2022-11-29T14:03:09.057Z"
   },
   {
    "duration": 0,
    "start_time": "2022-11-29T14:03:09.058Z"
   },
   {
    "duration": 0,
    "start_time": "2022-11-29T14:03:09.059Z"
   },
   {
    "duration": 0,
    "start_time": "2022-11-29T14:03:09.060Z"
   },
   {
    "duration": 0,
    "start_time": "2022-11-29T14:03:09.061Z"
   },
   {
    "duration": 0,
    "start_time": "2022-11-29T14:03:09.062Z"
   },
   {
    "duration": 0,
    "start_time": "2022-11-29T14:03:09.063Z"
   },
   {
    "duration": 0,
    "start_time": "2022-11-29T14:03:09.064Z"
   },
   {
    "duration": 0,
    "start_time": "2022-11-29T14:03:09.065Z"
   },
   {
    "duration": 0,
    "start_time": "2022-11-29T14:03:09.066Z"
   },
   {
    "duration": 0,
    "start_time": "2022-11-29T14:03:09.067Z"
   },
   {
    "duration": 0,
    "start_time": "2022-11-29T14:03:09.068Z"
   },
   {
    "duration": 0,
    "start_time": "2022-11-29T14:03:09.069Z"
   },
   {
    "duration": 0,
    "start_time": "2022-11-29T14:03:09.070Z"
   },
   {
    "duration": 0,
    "start_time": "2022-11-29T14:03:09.071Z"
   },
   {
    "duration": 0,
    "start_time": "2022-11-29T14:04:33.658Z"
   },
   {
    "duration": 0,
    "start_time": "2022-11-29T14:04:33.750Z"
   },
   {
    "duration": 0,
    "start_time": "2022-11-29T14:04:33.752Z"
   },
   {
    "duration": 0,
    "start_time": "2022-11-29T14:04:33.753Z"
   },
   {
    "duration": 4,
    "start_time": "2022-11-29T14:05:34.440Z"
   },
   {
    "duration": 22780,
    "start_time": "2022-11-29T14:05:44.982Z"
   },
   {
    "duration": 449,
    "start_time": "2022-11-29T14:06:37.623Z"
   },
   {
    "duration": 30,
    "start_time": "2022-11-29T14:06:38.074Z"
   },
   {
    "duration": 12,
    "start_time": "2022-11-29T14:06:38.105Z"
   },
   {
    "duration": 26,
    "start_time": "2022-11-29T14:06:38.119Z"
   },
   {
    "duration": 713,
    "start_time": "2022-11-29T14:06:38.147Z"
   },
   {
    "duration": 3,
    "start_time": "2022-11-29T14:06:38.862Z"
   },
   {
    "duration": 10,
    "start_time": "2022-11-29T14:06:38.867Z"
   },
   {
    "duration": 11,
    "start_time": "2022-11-29T14:06:38.878Z"
   },
   {
    "duration": 6,
    "start_time": "2022-11-29T14:06:38.891Z"
   },
   {
    "duration": 6,
    "start_time": "2022-11-29T14:06:38.900Z"
   },
   {
    "duration": 6,
    "start_time": "2022-11-29T14:06:38.907Z"
   },
   {
    "duration": 56,
    "start_time": "2022-11-29T14:06:38.915Z"
   },
   {
    "duration": 11264,
    "start_time": "2022-11-29T14:06:38.973Z"
   },
   {
    "duration": 5,
    "start_time": "2022-11-29T14:06:50.238Z"
   },
   {
    "duration": 117,
    "start_time": "2022-11-29T14:06:50.251Z"
   },
   {
    "duration": 0,
    "start_time": "2022-11-29T14:06:50.370Z"
   },
   {
    "duration": 0,
    "start_time": "2022-11-29T14:06:50.371Z"
   },
   {
    "duration": 0,
    "start_time": "2022-11-29T14:06:50.372Z"
   },
   {
    "duration": 0,
    "start_time": "2022-11-29T14:06:50.373Z"
   },
   {
    "duration": 0,
    "start_time": "2022-11-29T14:06:50.374Z"
   },
   {
    "duration": 0,
    "start_time": "2022-11-29T14:06:50.376Z"
   },
   {
    "duration": 0,
    "start_time": "2022-11-29T14:06:50.377Z"
   },
   {
    "duration": 0,
    "start_time": "2022-11-29T14:06:50.378Z"
   },
   {
    "duration": 0,
    "start_time": "2022-11-29T14:06:50.379Z"
   },
   {
    "duration": 0,
    "start_time": "2022-11-29T14:06:50.380Z"
   },
   {
    "duration": 0,
    "start_time": "2022-11-29T14:06:50.381Z"
   },
   {
    "duration": 0,
    "start_time": "2022-11-29T14:06:50.382Z"
   },
   {
    "duration": 0,
    "start_time": "2022-11-29T14:06:50.383Z"
   },
   {
    "duration": 0,
    "start_time": "2022-11-29T14:06:50.385Z"
   },
   {
    "duration": 0,
    "start_time": "2022-11-29T14:06:50.387Z"
   },
   {
    "duration": 0,
    "start_time": "2022-11-29T14:06:50.388Z"
   },
   {
    "duration": 0,
    "start_time": "2022-11-29T14:06:50.390Z"
   },
   {
    "duration": 0,
    "start_time": "2022-11-29T14:06:50.391Z"
   },
   {
    "duration": 9,
    "start_time": "2022-11-29T14:08:13.191Z"
   },
   {
    "duration": 3,
    "start_time": "2022-11-29T14:09:06.520Z"
   },
   {
    "duration": 3,
    "start_time": "2022-11-29T14:09:09.194Z"
   },
   {
    "duration": 45,
    "start_time": "2022-11-29T14:09:09.198Z"
   },
   {
    "duration": 11,
    "start_time": "2022-11-29T14:09:09.245Z"
   },
   {
    "duration": 47,
    "start_time": "2022-11-29T14:09:09.258Z"
   },
   {
    "duration": 17,
    "start_time": "2022-11-29T14:09:09.307Z"
   },
   {
    "duration": 10,
    "start_time": "2022-11-29T14:09:09.326Z"
   },
   {
    "duration": 36,
    "start_time": "2022-11-29T14:09:09.338Z"
   },
   {
    "duration": 35,
    "start_time": "2022-11-29T14:09:09.376Z"
   },
   {
    "duration": 18,
    "start_time": "2022-11-29T14:09:09.412Z"
   },
   {
    "duration": 38,
    "start_time": "2022-11-29T14:09:09.433Z"
   },
   {
    "duration": 6,
    "start_time": "2022-11-29T14:09:10.484Z"
   },
   {
    "duration": 3,
    "start_time": "2022-11-29T14:09:11.017Z"
   },
   {
    "duration": 3,
    "start_time": "2022-11-29T14:09:11.890Z"
   },
   {
    "duration": 10735,
    "start_time": "2022-11-29T14:09:12.891Z"
   },
   {
    "duration": 5,
    "start_time": "2022-11-29T14:09:23.627Z"
   },
   {
    "duration": 21,
    "start_time": "2022-11-29T14:09:30.555Z"
   },
   {
    "duration": 20,
    "start_time": "2022-11-29T14:10:17.865Z"
   },
   {
    "duration": 20,
    "start_time": "2022-11-29T14:10:25.371Z"
   },
   {
    "duration": 21,
    "start_time": "2022-11-29T14:10:34.247Z"
   },
   {
    "duration": 432,
    "start_time": "2022-11-29T14:13:07.326Z"
   },
   {
    "duration": 29,
    "start_time": "2022-11-29T14:13:07.760Z"
   },
   {
    "duration": 11,
    "start_time": "2022-11-29T14:13:07.791Z"
   },
   {
    "duration": 20,
    "start_time": "2022-11-29T14:13:07.804Z"
   },
   {
    "duration": 708,
    "start_time": "2022-11-29T14:13:07.826Z"
   },
   {
    "duration": 3,
    "start_time": "2022-11-29T14:13:08.535Z"
   },
   {
    "duration": 5,
    "start_time": "2022-11-29T14:13:08.540Z"
   },
   {
    "duration": 10,
    "start_time": "2022-11-29T14:13:08.547Z"
   },
   {
    "duration": 6,
    "start_time": "2022-11-29T14:13:08.558Z"
   },
   {
    "duration": 7,
    "start_time": "2022-11-29T14:13:08.566Z"
   },
   {
    "duration": 437,
    "start_time": "2022-11-29T14:13:29.253Z"
   },
   {
    "duration": 32,
    "start_time": "2022-11-29T14:13:29.692Z"
   },
   {
    "duration": 15,
    "start_time": "2022-11-29T14:13:29.727Z"
   },
   {
    "duration": 30,
    "start_time": "2022-11-29T14:13:29.743Z"
   },
   {
    "duration": 707,
    "start_time": "2022-11-29T14:13:29.776Z"
   },
   {
    "duration": 3,
    "start_time": "2022-11-29T14:13:30.485Z"
   },
   {
    "duration": 13,
    "start_time": "2022-11-29T14:13:30.490Z"
   },
   {
    "duration": 23,
    "start_time": "2022-11-29T14:13:30.505Z"
   },
   {
    "duration": 13,
    "start_time": "2022-11-29T14:13:30.530Z"
   },
   {
    "duration": 17,
    "start_time": "2022-11-29T14:13:30.545Z"
   },
   {
    "duration": 6,
    "start_time": "2022-11-29T14:13:31.901Z"
   },
   {
    "duration": 3,
    "start_time": "2022-11-29T14:13:32.819Z"
   },
   {
    "duration": 38,
    "start_time": "2022-11-29T14:13:34.624Z"
   },
   {
    "duration": 10491,
    "start_time": "2022-11-29T14:13:38.493Z"
   },
   {
    "duration": 5,
    "start_time": "2022-11-29T14:14:04.252Z"
   },
   {
    "duration": 112,
    "start_time": "2022-11-29T14:14:09.923Z"
   },
   {
    "duration": 20,
    "start_time": "2022-11-29T14:14:19.002Z"
   },
   {
    "duration": 441,
    "start_time": "2022-11-29T14:15:02.738Z"
   },
   {
    "duration": 29,
    "start_time": "2022-11-29T14:15:03.181Z"
   },
   {
    "duration": 12,
    "start_time": "2022-11-29T14:15:03.212Z"
   },
   {
    "duration": 38,
    "start_time": "2022-11-29T14:15:03.226Z"
   },
   {
    "duration": 678,
    "start_time": "2022-11-29T14:15:03.265Z"
   },
   {
    "duration": 3,
    "start_time": "2022-11-29T14:15:03.945Z"
   },
   {
    "duration": 25,
    "start_time": "2022-11-29T14:15:03.950Z"
   },
   {
    "duration": 28,
    "start_time": "2022-11-29T14:15:03.977Z"
   },
   {
    "duration": 24,
    "start_time": "2022-11-29T14:15:04.008Z"
   },
   {
    "duration": 34,
    "start_time": "2022-11-29T14:15:04.034Z"
   },
   {
    "duration": 5,
    "start_time": "2022-11-29T14:15:04.807Z"
   },
   {
    "duration": 3,
    "start_time": "2022-11-29T14:15:05.264Z"
   },
   {
    "duration": 39,
    "start_time": "2022-11-29T14:15:06.281Z"
   },
   {
    "duration": 114,
    "start_time": "2022-11-29T14:15:08.031Z"
   },
   {
    "duration": 9,
    "start_time": "2022-11-29T14:15:22.710Z"
   },
   {
    "duration": 4,
    "start_time": "2022-11-29T14:15:39.745Z"
   },
   {
    "duration": 4,
    "start_time": "2022-11-29T14:15:41.324Z"
   },
   {
    "duration": 4,
    "start_time": "2022-11-29T14:15:46.459Z"
   },
   {
    "duration": 3,
    "start_time": "2022-11-29T14:15:55.322Z"
   },
   {
    "duration": 442,
    "start_time": "2022-11-29T14:16:21.185Z"
   },
   {
    "duration": 30,
    "start_time": "2022-11-29T14:16:21.630Z"
   },
   {
    "duration": 12,
    "start_time": "2022-11-29T14:16:21.662Z"
   },
   {
    "duration": 21,
    "start_time": "2022-11-29T14:16:21.675Z"
   },
   {
    "duration": 732,
    "start_time": "2022-11-29T14:16:21.698Z"
   },
   {
    "duration": 3,
    "start_time": "2022-11-29T14:16:22.431Z"
   },
   {
    "duration": 13,
    "start_time": "2022-11-29T14:16:22.435Z"
   },
   {
    "duration": 19,
    "start_time": "2022-11-29T14:16:22.449Z"
   },
   {
    "duration": 21,
    "start_time": "2022-11-29T14:16:22.470Z"
   },
   {
    "duration": 15,
    "start_time": "2022-11-29T14:16:22.493Z"
   },
   {
    "duration": 6,
    "start_time": "2022-11-29T14:16:23.193Z"
   },
   {
    "duration": 3,
    "start_time": "2022-11-29T14:16:23.537Z"
   },
   {
    "duration": 39,
    "start_time": "2022-11-29T14:16:24.495Z"
   },
   {
    "duration": 11017,
    "start_time": "2022-11-29T14:16:25.231Z"
   },
   {
    "duration": 5,
    "start_time": "2022-11-29T14:16:36.252Z"
   },
   {
    "duration": 19,
    "start_time": "2022-11-29T14:16:37.811Z"
   },
   {
    "duration": 4,
    "start_time": "2022-11-29T14:17:05.188Z"
   },
   {
    "duration": 52,
    "start_time": "2022-11-29T14:17:05.194Z"
   },
   {
    "duration": 12,
    "start_time": "2022-11-29T14:17:05.248Z"
   },
   {
    "duration": 15,
    "start_time": "2022-11-29T14:17:05.262Z"
   },
   {
    "duration": 12,
    "start_time": "2022-11-29T14:17:05.279Z"
   },
   {
    "duration": 10,
    "start_time": "2022-11-29T14:17:05.292Z"
   },
   {
    "duration": 9,
    "start_time": "2022-11-29T14:17:05.304Z"
   },
   {
    "duration": 21,
    "start_time": "2022-11-29T14:17:05.314Z"
   },
   {
    "duration": 11,
    "start_time": "2022-11-29T14:17:05.339Z"
   },
   {
    "duration": 6,
    "start_time": "2022-11-29T14:17:05.352Z"
   },
   {
    "duration": 5,
    "start_time": "2022-11-29T14:17:05.360Z"
   },
   {
    "duration": 8,
    "start_time": "2022-11-29T14:17:05.366Z"
   },
   {
    "duration": 11158,
    "start_time": "2022-11-29T14:17:05.375Z"
   },
   {
    "duration": 5,
    "start_time": "2022-11-29T14:17:16.535Z"
   },
   {
    "duration": 27,
    "start_time": "2022-11-29T14:17:16.541Z"
   },
   {
    "duration": 10,
    "start_time": "2022-11-29T14:17:16.570Z"
   },
   {
    "duration": 34781,
    "start_time": "2022-11-29T14:17:16.582Z"
   },
   {
    "duration": 4,
    "start_time": "2022-11-29T14:17:51.365Z"
   },
   {
    "duration": 193,
    "start_time": "2022-11-29T14:17:51.371Z"
   },
   {
    "duration": 108179,
    "start_time": "2022-11-29T14:17:51.566Z"
   },
   {
    "duration": 4,
    "start_time": "2022-11-29T14:19:39.748Z"
   },
   {
    "duration": 123,
    "start_time": "2022-11-29T14:19:39.755Z"
   },
   {
    "duration": 3,
    "start_time": "2022-11-29T14:19:39.880Z"
   },
   {
    "duration": 99671,
    "start_time": "2022-11-29T14:19:39.888Z"
   },
   {
    "duration": 93,
    "start_time": "2022-11-29T14:21:19.561Z"
   },
   {
    "duration": 2194,
    "start_time": "2022-11-29T14:21:19.657Z"
   },
   {
    "duration": 93,
    "start_time": "2022-11-29T14:21:21.858Z"
   },
   {
    "duration": 4378,
    "start_time": "2022-11-29T14:21:21.953Z"
   },
   {
    "duration": 5,
    "start_time": "2022-11-29T14:21:26.332Z"
   },
   {
    "duration": 23,
    "start_time": "2022-11-29T14:21:26.338Z"
   },
   {
    "duration": 5,
    "start_time": "2022-11-29T14:21:26.363Z"
   },
   {
    "duration": 118485,
    "start_time": "2022-11-29T14:21:26.370Z"
   },
   {
    "duration": 5,
    "start_time": "2022-11-29T14:23:24.857Z"
   },
   {
    "duration": 4,
    "start_time": "2022-11-29T14:24:16.493Z"
   },
   {
    "duration": 24271,
    "start_time": "2022-11-29T14:24:20.480Z"
   },
   {
    "duration": 134,
    "start_time": "2022-11-29T14:24:44.754Z"
   },
   {
    "duration": 52,
    "start_time": "2022-11-29T14:26:37.929Z"
   },
   {
    "duration": 16957,
    "start_time": "2022-11-29T14:26:38.741Z"
   },
   {
    "duration": 14,
    "start_time": "2022-11-29T14:26:55.700Z"
   },
   {
    "duration": 45,
    "start_time": "2022-11-29T22:31:40.685Z"
   },
   {
    "duration": 356,
    "start_time": "2022-11-29T22:33:30.869Z"
   },
   {
    "duration": 117,
    "start_time": "2022-11-29T22:33:31.227Z"
   },
   {
    "duration": 11,
    "start_time": "2022-11-29T22:33:31.346Z"
   },
   {
    "duration": 17,
    "start_time": "2022-11-29T22:33:31.359Z"
   },
   {
    "duration": 638,
    "start_time": "2022-11-29T22:33:31.377Z"
   },
   {
    "duration": 3,
    "start_time": "2022-11-29T22:33:32.016Z"
   },
   {
    "duration": 7,
    "start_time": "2022-11-29T22:33:32.020Z"
   },
   {
    "duration": 10,
    "start_time": "2022-11-29T22:33:32.028Z"
   },
   {
    "duration": 4,
    "start_time": "2022-11-29T22:33:32.039Z"
   },
   {
    "duration": 7,
    "start_time": "2022-11-29T22:33:32.046Z"
   },
   {
    "duration": 6,
    "start_time": "2022-11-29T22:33:32.055Z"
   },
   {
    "duration": 37,
    "start_time": "2022-11-29T22:33:32.062Z"
   },
   {
    "duration": 3,
    "start_time": "2022-11-29T22:33:32.100Z"
   },
   {
    "duration": 17,
    "start_time": "2022-11-29T22:33:32.104Z"
   },
   {
    "duration": 15,
    "start_time": "2022-11-29T22:33:32.122Z"
   },
   {
    "duration": 22,
    "start_time": "2022-11-29T22:33:32.138Z"
   },
   {
    "duration": 3,
    "start_time": "2022-11-29T22:33:32.161Z"
   },
   {
    "duration": 9,
    "start_time": "2022-11-29T22:33:32.165Z"
   },
   {
    "duration": 163,
    "start_time": "2022-11-29T22:33:32.176Z"
   },
   {
    "duration": 90759,
    "start_time": "2022-11-29T22:33:32.341Z"
   },
   {
    "duration": 4,
    "start_time": "2022-11-29T22:35:03.101Z"
   },
   {
    "duration": 91,
    "start_time": "2022-11-29T22:35:03.107Z"
   },
   {
    "duration": 3,
    "start_time": "2022-11-29T22:35:03.199Z"
   },
   {
    "duration": 6,
    "start_time": "2022-11-29T22:35:03.203Z"
   },
   {
    "duration": 7,
    "start_time": "2022-11-29T22:35:03.210Z"
   },
   {
    "duration": 1521,
    "start_time": "2022-11-29T22:35:03.221Z"
   },
   {
    "duration": 5,
    "start_time": "2022-11-29T22:35:04.826Z"
   },
   {
    "duration": 13,
    "start_time": "2022-11-29T22:35:04.922Z"
   },
   {
    "duration": 4,
    "start_time": "2022-11-29T22:35:04.938Z"
   },
   {
    "duration": 16,
    "start_time": "2022-11-29T22:35:04.944Z"
   },
   {
    "duration": 5,
    "start_time": "2022-11-29T22:35:04.961Z"
   },
   {
    "duration": 5,
    "start_time": "2022-11-29T22:35:04.967Z"
   },
   {
    "duration": 5,
    "start_time": "2022-11-29T22:35:04.973Z"
   },
   {
    "duration": 20450,
    "start_time": "2022-11-29T22:35:04.980Z"
   },
   {
    "duration": 217,
    "start_time": "2022-11-29T22:35:25.434Z"
   },
   {
    "duration": 63,
    "start_time": "2022-11-29T22:35:25.653Z"
   },
   {
    "duration": 4,
    "start_time": "2022-11-29T22:37:46.531Z"
   },
   {
    "duration": 71294,
    "start_time": "2022-11-29T22:37:47.779Z"
   },
   {
    "duration": 65,
    "start_time": "2022-11-29T22:38:59.074Z"
   },
   {
    "duration": 10,
    "start_time": "2022-11-29T22:39:48.124Z"
   },
   {
    "duration": 9,
    "start_time": "2022-11-29T22:40:29.789Z"
   },
   {
    "duration": 37,
    "start_time": "2022-11-29T22:40:45.861Z"
   },
   {
    "duration": 10,
    "start_time": "2022-11-29T22:41:31.129Z"
   },
   {
    "duration": 3,
    "start_time": "2022-11-29T22:41:44.516Z"
   },
   {
    "duration": 3,
    "start_time": "2022-11-29T22:41:48.467Z"
   },
   {
    "duration": 8,
    "start_time": "2022-11-29T22:42:28.843Z"
   },
   {
    "duration": 37,
    "start_time": "2022-11-29T22:42:34.976Z"
   },
   {
    "duration": 8,
    "start_time": "2022-11-29T22:42:39.967Z"
   },
   {
    "duration": 4,
    "start_time": "2022-11-29T22:42:42.901Z"
   },
   {
    "duration": 9,
    "start_time": "2022-11-29T22:43:01.418Z"
   },
   {
    "duration": 35,
    "start_time": "2022-11-29T22:43:06.036Z"
   },
   {
    "duration": 9,
    "start_time": "2022-11-29T22:43:18.503Z"
   },
   {
    "duration": 9,
    "start_time": "2022-11-29T22:43:23.773Z"
   },
   {
    "duration": 8,
    "start_time": "2022-11-29T22:43:27.417Z"
   },
   {
    "duration": 13,
    "start_time": "2022-11-29T22:43:32.861Z"
   },
   {
    "duration": 8,
    "start_time": "2022-11-29T22:47:21.691Z"
   },
   {
    "duration": 33,
    "start_time": "2022-11-29T22:47:30.926Z"
   },
   {
    "duration": 4,
    "start_time": "2022-11-29T22:47:37.131Z"
   },
   {
    "duration": 342,
    "start_time": "2022-11-29T22:48:09.112Z"
   },
   {
    "duration": 10225,
    "start_time": "2022-11-29T22:48:23.533Z"
   },
   {
    "duration": 10,
    "start_time": "2022-11-29T22:49:31.660Z"
   },
   {
    "duration": 9,
    "start_time": "2022-11-29T22:49:46.392Z"
   },
   {
    "duration": 3,
    "start_time": "2022-11-30T00:59:54.943Z"
   },
   {
    "duration": 9,
    "start_time": "2022-11-30T01:02:46.630Z"
   },
   {
    "duration": 6,
    "start_time": "2022-11-30T01:03:58.324Z"
   },
   {
    "duration": 5,
    "start_time": "2022-11-30T01:05:28.140Z"
   },
   {
    "duration": 3,
    "start_time": "2022-11-30T01:05:28.941Z"
   },
   {
    "duration": 2,
    "start_time": "2022-11-30T01:05:58.846Z"
   },
   {
    "duration": 10804,
    "start_time": "2022-11-30T01:06:00.790Z"
   },
   {
    "duration": 416,
    "start_time": "2022-11-30T01:06:19.610Z"
   },
   {
    "duration": 34,
    "start_time": "2022-11-30T01:06:20.028Z"
   },
   {
    "duration": 11,
    "start_time": "2022-11-30T01:06:20.064Z"
   },
   {
    "duration": 18,
    "start_time": "2022-11-30T01:06:20.077Z"
   },
   {
    "duration": 658,
    "start_time": "2022-11-30T01:06:20.098Z"
   },
   {
    "duration": 3,
    "start_time": "2022-11-30T01:06:20.758Z"
   },
   {
    "duration": 11,
    "start_time": "2022-11-30T01:06:20.763Z"
   },
   {
    "duration": 5,
    "start_time": "2022-11-30T01:06:20.775Z"
   },
   {
    "duration": 11,
    "start_time": "2022-11-30T01:06:20.782Z"
   },
   {
    "duration": 4,
    "start_time": "2022-11-30T01:06:20.794Z"
   },
   {
    "duration": 51,
    "start_time": "2022-11-30T01:06:20.800Z"
   },
   {
    "duration": 100,
    "start_time": "2022-11-30T01:06:22.662Z"
   },
   {
    "duration": 9646,
    "start_time": "2022-11-30T01:06:59.885Z"
   },
   {
    "duration": 9681,
    "start_time": "2022-11-30T01:07:13.102Z"
   },
   {
    "duration": 4,
    "start_time": "2022-11-30T01:07:22.785Z"
   },
   {
    "duration": 4,
    "start_time": "2022-11-30T01:09:57.381Z"
   },
   {
    "duration": 4,
    "start_time": "2022-11-30T01:10:30.361Z"
   },
   {
    "duration": 3,
    "start_time": "2022-11-30T01:10:31.336Z"
   },
   {
    "duration": 2,
    "start_time": "2022-11-30T01:10:36.956Z"
   },
   {
    "duration": 36,
    "start_time": "2022-11-30T01:10:36.960Z"
   },
   {
    "duration": 10,
    "start_time": "2022-11-30T01:10:36.998Z"
   },
   {
    "duration": 11,
    "start_time": "2022-11-30T01:10:37.009Z"
   },
   {
    "duration": 13,
    "start_time": "2022-11-30T01:10:37.023Z"
   },
   {
    "duration": 6,
    "start_time": "2022-11-30T01:10:37.037Z"
   },
   {
    "duration": 11,
    "start_time": "2022-11-30T01:10:37.044Z"
   },
   {
    "duration": 11,
    "start_time": "2022-11-30T01:10:37.056Z"
   },
   {
    "duration": 7,
    "start_time": "2022-11-30T01:10:37.069Z"
   },
   {
    "duration": 10,
    "start_time": "2022-11-30T01:10:37.077Z"
   },
   {
    "duration": 4,
    "start_time": "2022-11-30T01:10:37.088Z"
   },
   {
    "duration": 371,
    "start_time": "2022-11-30T01:11:45.241Z"
   },
   {
    "duration": 30,
    "start_time": "2022-11-30T01:11:45.614Z"
   },
   {
    "duration": 10,
    "start_time": "2022-11-30T01:11:45.645Z"
   },
   {
    "duration": 21,
    "start_time": "2022-11-30T01:11:45.656Z"
   },
   {
    "duration": 657,
    "start_time": "2022-11-30T01:11:45.679Z"
   },
   {
    "duration": 3,
    "start_time": "2022-11-30T01:11:46.338Z"
   },
   {
    "duration": 10,
    "start_time": "2022-11-30T01:11:46.342Z"
   },
   {
    "duration": 5,
    "start_time": "2022-11-30T01:11:46.353Z"
   },
   {
    "duration": 8,
    "start_time": "2022-11-30T01:11:46.359Z"
   },
   {
    "duration": 7,
    "start_time": "2022-11-30T01:11:46.368Z"
   },
   {
    "duration": 46,
    "start_time": "2022-11-30T01:11:46.377Z"
   },
   {
    "duration": 9496,
    "start_time": "2022-11-30T01:11:48.235Z"
   },
   {
    "duration": 4,
    "start_time": "2022-11-30T01:11:58.678Z"
   },
   {
    "duration": 16,
    "start_time": "2022-11-30T01:12:16.236Z"
   },
   {
    "duration": 4,
    "start_time": "2022-11-30T01:12:24.693Z"
   },
   {
    "duration": 14,
    "start_time": "2022-11-30T01:12:25.863Z"
   },
   {
    "duration": 9,
    "start_time": "2022-11-30T01:12:28.200Z"
   },
   {
    "duration": 30974,
    "start_time": "2022-11-30T01:12:37.077Z"
   },
   {
    "duration": 4,
    "start_time": "2022-11-30T01:13:08.053Z"
   },
   {
    "duration": 4,
    "start_time": "2022-11-30T01:13:42.651Z"
   },
   {
    "duration": 177,
    "start_time": "2022-11-30T01:15:49.348Z"
   },
   {
    "duration": 87335,
    "start_time": "2022-11-30T01:16:38.157Z"
   },
   {
    "duration": 4,
    "start_time": "2022-11-30T01:18:05.494Z"
   },
   {
    "duration": 104,
    "start_time": "2022-11-30T01:18:05.499Z"
   },
   {
    "duration": 0,
    "start_time": "2022-11-30T01:18:05.606Z"
   },
   {
    "duration": 0,
    "start_time": "2022-11-30T01:18:05.607Z"
   },
   {
    "duration": 0,
    "start_time": "2022-11-30T01:18:05.608Z"
   },
   {
    "duration": 0,
    "start_time": "2022-11-30T01:18:05.609Z"
   },
   {
    "duration": 0,
    "start_time": "2022-11-30T01:18:05.621Z"
   },
   {
    "duration": 0,
    "start_time": "2022-11-30T01:18:05.622Z"
   },
   {
    "duration": 0,
    "start_time": "2022-11-30T01:18:05.623Z"
   },
   {
    "duration": 177,
    "start_time": "2022-11-30T01:23:37.024Z"
   },
   {
    "duration": 339594,
    "start_time": "2022-11-30T01:24:07.696Z"
   },
   {
    "duration": 3,
    "start_time": "2022-11-30T01:29:47.292Z"
   },
   {
    "duration": 77,
    "start_time": "2022-11-30T01:30:04.967Z"
   },
   {
    "duration": 10,
    "start_time": "2022-11-30T01:30:30.532Z"
   },
   {
    "duration": 13970,
    "start_time": "2022-11-30T01:31:52.254Z"
   },
   {
    "duration": 4,
    "start_time": "2022-11-30T01:32:47.386Z"
   },
   {
    "duration": 140702,
    "start_time": "2022-11-30T01:33:10.945Z"
   },
   {
    "duration": 4,
    "start_time": "2022-11-30T01:37:12.128Z"
   },
   {
    "duration": 8,
    "start_time": "2022-11-30T01:47:56.587Z"
   },
   {
    "duration": 78,
    "start_time": "2022-11-30T01:48:03.563Z"
   },
   {
    "duration": 6,
    "start_time": "2022-11-30T01:48:06.640Z"
   },
   {
    "duration": 187,
    "start_time": "2022-11-30T03:23:18.475Z"
   },
   {
    "duration": 15,
    "start_time": "2022-11-30T03:23:31.564Z"
   },
   {
    "duration": 81,
    "start_time": "2022-11-30T03:23:41.527Z"
   },
   {
    "duration": 10,
    "start_time": "2022-11-30T03:23:45.119Z"
   },
   {
    "duration": 4,
    "start_time": "2022-11-30T03:23:56.572Z"
   },
   {
    "duration": 3,
    "start_time": "2022-11-30T03:25:56.609Z"
   },
   {
    "duration": 88311,
    "start_time": "2022-11-30T03:26:03.717Z"
   },
   {
    "duration": 100,
    "start_time": "2022-11-30T03:27:32.030Z"
   },
   {
    "duration": 2129,
    "start_time": "2022-11-30T03:28:04.493Z"
   },
   {
    "duration": 6,
    "start_time": "2022-11-30T03:28:11.229Z"
   },
   {
    "duration": 2,
    "start_time": "2022-11-30T03:28:25.076Z"
   },
   {
    "duration": 4100,
    "start_time": "2022-11-30T03:28:28.475Z"
   },
   {
    "duration": 4,
    "start_time": "2022-11-30T03:28:36.278Z"
   },
   {
    "duration": 11,
    "start_time": "2022-11-30T03:28:40.508Z"
   },
   {
    "duration": 10,
    "start_time": "2022-11-30T03:46:25.930Z"
   },
   {
    "duration": 7,
    "start_time": "2022-11-30T03:46:33.568Z"
   },
   {
    "duration": 6,
    "start_time": "2022-11-30T03:47:15.453Z"
   },
   {
    "duration": 169784,
    "start_time": "2022-11-30T03:47:19.638Z"
   },
   {
    "duration": 6,
    "start_time": "2022-11-30T03:50:09.424Z"
   },
   {
    "duration": 18994,
    "start_time": "2022-11-30T03:50:36.933Z"
   },
   {
    "duration": 19,
    "start_time": "2022-11-30T03:51:02.830Z"
   },
   {
    "duration": 48,
    "start_time": "2022-11-30T03:51:57.644Z"
   },
   {
    "duration": 38945,
    "start_time": "2022-11-30T03:51:58.345Z"
   },
   {
    "duration": 4,
    "start_time": "2022-11-30T03:53:16.831Z"
   },
   {
    "duration": 9455,
    "start_time": "2022-11-30T03:54:02.279Z"
   },
   {
    "duration": 10,
    "start_time": "2022-11-30T03:54:13.384Z"
   },
   {
    "duration": 15,
    "start_time": "2022-11-30T03:54:25.423Z"
   },
   {
    "duration": 8,
    "start_time": "2022-11-30T06:23:56.124Z"
   },
   {
    "duration": 9627,
    "start_time": "2022-11-30T06:24:05.690Z"
   },
   {
    "duration": 15,
    "start_time": "2022-11-30T06:25:41.547Z"
   },
   {
    "duration": 8,
    "start_time": "2022-11-30T06:25:52.287Z"
   },
   {
    "duration": 8,
    "start_time": "2022-11-30T06:27:19.523Z"
   },
   {
    "duration": 4,
    "start_time": "2022-11-30T06:27:32.814Z"
   },
   {
    "duration": 13,
    "start_time": "2022-11-30T06:32:14.677Z"
   },
   {
    "duration": 35,
    "start_time": "2022-11-30T06:32:31.700Z"
   },
   {
    "duration": 7,
    "start_time": "2022-11-30T06:34:30.660Z"
   },
   {
    "duration": 6,
    "start_time": "2022-11-30T06:35:55.007Z"
   },
   {
    "duration": 54,
    "start_time": "2022-11-30T06:36:26.736Z"
   },
   {
    "duration": 4,
    "start_time": "2022-11-30T06:36:57.113Z"
   },
   {
    "duration": 8,
    "start_time": "2022-11-30T06:37:09.726Z"
   },
   {
    "duration": 9805,
    "start_time": "2022-11-30T06:41:06.250Z"
   },
   {
    "duration": 90083,
    "start_time": "2022-11-30T06:41:48.447Z"
   },
   {
    "duration": 7,
    "start_time": "2022-11-30T06:43:18.622Z"
   },
   {
    "duration": 1664,
    "start_time": "2022-11-30T06:43:31.861Z"
   },
   {
    "duration": 4,
    "start_time": "2022-11-30T06:45:27.925Z"
   },
   {
    "duration": 42,
    "start_time": "2022-11-30T06:54:55.035Z"
   },
   {
    "duration": 346,
    "start_time": "2022-11-30T07:01:56.868Z"
   },
   {
    "duration": 29,
    "start_time": "2022-11-30T07:01:57.216Z"
   },
   {
    "duration": 10,
    "start_time": "2022-11-30T07:01:57.247Z"
   },
   {
    "duration": 19,
    "start_time": "2022-11-30T07:01:57.258Z"
   },
   {
    "duration": 661,
    "start_time": "2022-11-30T07:01:57.279Z"
   },
   {
    "duration": 2,
    "start_time": "2022-11-30T07:01:57.942Z"
   },
   {
    "duration": 13,
    "start_time": "2022-11-30T07:01:57.946Z"
   },
   {
    "duration": 5,
    "start_time": "2022-11-30T07:01:57.960Z"
   },
   {
    "duration": 6,
    "start_time": "2022-11-30T07:01:57.967Z"
   },
   {
    "duration": 23,
    "start_time": "2022-11-30T07:01:57.974Z"
   },
   {
    "duration": 40,
    "start_time": "2022-11-30T07:01:57.999Z"
   },
   {
    "duration": 3,
    "start_time": "2022-11-30T07:01:58.040Z"
   },
   {
    "duration": 28,
    "start_time": "2022-11-30T07:01:58.044Z"
   },
   {
    "duration": 38,
    "start_time": "2022-11-30T07:01:58.074Z"
   },
   {
    "duration": 9,
    "start_time": "2022-11-30T07:01:58.114Z"
   },
   {
    "duration": 2,
    "start_time": "2022-11-30T07:01:58.125Z"
   },
   {
    "duration": 15,
    "start_time": "2022-11-30T07:01:58.128Z"
   },
   {
    "duration": 190,
    "start_time": "2022-11-30T07:01:58.144Z"
   },
   {
    "duration": 3,
    "start_time": "2022-11-30T07:01:58.335Z"
   },
   {
    "duration": 10,
    "start_time": "2022-11-30T07:01:58.339Z"
   },
   {
    "duration": 97,
    "start_time": "2022-11-30T07:01:58.350Z"
   },
   {
    "duration": 2,
    "start_time": "2022-11-30T07:01:58.449Z"
   },
   {
    "duration": 7,
    "start_time": "2022-11-30T07:01:58.453Z"
   },
   {
    "duration": 8,
    "start_time": "2022-11-30T07:01:58.461Z"
   },
   {
    "duration": 2059,
    "start_time": "2022-11-30T07:01:58.471Z"
   },
   {
    "duration": 4,
    "start_time": "2022-11-30T07:02:00.622Z"
   },
   {
    "duration": 117,
    "start_time": "2022-11-30T07:02:00.627Z"
   },
   {
    "duration": 27,
    "start_time": "2022-11-30T07:02:00.745Z"
   },
   {
    "duration": 43,
    "start_time": "2022-11-30T07:02:00.773Z"
   },
   {
    "duration": 48,
    "start_time": "2022-11-30T07:02:00.817Z"
   },
   {
    "duration": 56,
    "start_time": "2022-11-30T07:02:00.867Z"
   },
   {
    "duration": 50,
    "start_time": "2022-11-30T07:02:00.924Z"
   },
   {
    "duration": 14053,
    "start_time": "2022-11-30T07:02:00.975Z"
   },
   {
    "duration": 229,
    "start_time": "2022-11-30T07:02:15.030Z"
   },
   {
    "duration": 2,
    "start_time": "2022-11-30T07:02:15.261Z"
   },
   {
    "duration": 8,
    "start_time": "2022-11-30T07:02:15.264Z"
   },
   {
    "duration": 9713,
    "start_time": "2022-11-30T07:02:15.273Z"
   },
   {
    "duration": 42,
    "start_time": "2022-11-30T07:03:54.116Z"
   },
   {
    "duration": 3,
    "start_time": "2022-11-30T07:04:25.137Z"
   },
   {
    "duration": 42,
    "start_time": "2022-11-30T07:06:07.972Z"
   },
   {
    "duration": 5,
    "start_time": "2022-11-30T07:06:32.213Z"
   },
   {
    "duration": 6,
    "start_time": "2022-11-30T07:06:57.774Z"
   },
   {
    "duration": 3,
    "start_time": "2022-11-30T07:11:12.726Z"
   },
   {
    "duration": 45,
    "start_time": "2022-11-30T07:11:14.481Z"
   },
   {
    "duration": 45,
    "start_time": "2022-11-30T07:11:19.369Z"
   },
   {
    "duration": 2,
    "start_time": "2022-11-30T07:12:08.601Z"
   },
   {
    "duration": 44,
    "start_time": "2022-11-30T07:13:17.801Z"
   },
   {
    "duration": 569,
    "start_time": "2022-11-30T07:15:54.685Z"
   },
   {
    "duration": 44,
    "start_time": "2022-11-30T07:16:12.606Z"
   },
   {
    "duration": 44,
    "start_time": "2022-11-30T07:20:56.696Z"
   },
   {
    "duration": 44,
    "start_time": "2022-11-30T07:21:00.918Z"
   },
   {
    "duration": 116,
    "start_time": "2022-11-30T07:21:31.510Z"
   },
   {
    "duration": 10,
    "start_time": "2022-11-30T07:23:08.183Z"
   },
   {
    "duration": 42,
    "start_time": "2022-11-30T07:23:12.005Z"
   },
   {
    "duration": 3,
    "start_time": "2022-11-30T07:23:24.913Z"
   },
   {
    "duration": 44,
    "start_time": "2022-11-30T07:23:38.205Z"
   },
   {
    "duration": 41,
    "start_time": "2022-11-30T07:23:41.360Z"
   },
   {
    "duration": 2,
    "start_time": "2022-11-30T07:25:36.823Z"
   },
   {
    "duration": 37,
    "start_time": "2022-11-30T07:25:36.827Z"
   },
   {
    "duration": 10,
    "start_time": "2022-11-30T07:25:36.865Z"
   },
   {
    "duration": 13,
    "start_time": "2022-11-30T07:25:36.876Z"
   },
   {
    "duration": 5,
    "start_time": "2022-11-30T07:25:36.891Z"
   },
   {
    "duration": 10,
    "start_time": "2022-11-30T07:25:36.897Z"
   },
   {
    "duration": 20,
    "start_time": "2022-11-30T07:25:36.909Z"
   },
   {
    "duration": 4,
    "start_time": "2022-11-30T07:25:36.931Z"
   },
   {
    "duration": 14,
    "start_time": "2022-11-30T07:25:36.937Z"
   },
   {
    "duration": 25,
    "start_time": "2022-11-30T07:25:36.952Z"
   },
   {
    "duration": 5,
    "start_time": "2022-11-30T07:25:36.979Z"
   },
   {
    "duration": 13,
    "start_time": "2022-11-30T07:25:36.986Z"
   },
   {
    "duration": 13,
    "start_time": "2022-11-30T07:25:37.001Z"
   },
   {
    "duration": 14,
    "start_time": "2022-11-30T07:25:37.019Z"
   },
   {
    "duration": 3,
    "start_time": "2022-11-30T07:25:37.034Z"
   },
   {
    "duration": 7,
    "start_time": "2022-11-30T07:25:37.039Z"
   },
   {
    "duration": 5,
    "start_time": "2022-11-30T07:25:37.047Z"
   },
   {
    "duration": 268,
    "start_time": "2022-11-30T07:25:37.053Z"
   },
   {
    "duration": 3,
    "start_time": "2022-11-30T07:25:37.322Z"
   },
   {
    "duration": 7,
    "start_time": "2022-11-30T07:25:37.327Z"
   },
   {
    "duration": 86,
    "start_time": "2022-11-30T07:25:37.335Z"
   },
   {
    "duration": 2,
    "start_time": "2022-11-30T07:25:37.423Z"
   },
   {
    "duration": 5,
    "start_time": "2022-11-30T07:25:37.427Z"
   },
   {
    "duration": 11,
    "start_time": "2022-11-30T07:25:37.433Z"
   },
   {
    "duration": 1975,
    "start_time": "2022-11-30T07:25:37.445Z"
   },
   {
    "duration": 7,
    "start_time": "2022-11-30T07:25:39.423Z"
   },
   {
    "duration": 6,
    "start_time": "2022-11-30T07:25:39.521Z"
   },
   {
    "duration": 5,
    "start_time": "2022-11-30T07:25:39.528Z"
   },
   {
    "duration": 16,
    "start_time": "2022-11-30T07:25:39.534Z"
   },
   {
    "duration": 2,
    "start_time": "2022-11-30T07:25:39.552Z"
   },
   {
    "duration": 6,
    "start_time": "2022-11-30T07:25:39.555Z"
   },
   {
    "duration": 12,
    "start_time": "2022-11-30T07:25:39.562Z"
   },
   {
    "duration": 13554,
    "start_time": "2022-11-30T07:25:39.575Z"
   },
   {
    "duration": 91,
    "start_time": "2022-11-30T07:25:53.131Z"
   },
   {
    "duration": 103,
    "start_time": "2022-11-30T07:25:53.224Z"
   },
   {
    "duration": 5,
    "start_time": "2022-11-30T07:25:53.329Z"
   },
   {
    "duration": 9736,
    "start_time": "2022-11-30T07:25:53.335Z"
   },
   {
    "duration": 3,
    "start_time": "2022-11-30T07:26:03.073Z"
   },
   {
    "duration": 44,
    "start_time": "2022-11-30T07:26:03.078Z"
   },
   {
    "duration": 219,
    "start_time": "2022-11-30T07:26:03.124Z"
   },
   {
    "duration": 42,
    "start_time": "2022-11-30T07:26:34.328Z"
   },
   {
    "duration": 25,
    "start_time": "2022-11-30T07:27:04.138Z"
   },
   {
    "duration": 42,
    "start_time": "2022-11-30T07:27:09.821Z"
   },
   {
    "duration": 43,
    "start_time": "2022-11-30T07:27:59.425Z"
   },
   {
    "duration": 52,
    "start_time": "2022-11-30T09:15:03.335Z"
   },
   {
    "duration": 346,
    "start_time": "2022-11-30T09:15:09.057Z"
   },
   {
    "duration": 28,
    "start_time": "2022-11-30T09:15:13.549Z"
   },
   {
    "duration": 3,
    "start_time": "2022-11-30T09:15:21.282Z"
   },
   {
    "duration": 13,
    "start_time": "2022-11-30T09:15:26.118Z"
   },
   {
    "duration": 3,
    "start_time": "2022-11-30T09:15:30.774Z"
   },
   {
    "duration": 143,
    "start_time": "2022-11-30T09:15:30.778Z"
   },
   {
    "duration": 12,
    "start_time": "2022-11-30T09:15:30.923Z"
   },
   {
    "duration": 23,
    "start_time": "2022-11-30T09:15:30.936Z"
   },
   {
    "duration": 698,
    "start_time": "2022-11-30T09:15:30.961Z"
   },
   {
    "duration": 2,
    "start_time": "2022-11-30T09:15:31.661Z"
   },
   {
    "duration": 29,
    "start_time": "2022-11-30T09:15:31.665Z"
   },
   {
    "duration": 24,
    "start_time": "2022-11-30T09:15:31.696Z"
   },
   {
    "duration": 15,
    "start_time": "2022-11-30T09:15:31.722Z"
   },
   {
    "duration": 24,
    "start_time": "2022-11-30T09:15:31.739Z"
   },
   {
    "duration": 63,
    "start_time": "2022-11-30T09:15:31.764Z"
   },
   {
    "duration": 3,
    "start_time": "2022-11-30T09:15:31.829Z"
   },
   {
    "duration": 6,
    "start_time": "2022-11-30T09:15:31.837Z"
   },
   {
    "duration": 20,
    "start_time": "2022-11-30T09:15:31.846Z"
   },
   {
    "duration": 29,
    "start_time": "2022-11-30T09:15:31.868Z"
   },
   {
    "duration": 3,
    "start_time": "2022-11-30T09:15:31.899Z"
   },
   {
    "duration": 12,
    "start_time": "2022-11-30T09:15:31.903Z"
   },
   {
    "duration": 214,
    "start_time": "2022-11-30T09:15:31.917Z"
   },
   {
    "duration": 3,
    "start_time": "2022-11-30T09:15:32.132Z"
   },
   {
    "duration": 13,
    "start_time": "2022-11-30T09:15:32.137Z"
   },
   {
    "duration": 98,
    "start_time": "2022-11-30T09:15:32.151Z"
   },
   {
    "duration": 2,
    "start_time": "2022-11-30T09:15:32.251Z"
   },
   {
    "duration": 8,
    "start_time": "2022-11-30T09:15:32.255Z"
   },
   {
    "duration": 6,
    "start_time": "2022-11-30T09:15:32.265Z"
   },
   {
    "duration": 2728,
    "start_time": "2022-11-30T09:15:32.273Z"
   },
   {
    "duration": 3,
    "start_time": "2022-11-30T09:15:35.003Z"
   },
   {
    "duration": 6,
    "start_time": "2022-11-30T09:15:35.098Z"
   },
   {
    "duration": 16,
    "start_time": "2022-11-30T09:15:35.106Z"
   },
   {
    "duration": 76,
    "start_time": "2022-11-30T09:15:35.125Z"
   },
   {
    "duration": 5,
    "start_time": "2022-11-30T09:15:35.204Z"
   },
   {
    "duration": 4,
    "start_time": "2022-11-30T09:15:35.210Z"
   },
   {
    "duration": 9,
    "start_time": "2022-11-30T09:15:35.216Z"
   },
   {
    "duration": 19072,
    "start_time": "2022-11-30T09:15:35.227Z"
   },
   {
    "duration": 216,
    "start_time": "2022-11-30T09:15:54.301Z"
   },
   {
    "duration": 3,
    "start_time": "2022-11-30T09:15:54.519Z"
   },
   {
    "duration": 7,
    "start_time": "2022-11-30T09:15:54.524Z"
   },
   {
    "duration": 11411,
    "start_time": "2022-11-30T09:15:54.536Z"
   },
   {
    "duration": 3,
    "start_time": "2022-11-30T09:16:05.949Z"
   },
   {
    "duration": 56,
    "start_time": "2022-11-30T09:16:05.953Z"
   },
   {
    "duration": 147,
    "start_time": "2022-11-30T09:16:06.098Z"
   },
   {
    "duration": 2,
    "start_time": "2022-11-30T10:39:12.913Z"
   },
   {
    "duration": 5,
    "start_time": "2022-11-30T10:39:15.335Z"
   },
   {
    "duration": 6,
    "start_time": "2022-11-30T10:39:33.722Z"
   },
   {
    "duration": 6,
    "start_time": "2022-11-30T10:39:40.341Z"
   },
   {
    "duration": 4,
    "start_time": "2022-11-30T10:39:44.157Z"
   },
   {
    "duration": 5,
    "start_time": "2022-11-30T10:39:44.646Z"
   },
   {
    "duration": 264,
    "start_time": "2022-11-30T10:40:29.211Z"
   },
   {
    "duration": 12,
    "start_time": "2022-11-30T10:40:46.227Z"
   },
   {
    "duration": 3,
    "start_time": "2022-11-30T10:40:50.716Z"
   },
   {
    "duration": 6,
    "start_time": "2022-11-30T10:40:51.510Z"
   },
   {
    "duration": 5,
    "start_time": "2022-11-30T10:45:11.616Z"
   },
   {
    "duration": 7,
    "start_time": "2022-11-30T10:45:15.274Z"
   },
   {
    "duration": 7,
    "start_time": "2022-11-30T10:45:16.164Z"
   },
   {
    "duration": 6,
    "start_time": "2022-11-30T10:45:17.213Z"
   },
   {
    "duration": 6,
    "start_time": "2022-11-30T10:45:18.150Z"
   },
   {
    "duration": 9,
    "start_time": "2022-11-30T10:45:22.695Z"
   },
   {
    "duration": 6,
    "start_time": "2022-11-30T10:45:23.384Z"
   },
   {
    "duration": 7,
    "start_time": "2022-11-30T10:45:24.370Z"
   },
   {
    "duration": 6,
    "start_time": "2022-11-30T10:45:27.143Z"
   },
   {
    "duration": 9,
    "start_time": "2022-11-30T10:46:02.702Z"
   },
   {
    "duration": 6,
    "start_time": "2022-11-30T10:46:05.217Z"
   },
   {
    "duration": 6,
    "start_time": "2022-11-30T10:46:08.059Z"
   },
   {
    "duration": 7,
    "start_time": "2022-11-30T10:46:09.209Z"
   },
   {
    "duration": 8,
    "start_time": "2022-11-30T10:48:07.269Z"
   },
   {
    "duration": 3,
    "start_time": "2022-11-30T10:49:44.732Z"
   },
   {
    "duration": 5,
    "start_time": "2022-11-30T10:49:45.582Z"
   },
   {
    "duration": 4,
    "start_time": "2022-11-30T10:50:25.035Z"
   },
   {
    "duration": 6,
    "start_time": "2022-11-30T10:50:25.648Z"
   },
   {
    "duration": 11,
    "start_time": "2022-11-30T10:50:28.094Z"
   },
   {
    "duration": 6,
    "start_time": "2022-11-30T10:50:29.668Z"
   },
   {
    "duration": 5,
    "start_time": "2022-11-30T10:50:37.805Z"
   },
   {
    "duration": 5,
    "start_time": "2022-11-30T10:50:38.314Z"
   },
   {
    "duration": 4,
    "start_time": "2022-11-30T10:50:40.738Z"
   },
   {
    "duration": 9,
    "start_time": "2022-11-30T10:50:41.061Z"
   },
   {
    "duration": 5,
    "start_time": "2022-11-30T10:50:45.789Z"
   },
   {
    "duration": 6,
    "start_time": "2022-11-30T10:50:46.253Z"
   },
   {
    "duration": 4,
    "start_time": "2022-11-30T10:50:47.135Z"
   },
   {
    "duration": 4,
    "start_time": "2022-11-30T10:50:47.414Z"
   },
   {
    "duration": 4,
    "start_time": "2022-11-30T10:50:48.722Z"
   },
   {
    "duration": 5,
    "start_time": "2022-11-30T10:50:49.287Z"
   },
   {
    "duration": 4,
    "start_time": "2022-11-30T10:50:50.686Z"
   },
   {
    "duration": 6,
    "start_time": "2022-11-30T10:50:51.076Z"
   },
   {
    "duration": 7,
    "start_time": "2022-11-30T10:50:57.246Z"
   },
   {
    "duration": 6,
    "start_time": "2022-11-30T10:50:57.835Z"
   },
   {
    "duration": 4,
    "start_time": "2022-11-30T10:51:03.591Z"
   },
   {
    "duration": 6,
    "start_time": "2022-11-30T10:51:04.168Z"
   },
   {
    "duration": 258,
    "start_time": "2022-11-30T11:02:12.785Z"
   },
   {
    "duration": 15,
    "start_time": "2022-11-30T11:02:15.012Z"
   },
   {
    "duration": 8,
    "start_time": "2022-11-30T11:05:36.559Z"
   },
   {
    "duration": 3,
    "start_time": "2022-11-30T11:05:38.928Z"
   },
   {
    "duration": 4,
    "start_time": "2022-11-30T11:05:54.738Z"
   },
   {
    "duration": 4,
    "start_time": "2022-11-30T11:05:55.363Z"
   },
   {
    "duration": 5,
    "start_time": "2022-11-30T11:05:59.421Z"
   },
   {
    "duration": 6,
    "start_time": "2022-11-30T11:06:09.556Z"
   },
   {
    "duration": 10,
    "start_time": "2022-11-30T11:06:29.961Z"
   },
   {
    "duration": 9,
    "start_time": "2022-11-30T11:06:37.171Z"
   },
   {
    "duration": 4,
    "start_time": "2022-11-30T11:06:41.347Z"
   },
   {
    "duration": 5,
    "start_time": "2022-11-30T11:06:47.166Z"
   },
   {
    "duration": 7,
    "start_time": "2022-11-30T11:07:18.082Z"
   },
   {
    "duration": 9,
    "start_time": "2022-11-30T11:07:26.224Z"
   },
   {
    "duration": 5,
    "start_time": "2022-11-30T11:07:39.479Z"
   },
   {
    "duration": 5,
    "start_time": "2022-11-30T11:07:44.579Z"
   },
   {
    "duration": 5,
    "start_time": "2022-11-30T11:07:48.674Z"
   },
   {
    "duration": 4,
    "start_time": "2022-11-30T11:07:54.762Z"
   },
   {
    "duration": 6,
    "start_time": "2022-11-30T11:08:00.284Z"
   },
   {
    "duration": 5,
    "start_time": "2022-11-30T11:08:05.000Z"
   },
   {
    "duration": 3,
    "start_time": "2022-11-30T11:10:12.161Z"
   },
   {
    "duration": 4,
    "start_time": "2022-11-30T11:10:40.646Z"
   },
   {
    "duration": 16,
    "start_time": "2022-11-30T11:10:53.300Z"
   },
   {
    "duration": 11,
    "start_time": "2022-11-30T11:11:02.780Z"
   },
   {
    "duration": 3,
    "start_time": "2022-11-30T11:11:40.842Z"
   },
   {
    "duration": 11,
    "start_time": "2022-11-30T11:11:44.245Z"
   },
   {
    "duration": 4,
    "start_time": "2022-11-30T11:11:51.956Z"
   },
   {
    "duration": 10,
    "start_time": "2022-11-30T11:11:52.733Z"
   },
   {
    "duration": 15,
    "start_time": "2022-11-30T11:13:15.425Z"
   },
   {
    "duration": 4,
    "start_time": "2022-11-30T11:14:01.751Z"
   },
   {
    "duration": 15,
    "start_time": "2022-11-30T11:14:02.220Z"
   },
   {
    "duration": 11,
    "start_time": "2022-11-30T11:14:27.082Z"
   },
   {
    "duration": 7,
    "start_time": "2022-11-30T11:14:41.332Z"
   },
   {
    "duration": 5,
    "start_time": "2022-11-30T11:15:12.739Z"
   },
   {
    "duration": 5,
    "start_time": "2022-11-30T11:15:16.294Z"
   },
   {
    "duration": 6,
    "start_time": "2022-11-30T11:15:23.383Z"
   },
   {
    "duration": 7,
    "start_time": "2022-11-30T11:15:26.286Z"
   },
   {
    "duration": 5,
    "start_time": "2022-11-30T11:15:31.746Z"
   },
   {
    "duration": 5,
    "start_time": "2022-11-30T11:15:33.764Z"
   },
   {
    "duration": 4,
    "start_time": "2022-11-30T11:15:36.843Z"
   },
   {
    "duration": 5,
    "start_time": "2022-11-30T11:15:40.653Z"
   },
   {
    "duration": 10,
    "start_time": "2022-11-30T11:17:48.522Z"
   },
   {
    "duration": 10,
    "start_time": "2022-11-30T11:23:26.750Z"
   },
   {
    "duration": 25823,
    "start_time": "2022-11-30T11:24:02.785Z"
   },
   {
    "duration": 4,
    "start_time": "2022-11-30T11:24:28.610Z"
   },
   {
    "duration": 4,
    "start_time": "2022-11-30T11:26:25.243Z"
   },
   {
    "duration": 106,
    "start_time": "2022-11-30T11:26:32.792Z"
   },
   {
    "duration": 312,
    "start_time": "2022-11-30T11:26:47.544Z"
   },
   {
    "duration": 10325,
    "start_time": "2022-11-30T11:27:48.574Z"
   },
   {
    "duration": 5,
    "start_time": "2022-11-30T11:27:58.901Z"
   },
   {
    "duration": 3,
    "start_time": "2022-11-30T11:29:26.697Z"
   },
   {
    "duration": 38,
    "start_time": "2022-11-30T11:29:26.702Z"
   },
   {
    "duration": 16,
    "start_time": "2022-11-30T11:29:26.742Z"
   },
   {
    "duration": 13,
    "start_time": "2022-11-30T11:29:26.761Z"
   },
   {
    "duration": 4,
    "start_time": "2022-11-30T11:29:26.796Z"
   },
   {
    "duration": 7,
    "start_time": "2022-11-30T11:29:26.802Z"
   },
   {
    "duration": 8,
    "start_time": "2022-11-30T11:29:26.811Z"
   },
   {
    "duration": 8,
    "start_time": "2022-11-30T11:29:26.821Z"
   },
   {
    "duration": 8,
    "start_time": "2022-11-30T11:29:26.832Z"
   },
   {
    "duration": 6,
    "start_time": "2022-11-30T11:29:26.841Z"
   },
   {
    "duration": 5,
    "start_time": "2022-11-30T11:29:26.849Z"
   },
   {
    "duration": 7,
    "start_time": "2022-11-30T11:29:26.857Z"
   },
   {
    "duration": 3,
    "start_time": "2022-11-30T11:29:26.896Z"
   },
   {
    "duration": 16,
    "start_time": "2022-11-30T11:29:26.902Z"
   },
   {
    "duration": 4,
    "start_time": "2022-11-30T11:29:26.920Z"
   },
   {
    "duration": 10,
    "start_time": "2022-11-30T11:29:26.925Z"
   },
   {
    "duration": 7,
    "start_time": "2022-11-30T11:29:26.936Z"
   },
   {
    "duration": 232,
    "start_time": "2022-11-30T11:29:26.944Z"
   },
   {
    "duration": 26576,
    "start_time": "2022-11-30T11:29:27.178Z"
   },
   {
    "duration": 5,
    "start_time": "2022-11-30T11:29:53.756Z"
   },
   {
    "duration": 307,
    "start_time": "2022-11-30T11:29:53.763Z"
   },
   {
    "duration": 2,
    "start_time": "2022-11-30T11:29:54.072Z"
   },
   {
    "duration": 34,
    "start_time": "2022-11-30T11:29:54.076Z"
   },
   {
    "duration": 39,
    "start_time": "2022-11-30T11:29:54.113Z"
   },
   {
    "duration": 2043,
    "start_time": "2022-11-30T11:29:54.154Z"
   },
   {
    "duration": 2,
    "start_time": "2022-11-30T11:29:56.199Z"
   },
   {
    "duration": 94,
    "start_time": "2022-11-30T11:29:56.203Z"
   },
   {
    "duration": 47,
    "start_time": "2022-11-30T11:29:56.302Z"
   },
   {
    "duration": 36,
    "start_time": "2022-11-30T11:29:56.351Z"
   },
   {
    "duration": 35,
    "start_time": "2022-11-30T11:29:56.388Z"
   },
   {
    "duration": 23,
    "start_time": "2022-11-30T11:29:56.425Z"
   },
   {
    "duration": 35,
    "start_time": "2022-11-30T11:29:56.450Z"
   },
   {
    "duration": 23112,
    "start_time": "2022-11-30T11:29:56.487Z"
   },
   {
    "duration": 4,
    "start_time": "2022-11-30T11:30:19.601Z"
   },
   {
    "duration": 98,
    "start_time": "2022-11-30T11:30:19.607Z"
   },
   {
    "duration": 7,
    "start_time": "2022-11-30T11:30:19.706Z"
   },
   {
    "duration": 11711,
    "start_time": "2022-11-30T11:30:19.714Z"
   },
   {
    "duration": 3,
    "start_time": "2022-11-30T11:30:31.427Z"
   },
   {
    "duration": 64,
    "start_time": "2022-11-30T11:30:31.432Z"
   },
   {
    "duration": 99,
    "start_time": "2022-11-30T11:30:31.499Z"
   },
   {
    "duration": 10,
    "start_time": "2022-11-30T11:31:01.806Z"
   },
   {
    "duration": 4,
    "start_time": "2022-11-30T11:31:14.095Z"
   },
   {
    "duration": 123,
    "start_time": "2022-11-30T11:31:14.480Z"
   },
   {
    "duration": 9,
    "start_time": "2022-11-30T11:31:15.354Z"
   },
   {
    "duration": 47,
    "start_time": "2022-11-30T11:31:42.847Z"
   },
   {
    "duration": 78,
    "start_time": "2022-11-30T11:31:49.741Z"
   },
   {
    "duration": 20,
    "start_time": "2022-11-30T11:32:10.165Z"
   },
   {
    "duration": 3,
    "start_time": "2022-11-30T11:32:13.853Z"
   },
   {
    "duration": 34,
    "start_time": "2022-11-30T11:32:13.859Z"
   },
   {
    "duration": 11,
    "start_time": "2022-11-30T11:32:13.895Z"
   },
   {
    "duration": 14,
    "start_time": "2022-11-30T11:32:13.908Z"
   },
   {
    "duration": 5,
    "start_time": "2022-11-30T11:32:13.925Z"
   },
   {
    "duration": 8,
    "start_time": "2022-11-30T11:32:13.932Z"
   },
   {
    "duration": 9,
    "start_time": "2022-11-30T11:32:13.941Z"
   },
   {
    "duration": 8,
    "start_time": "2022-11-30T11:32:13.951Z"
   },
   {
    "duration": 10,
    "start_time": "2022-11-30T11:32:13.961Z"
   },
   {
    "duration": 10,
    "start_time": "2022-11-30T11:32:13.973Z"
   },
   {
    "duration": 11,
    "start_time": "2022-11-30T11:32:13.997Z"
   },
   {
    "duration": 9,
    "start_time": "2022-11-30T11:32:14.009Z"
   },
   {
    "duration": 6,
    "start_time": "2022-11-30T11:32:14.019Z"
   },
   {
    "duration": 16,
    "start_time": "2022-11-30T11:32:14.028Z"
   },
   {
    "duration": 3,
    "start_time": "2022-11-30T11:32:14.046Z"
   },
   {
    "duration": 18,
    "start_time": "2022-11-30T11:32:14.051Z"
   },
   {
    "duration": 6,
    "start_time": "2022-11-30T11:32:14.071Z"
   },
   {
    "duration": 201,
    "start_time": "2022-11-30T11:32:14.079Z"
   },
   {
    "duration": 4,
    "start_time": "2022-11-30T11:32:14.281Z"
   },
   {
    "duration": 7,
    "start_time": "2022-11-30T11:32:14.286Z"
   },
   {
    "duration": 299,
    "start_time": "2022-11-30T11:32:14.296Z"
   },
   {
    "duration": 3,
    "start_time": "2022-11-30T11:32:14.597Z"
   },
   {
    "duration": 5,
    "start_time": "2022-11-30T11:32:14.601Z"
   },
   {
    "duration": 4,
    "start_time": "2022-11-30T11:32:14.608Z"
   },
   {
    "duration": 2287,
    "start_time": "2022-11-30T11:32:14.614Z"
   },
   {
    "duration": 3,
    "start_time": "2022-11-30T11:32:16.903Z"
   },
   {
    "duration": 104,
    "start_time": "2022-11-30T11:32:16.996Z"
   },
   {
    "duration": 7,
    "start_time": "2022-11-30T11:32:17.102Z"
   },
   {
    "duration": 14,
    "start_time": "2022-11-30T11:32:18.768Z"
   },
   {
    "duration": 3,
    "start_time": "2022-11-30T11:32:26.687Z"
   },
   {
    "duration": 36,
    "start_time": "2022-11-30T11:32:26.692Z"
   },
   {
    "duration": 11,
    "start_time": "2022-11-30T11:32:26.729Z"
   },
   {
    "duration": 16,
    "start_time": "2022-11-30T11:32:26.742Z"
   },
   {
    "duration": 5,
    "start_time": "2022-11-30T11:32:26.760Z"
   },
   {
    "duration": 10,
    "start_time": "2022-11-30T11:32:26.766Z"
   },
   {
    "duration": 10,
    "start_time": "2022-11-30T11:32:26.777Z"
   },
   {
    "duration": 7,
    "start_time": "2022-11-30T11:32:26.788Z"
   },
   {
    "duration": 7,
    "start_time": "2022-11-30T11:32:26.797Z"
   },
   {
    "duration": 17,
    "start_time": "2022-11-30T11:32:26.806Z"
   },
   {
    "duration": 7,
    "start_time": "2022-11-30T11:32:26.824Z"
   },
   {
    "duration": 10,
    "start_time": "2022-11-30T11:32:26.833Z"
   },
   {
    "duration": 13,
    "start_time": "2022-11-30T11:32:26.845Z"
   },
   {
    "duration": 26,
    "start_time": "2022-11-30T11:32:26.859Z"
   },
   {
    "duration": 3,
    "start_time": "2022-11-30T11:32:26.886Z"
   },
   {
    "duration": 10,
    "start_time": "2022-11-30T11:32:26.891Z"
   },
   {
    "duration": 10,
    "start_time": "2022-11-30T11:32:26.902Z"
   },
   {
    "duration": 201,
    "start_time": "2022-11-30T11:32:26.913Z"
   },
   {
    "duration": 3,
    "start_time": "2022-11-30T11:32:27.116Z"
   },
   {
    "duration": 9,
    "start_time": "2022-11-30T11:32:27.120Z"
   },
   {
    "duration": 306,
    "start_time": "2022-11-30T11:32:27.131Z"
   },
   {
    "duration": 3,
    "start_time": "2022-11-30T11:32:27.438Z"
   },
   {
    "duration": 10,
    "start_time": "2022-11-30T11:32:27.443Z"
   },
   {
    "duration": 6,
    "start_time": "2022-11-30T11:32:27.455Z"
   },
   {
    "duration": 1734,
    "start_time": "2022-11-30T11:32:27.462Z"
   },
   {
    "duration": 6,
    "start_time": "2022-11-30T11:32:29.198Z"
   },
   {
    "duration": 94,
    "start_time": "2022-11-30T11:32:29.206Z"
   },
   {
    "duration": 4,
    "start_time": "2022-11-30T11:32:29.304Z"
   },
   {
    "duration": 15,
    "start_time": "2022-11-30T11:32:29.309Z"
   },
   {
    "duration": 2,
    "start_time": "2022-11-30T11:32:29.326Z"
   },
   {
    "duration": 17,
    "start_time": "2022-11-30T11:32:29.330Z"
   },
   {
    "duration": 10,
    "start_time": "2022-11-30T11:32:29.349Z"
   },
   {
    "duration": 17643,
    "start_time": "2022-11-30T11:32:29.360Z"
   },
   {
    "duration": 92,
    "start_time": "2022-11-30T11:32:47.005Z"
   },
   {
    "duration": 115,
    "start_time": "2022-11-30T11:32:47.099Z"
   },
   {
    "duration": 9,
    "start_time": "2022-11-30T11:32:47.216Z"
   },
   {
    "duration": 11301,
    "start_time": "2022-11-30T11:32:47.226Z"
   },
   {
    "duration": 3,
    "start_time": "2022-11-30T11:33:02.101Z"
   },
   {
    "duration": 58,
    "start_time": "2022-11-30T11:33:03.143Z"
   },
   {
    "duration": 85,
    "start_time": "2022-11-30T11:33:04.875Z"
   },
   {
    "duration": 9,
    "start_time": "2022-11-30T11:33:46.564Z"
   },
   {
    "duration": 8,
    "start_time": "2022-11-30T11:34:01.979Z"
   },
   {
    "duration": 7,
    "start_time": "2022-11-30T11:34:17.535Z"
   },
   {
    "duration": 6,
    "start_time": "2022-11-30T11:34:21.380Z"
   },
   {
    "duration": 9,
    "start_time": "2022-11-30T11:34:24.847Z"
   },
   {
    "duration": 10,
    "start_time": "2022-11-30T11:35:12.277Z"
   },
   {
    "duration": 26,
    "start_time": "2022-11-30T11:35:20.864Z"
   },
   {
    "duration": 19,
    "start_time": "2022-11-30T11:35:30.328Z"
   },
   {
    "duration": 3071,
    "start_time": "2022-11-30T11:38:10.459Z"
   },
   {
    "duration": 4,
    "start_time": "2022-11-30T11:38:17.290Z"
   },
   {
    "duration": 65,
    "start_time": "2022-11-30T11:38:17.296Z"
   },
   {
    "duration": 15,
    "start_time": "2022-11-30T11:38:17.363Z"
   },
   {
    "duration": 11,
    "start_time": "2022-11-30T11:38:17.380Z"
   },
   {
    "duration": 29,
    "start_time": "2022-11-30T11:38:17.395Z"
   },
   {
    "duration": 5,
    "start_time": "2022-11-30T11:38:17.427Z"
   },
   {
    "duration": 8,
    "start_time": "2022-11-30T11:38:17.436Z"
   },
   {
    "duration": 10,
    "start_time": "2022-11-30T11:38:17.446Z"
   },
   {
    "duration": 18,
    "start_time": "2022-11-30T11:38:17.458Z"
   },
   {
    "duration": 12,
    "start_time": "2022-11-30T11:38:17.478Z"
   },
   {
    "duration": 29,
    "start_time": "2022-11-30T11:38:17.492Z"
   },
   {
    "duration": 23,
    "start_time": "2022-11-30T11:38:17.523Z"
   },
   {
    "duration": 6,
    "start_time": "2022-11-30T11:38:17.547Z"
   },
   {
    "duration": 24,
    "start_time": "2022-11-30T11:38:17.558Z"
   },
   {
    "duration": 3,
    "start_time": "2022-11-30T11:38:17.585Z"
   },
   {
    "duration": 6,
    "start_time": "2022-11-30T11:38:17.589Z"
   },
   {
    "duration": 38,
    "start_time": "2022-11-30T11:38:17.597Z"
   },
   {
    "duration": 222,
    "start_time": "2022-11-30T11:38:17.637Z"
   },
   {
    "duration": 3,
    "start_time": "2022-11-30T11:38:17.861Z"
   },
   {
    "duration": 10,
    "start_time": "2022-11-30T11:38:17.866Z"
   },
   {
    "duration": 385,
    "start_time": "2022-11-30T11:38:17.878Z"
   },
   {
    "duration": 3,
    "start_time": "2022-11-30T11:38:18.265Z"
   },
   {
    "duration": 12,
    "start_time": "2022-11-30T11:38:18.270Z"
   },
   {
    "duration": 18,
    "start_time": "2022-11-30T11:38:18.284Z"
   },
   {
    "duration": 10623,
    "start_time": "2022-11-30T11:38:18.304Z"
   },
   {
    "duration": 13,
    "start_time": "2022-11-30T11:38:29.004Z"
   },
   {
    "duration": 108,
    "start_time": "2022-11-30T11:38:29.019Z"
   },
   {
    "duration": 11,
    "start_time": "2022-11-30T11:38:29.130Z"
   },
   {
    "duration": 35,
    "start_time": "2022-11-30T11:38:29.143Z"
   },
   {
    "duration": 42,
    "start_time": "2022-11-30T11:38:29.180Z"
   },
   {
    "duration": 24,
    "start_time": "2022-11-30T11:38:29.224Z"
   },
   {
    "duration": 39,
    "start_time": "2022-11-30T11:38:29.249Z"
   },
   {
    "duration": 24435,
    "start_time": "2022-11-30T11:38:29.290Z"
   },
   {
    "duration": 7,
    "start_time": "2022-11-30T11:38:53.803Z"
   },
   {
    "duration": 119,
    "start_time": "2022-11-30T11:38:53.814Z"
   },
   {
    "duration": 36,
    "start_time": "2022-11-30T11:38:53.934Z"
   },
   {
    "duration": 2719,
    "start_time": "2022-11-30T11:39:49.285Z"
   },
   {
    "duration": 3,
    "start_time": "2022-11-30T11:39:54.475Z"
   },
   {
    "duration": 127,
    "start_time": "2022-11-30T11:39:55.276Z"
   },
   {
    "duration": 87,
    "start_time": "2022-11-30T11:40:03.539Z"
   },
   {
    "duration": 787,
    "start_time": "2022-11-30T11:50:34.735Z"
   },
   {
    "duration": 96,
    "start_time": "2022-11-30T11:54:54.913Z"
   },
   {
    "duration": 10,
    "start_time": "2022-11-30T11:54:59.574Z"
   },
   {
    "duration": 12,
    "start_time": "2022-11-30T11:55:09.121Z"
   },
   {
    "duration": 86,
    "start_time": "2022-11-30T11:55:30.805Z"
   },
   {
    "duration": 12,
    "start_time": "2022-11-30T11:55:40.520Z"
   },
   {
    "duration": 11,
    "start_time": "2022-11-30T11:55:45.376Z"
   },
   {
    "duration": 5,
    "start_time": "2022-11-30T12:46:25.389Z"
   },
   {
    "duration": 15,
    "start_time": "2022-11-30T12:46:34.710Z"
   },
   {
    "duration": 6,
    "start_time": "2022-11-30T12:46:41.668Z"
   },
   {
    "duration": 6,
    "start_time": "2022-11-30T12:46:50.991Z"
   },
   {
    "duration": 6,
    "start_time": "2022-11-30T12:48:39.606Z"
   },
   {
    "duration": 73,
    "start_time": "2022-11-30T12:51:01.121Z"
   },
   {
    "duration": 3,
    "start_time": "2022-11-30T12:51:26.770Z"
   },
   {
    "duration": 4,
    "start_time": "2022-11-30T12:53:21.746Z"
   },
   {
    "duration": 5,
    "start_time": "2022-11-30T12:53:54.989Z"
   },
   {
    "duration": 4,
    "start_time": "2022-11-30T12:54:04.830Z"
   },
   {
    "duration": 4,
    "start_time": "2022-11-30T12:54:05.524Z"
   },
   {
    "duration": 5,
    "start_time": "2022-11-30T12:54:08.921Z"
   },
   {
    "duration": 5,
    "start_time": "2022-11-30T12:54:16.728Z"
   },
   {
    "duration": 7,
    "start_time": "2022-11-30T12:54:17.064Z"
   },
   {
    "duration": 5,
    "start_time": "2022-11-30T12:54:19.027Z"
   },
   {
    "duration": 6,
    "start_time": "2022-11-30T12:54:19.265Z"
   },
   {
    "duration": 4,
    "start_time": "2022-11-30T12:54:24.484Z"
   },
   {
    "duration": 6,
    "start_time": "2022-11-30T12:54:24.966Z"
   },
   {
    "duration": 4,
    "start_time": "2022-11-30T12:54:27.127Z"
   },
   {
    "duration": 5,
    "start_time": "2022-11-30T12:54:27.392Z"
   },
   {
    "duration": 4,
    "start_time": "2022-11-30T12:54:30.011Z"
   },
   {
    "duration": 8,
    "start_time": "2022-11-30T12:54:31.440Z"
   },
   {
    "duration": 4,
    "start_time": "2022-11-30T12:54:37.108Z"
   },
   {
    "duration": 7,
    "start_time": "2022-11-30T12:54:37.485Z"
   },
   {
    "duration": 4,
    "start_time": "2022-11-30T12:55:14.862Z"
   },
   {
    "duration": 6,
    "start_time": "2022-11-30T12:55:15.705Z"
   },
   {
    "duration": 5,
    "start_time": "2022-11-30T12:55:35.842Z"
   },
   {
    "duration": 8,
    "start_time": "2022-11-30T12:55:36.147Z"
   },
   {
    "duration": 3,
    "start_time": "2022-11-30T12:55:48.595Z"
   },
   {
    "duration": 5,
    "start_time": "2022-11-30T12:55:48.935Z"
   },
   {
    "duration": 12,
    "start_time": "2022-11-30T12:56:00.375Z"
   },
   {
    "duration": 6,
    "start_time": "2022-11-30T12:56:08.170Z"
   },
   {
    "duration": 8,
    "start_time": "2022-11-30T12:56:34.752Z"
   },
   {
    "duration": 10,
    "start_time": "2022-11-30T12:56:46.237Z"
   },
   {
    "duration": 8,
    "start_time": "2022-11-30T12:56:48.918Z"
   },
   {
    "duration": 9,
    "start_time": "2022-11-30T12:57:36.402Z"
   },
   {
    "duration": 10,
    "start_time": "2022-11-30T12:58:25.731Z"
   },
   {
    "duration": 51,
    "start_time": "2022-11-30T12:59:44.730Z"
   },
   {
    "duration": 3,
    "start_time": "2022-11-30T13:00:03.470Z"
   },
   {
    "duration": 5,
    "start_time": "2022-11-30T13:01:58.936Z"
   },
   {
    "duration": 5,
    "start_time": "2022-11-30T13:02:37.966Z"
   },
   {
    "duration": 305,
    "start_time": "2022-11-30T13:04:18.484Z"
   },
   {
    "duration": 13,
    "start_time": "2022-11-30T13:04:26.641Z"
   },
   {
    "duration": 9,
    "start_time": "2022-11-30T13:04:33.373Z"
   },
   {
    "duration": 10,
    "start_time": "2022-11-30T13:04:38.570Z"
   },
   {
    "duration": 9,
    "start_time": "2022-11-30T13:04:46.709Z"
   },
   {
    "duration": 143,
    "start_time": "2022-11-30T13:04:56.722Z"
   },
   {
    "duration": 333,
    "start_time": "2022-11-30T13:06:48.633Z"
   },
   {
    "duration": 3040,
    "start_time": "2022-11-30T13:08:39.910Z"
   },
   {
    "duration": 355,
    "start_time": "2022-11-30T13:08:43.771Z"
   },
   {
    "duration": 946,
    "start_time": "2022-11-30T13:08:52.728Z"
   },
   {
    "duration": 352,
    "start_time": "2022-11-30T13:08:55.111Z"
   },
   {
    "duration": 9,
    "start_time": "2022-11-30T13:09:22.017Z"
   },
   {
    "duration": 3,
    "start_time": "2022-11-30T13:17:35.529Z"
   },
   {
    "duration": 6,
    "start_time": "2022-11-30T13:18:45.406Z"
   },
   {
    "duration": 7,
    "start_time": "2022-11-30T13:19:16.630Z"
   },
   {
    "duration": 6,
    "start_time": "2022-11-30T13:19:34.006Z"
   },
   {
    "duration": 7,
    "start_time": "2022-11-30T13:20:20.283Z"
   },
   {
    "duration": 6,
    "start_time": "2022-11-30T13:20:31.846Z"
   },
   {
    "duration": 12,
    "start_time": "2022-11-30T13:20:41.746Z"
   },
   {
    "duration": 6,
    "start_time": "2022-11-30T13:21:01.127Z"
   },
   {
    "duration": 7,
    "start_time": "2022-11-30T13:22:11.824Z"
   },
   {
    "duration": 6,
    "start_time": "2022-11-30T13:22:12.381Z"
   },
   {
    "duration": 8,
    "start_time": "2022-11-30T13:23:20.154Z"
   },
   {
    "duration": 6,
    "start_time": "2022-11-30T13:24:20.337Z"
   },
   {
    "duration": 1342,
    "start_time": "2022-11-30T13:25:38.356Z"
   },
   {
    "duration": 385,
    "start_time": "2022-11-30T13:26:42.477Z"
   },
   {
    "duration": 310,
    "start_time": "2022-11-30T13:26:59.107Z"
   },
   {
    "duration": 414,
    "start_time": "2022-11-30T13:27:23.473Z"
   },
   {
    "duration": 1144,
    "start_time": "2022-11-30T13:27:42.186Z"
   },
   {
    "duration": 427,
    "start_time": "2022-11-30T13:27:55.995Z"
   },
   {
    "duration": 403,
    "start_time": "2022-11-30T13:28:07.218Z"
   },
   {
    "duration": 1351,
    "start_time": "2022-11-30T13:28:14.334Z"
   },
   {
    "duration": 1194,
    "start_time": "2022-11-30T13:29:58.924Z"
   },
   {
    "duration": 1358,
    "start_time": "2022-11-30T13:30:01.705Z"
   },
   {
    "duration": 753,
    "start_time": "2022-11-30T13:30:09.518Z"
   },
   {
    "duration": 790,
    "start_time": "2022-11-30T13:30:11.268Z"
   },
   {
    "duration": 7,
    "start_time": "2022-11-30T13:30:19.529Z"
   },
   {
    "duration": 7,
    "start_time": "2022-11-30T13:30:22.466Z"
   },
   {
    "duration": 382,
    "start_time": "2022-11-30T13:37:34.737Z"
   },
   {
    "duration": 48,
    "start_time": "2022-11-30T13:37:35.121Z"
   },
   {
    "duration": 13,
    "start_time": "2022-11-30T13:37:35.170Z"
   },
   {
    "duration": 27,
    "start_time": "2022-11-30T13:37:35.186Z"
   },
   {
    "duration": 707,
    "start_time": "2022-11-30T13:37:35.215Z"
   },
   {
    "duration": 3,
    "start_time": "2022-11-30T13:37:35.923Z"
   },
   {
    "duration": 11,
    "start_time": "2022-11-30T13:37:35.927Z"
   },
   {
    "duration": 6,
    "start_time": "2022-11-30T13:37:35.940Z"
   },
   {
    "duration": 12,
    "start_time": "2022-11-30T13:37:35.947Z"
   },
   {
    "duration": 11,
    "start_time": "2022-11-30T13:37:35.961Z"
   },
   {
    "duration": 42,
    "start_time": "2022-11-30T13:37:35.973Z"
   },
   {
    "duration": 10653,
    "start_time": "2022-11-30T13:37:36.017Z"
   },
   {
    "duration": 4,
    "start_time": "2022-11-30T13:37:46.672Z"
   },
   {
    "duration": 28,
    "start_time": "2022-11-30T13:37:46.678Z"
   },
   {
    "duration": 10,
    "start_time": "2022-11-30T13:37:46.708Z"
   },
   {
    "duration": 34115,
    "start_time": "2022-11-30T13:37:46.720Z"
   },
   {
    "duration": 5,
    "start_time": "2022-11-30T13:38:20.837Z"
   },
   {
    "duration": 234,
    "start_time": "2022-11-30T13:38:20.844Z"
   },
   {
    "duration": 25004,
    "start_time": "2022-11-30T13:38:21.080Z"
   },
   {
    "duration": 9,
    "start_time": "2022-11-30T13:38:46.086Z"
   },
   {
    "duration": 303,
    "start_time": "2022-11-30T13:38:46.097Z"
   },
   {
    "duration": 3,
    "start_time": "2022-11-30T13:38:46.402Z"
   },
   {
    "duration": 103092,
    "start_time": "2022-11-30T13:38:46.408Z"
   },
   {
    "duration": 9,
    "start_time": "2022-11-30T13:40:29.595Z"
   },
   {
    "duration": 1895,
    "start_time": "2022-11-30T13:40:29.607Z"
   },
   {
    "duration": 93,
    "start_time": "2022-11-30T13:40:31.504Z"
   },
   {
    "duration": 4857,
    "start_time": "2022-11-30T13:40:31.600Z"
   },
   {
    "duration": 4,
    "start_time": "2022-11-30T13:40:36.462Z"
   },
   {
    "duration": 21,
    "start_time": "2022-11-30T13:40:36.467Z"
   },
   {
    "duration": 5,
    "start_time": "2022-11-30T13:40:36.497Z"
   },
   {
    "duration": 60594,
    "start_time": "2022-11-30T13:40:36.504Z"
   },
   {
    "duration": 99,
    "start_time": "2022-11-30T13:41:37.103Z"
   },
   {
    "duration": 10992,
    "start_time": "2022-11-30T13:41:37.206Z"
   },
   {
    "duration": 141,
    "start_time": "2022-11-30T13:41:48.200Z"
   },
   {
    "duration": 45963,
    "start_time": "2022-11-30T13:41:48.342Z"
   },
   {
    "duration": 7,
    "start_time": "2022-11-30T13:42:34.307Z"
   },
   {
    "duration": 2458,
    "start_time": "2022-11-30T13:42:34.315Z"
   },
   {
    "duration": 3,
    "start_time": "2022-11-30T13:42:36.775Z"
   },
   {
    "duration": 50,
    "start_time": "2022-11-30T13:42:36.780Z"
   },
   {
    "duration": 467,
    "start_time": "2022-11-30T13:42:36.832Z"
   },
   {
    "duration": 5,
    "start_time": "2022-11-30T13:42:37.301Z"
   },
   {
    "duration": 7,
    "start_time": "2022-11-30T13:42:37.308Z"
   },
   {
    "duration": 13,
    "start_time": "2022-11-30T13:42:37.316Z"
   },
   {
    "duration": 3,
    "start_time": "2022-11-30T13:42:37.331Z"
   },
   {
    "duration": 11,
    "start_time": "2022-11-30T13:42:37.335Z"
   },
   {
    "duration": 1329,
    "start_time": "2022-11-30T13:42:37.348Z"
   },
   {
    "duration": 3,
    "start_time": "2022-11-30T13:42:38.679Z"
   },
   {
    "duration": 729,
    "start_time": "2022-11-30T13:42:38.684Z"
   },
   {
    "duration": 835,
    "start_time": "2022-11-30T13:42:39.415Z"
   },
   {
    "duration": 6,
    "start_time": "2022-11-30T13:42:40.252Z"
   },
   {
    "duration": 394,
    "start_time": "2022-11-30T16:22:15.156Z"
   },
   {
    "duration": 32,
    "start_time": "2022-11-30T16:22:17.273Z"
   },
   {
    "duration": 15,
    "start_time": "2022-11-30T16:22:18.277Z"
   },
   {
    "duration": 23,
    "start_time": "2022-11-30T16:22:18.454Z"
   },
   {
    "duration": 1444,
    "start_time": "2022-11-30T16:22:22.711Z"
   },
   {
    "duration": 3,
    "start_time": "2022-11-30T16:22:25.917Z"
   },
   {
    "duration": 7,
    "start_time": "2022-11-30T16:22:26.338Z"
   },
   {
    "duration": 3,
    "start_time": "2022-11-30T16:22:26.497Z"
   },
   {
    "duration": 5,
    "start_time": "2022-11-30T16:22:28.771Z"
   },
   {
    "duration": 3,
    "start_time": "2022-11-30T16:22:30.186Z"
   },
   {
    "duration": 38,
    "start_time": "2022-11-30T16:22:31.033Z"
   },
   {
    "duration": 10506,
    "start_time": "2022-11-30T16:22:32.914Z"
   },
   {
    "duration": 4,
    "start_time": "2022-11-30T16:22:43.422Z"
   },
   {
    "duration": 14,
    "start_time": "2022-11-30T16:23:05.999Z"
   },
   {
    "duration": 10,
    "start_time": "2022-11-30T16:23:07.714Z"
   },
   {
    "duration": 33951,
    "start_time": "2022-11-30T16:23:20.570Z"
   },
   {
    "duration": 4,
    "start_time": "2022-11-30T16:23:54.523Z"
   },
   {
    "duration": 218,
    "start_time": "2022-11-30T16:23:54.528Z"
   },
   {
    "duration": 4,
    "start_time": "2022-11-30T16:24:02.486Z"
   },
   {
    "duration": 24192,
    "start_time": "2022-11-30T16:24:12.418Z"
   },
   {
    "duration": 4,
    "start_time": "2022-11-30T16:24:36.612Z"
   },
   {
    "duration": 318,
    "start_time": "2022-11-30T16:24:36.618Z"
   },
   {
    "duration": 101,
    "start_time": "2022-11-30T16:24:36.938Z"
   },
   {
    "duration": 3,
    "start_time": "2022-11-30T16:24:43.760Z"
   },
   {
    "duration": 97723,
    "start_time": "2022-11-30T16:24:52.826Z"
   },
   {
    "duration": 53,
    "start_time": "2022-11-30T23:47:04.238Z"
   },
   {
    "duration": 40,
    "start_time": "2022-11-30T23:57:33.561Z"
   },
   {
    "duration": 359,
    "start_time": "2022-11-30T23:57:37.574Z"
   },
   {
    "duration": 132,
    "start_time": "2022-11-30T23:57:37.935Z"
   },
   {
    "duration": 11,
    "start_time": "2022-11-30T23:57:38.069Z"
   },
   {
    "duration": 16,
    "start_time": "2022-11-30T23:57:38.082Z"
   },
   {
    "duration": 20,
    "start_time": "2022-11-30T23:57:39.493Z"
   },
   {
    "duration": 30,
    "start_time": "2022-11-30T23:59:15.350Z"
   },
   {
    "duration": 686,
    "start_time": "2022-12-01T00:00:23.618Z"
   },
   {
    "duration": 130,
    "start_time": "2022-12-01T00:01:42.595Z"
   },
   {
    "duration": 314,
    "start_time": "2022-12-01T00:01:51.570Z"
   },
   {
    "duration": 277,
    "start_time": "2022-12-01T00:02:05.431Z"
   },
   {
    "duration": 268,
    "start_time": "2022-12-01T00:02:13.218Z"
   },
   {
    "duration": 280,
    "start_time": "2022-12-01T00:02:32.835Z"
   },
   {
    "duration": 265,
    "start_time": "2022-12-01T00:02:48.132Z"
   },
   {
    "duration": 359,
    "start_time": "2022-12-01T00:04:30.880Z"
   },
   {
    "duration": 301,
    "start_time": "2022-12-01T00:05:44.598Z"
   },
   {
    "duration": 265,
    "start_time": "2022-12-01T00:05:57.512Z"
   },
   {
    "duration": 287,
    "start_time": "2022-12-01T00:06:12.741Z"
   },
   {
    "duration": 345,
    "start_time": "2022-12-01T00:06:21.248Z"
   },
   {
    "duration": 342,
    "start_time": "2022-12-01T00:06:25.124Z"
   },
   {
    "duration": 382,
    "start_time": "2022-12-01T00:06:36.328Z"
   },
   {
    "duration": 301,
    "start_time": "2022-12-01T00:07:19.054Z"
   },
   {
    "duration": 295,
    "start_time": "2022-12-01T00:07:38.204Z"
   },
   {
    "duration": 299,
    "start_time": "2022-12-01T00:08:06.423Z"
   },
   {
    "duration": 420,
    "start_time": "2022-12-01T00:08:27.299Z"
   },
   {
    "duration": 312,
    "start_time": "2022-12-01T00:08:40.416Z"
   },
   {
    "duration": 268,
    "start_time": "2022-12-01T00:08:55.845Z"
   },
   {
    "duration": 332,
    "start_time": "2022-12-01T00:10:05.183Z"
   },
   {
    "duration": 112,
    "start_time": "2022-12-01T00:10:09.043Z"
   },
   {
    "duration": 462,
    "start_time": "2022-12-01T00:10:13.029Z"
   },
   {
    "duration": 292,
    "start_time": "2022-12-01T00:10:20.825Z"
   },
   {
    "duration": 337,
    "start_time": "2022-12-01T00:15:40.572Z"
   },
   {
    "duration": 280,
    "start_time": "2022-12-01T00:15:53.386Z"
   },
   {
    "duration": 291,
    "start_time": "2022-12-01T00:16:20.436Z"
   },
   {
    "duration": 9,
    "start_time": "2022-12-01T00:24:20.652Z"
   },
   {
    "duration": 4,
    "start_time": "2022-12-01T00:24:44.743Z"
   },
   {
    "duration": 14018,
    "start_time": "2022-12-01T01:26:32.818Z"
   },
   {
    "duration": 6,
    "start_time": "2022-12-01T01:27:04.929Z"
   },
   {
    "duration": 6,
    "start_time": "2022-12-01T01:27:17.045Z"
   },
   {
    "duration": 69,
    "start_time": "2022-12-01T01:27:22.983Z"
   },
   {
    "duration": 69,
    "start_time": "2022-12-01T01:28:50.418Z"
   },
   {
    "duration": 415,
    "start_time": "2022-12-01T01:29:27.338Z"
   },
   {
    "duration": 65,
    "start_time": "2022-12-01T01:29:32.256Z"
   },
   {
    "duration": 75,
    "start_time": "2022-12-01T01:30:13.046Z"
   },
   {
    "duration": 73,
    "start_time": "2022-12-01T01:30:42.921Z"
   },
   {
    "duration": 75,
    "start_time": "2022-12-01T01:32:46.002Z"
   },
   {
    "duration": 75,
    "start_time": "2022-12-01T01:33:08.612Z"
   },
   {
    "duration": 58,
    "start_time": "2022-12-01T01:34:17.194Z"
   },
   {
    "duration": 402,
    "start_time": "2022-12-01T01:35:08.865Z"
   },
   {
    "duration": 53,
    "start_time": "2022-12-01T01:35:10.038Z"
   },
   {
    "duration": 3399,
    "start_time": "2022-12-01T01:35:22.386Z"
   },
   {
    "duration": 3480,
    "start_time": "2022-12-01T01:35:31.873Z"
   },
   {
    "duration": 8,
    "start_time": "2022-12-01T01:37:04.441Z"
   },
   {
    "duration": 8,
    "start_time": "2022-12-01T01:37:22.213Z"
   },
   {
    "duration": 8,
    "start_time": "2022-12-01T01:37:28.580Z"
   },
   {
    "duration": 10,
    "start_time": "2022-12-01T01:37:31.963Z"
   },
   {
    "duration": 10,
    "start_time": "2022-12-01T01:37:54.398Z"
   },
   {
    "duration": 8,
    "start_time": "2022-12-01T01:48:03.513Z"
   },
   {
    "duration": 2080,
    "start_time": "2022-12-01T01:49:54.025Z"
   },
   {
    "duration": 30997,
    "start_time": "2022-12-01T01:50:21.474Z"
   },
   {
    "duration": 3561,
    "start_time": "2022-12-01T01:50:53.334Z"
   },
   {
    "duration": 9,
    "start_time": "2022-12-01T01:52:23.286Z"
   },
   {
    "duration": 3574,
    "start_time": "2022-12-01T01:53:37.116Z"
   },
   {
    "duration": 45,
    "start_time": "2022-12-01T03:18:29.194Z"
   },
   {
    "duration": 422,
    "start_time": "2022-12-01T03:18:33.617Z"
   },
   {
    "duration": 130,
    "start_time": "2022-12-01T03:18:34.041Z"
   },
   {
    "duration": 11,
    "start_time": "2022-12-01T03:18:34.173Z"
   },
   {
    "duration": 14,
    "start_time": "2022-12-01T03:18:34.186Z"
   },
   {
    "duration": 22,
    "start_time": "2022-12-01T03:18:34.202Z"
   },
   {
    "duration": 754,
    "start_time": "2022-12-01T03:18:34.225Z"
   },
   {
    "duration": 374,
    "start_time": "2022-12-01T03:18:34.981Z"
   },
   {
    "duration": 299,
    "start_time": "2022-12-01T03:18:35.357Z"
   },
   {
    "duration": 298,
    "start_time": "2022-12-01T03:18:35.658Z"
   },
   {
    "duration": 94,
    "start_time": "2022-12-01T03:18:35.958Z"
   },
   {
    "duration": 506,
    "start_time": "2022-12-01T03:18:36.054Z"
   },
   {
    "duration": 3463,
    "start_time": "2022-12-01T03:18:36.562Z"
   },
   {
    "duration": 11,
    "start_time": "2022-12-01T03:18:40.027Z"
   },
   {
    "duration": 194,
    "start_time": "2022-12-01T03:18:40.042Z"
   },
   {
    "duration": 2,
    "start_time": "2022-12-01T03:18:40.238Z"
   },
   {
    "duration": 11,
    "start_time": "2022-12-01T03:18:40.242Z"
   },
   {
    "duration": 4,
    "start_time": "2022-12-01T03:18:40.254Z"
   },
   {
    "duration": 6,
    "start_time": "2022-12-01T03:18:40.260Z"
   },
   {
    "duration": 5,
    "start_time": "2022-12-01T03:18:40.268Z"
   },
   {
    "duration": 145,
    "start_time": "2022-12-01T03:18:40.274Z"
   },
   {
    "duration": 9735,
    "start_time": "2022-12-01T03:18:40.421Z"
   },
   {
    "duration": 4,
    "start_time": "2022-12-01T03:18:50.158Z"
   },
   {
    "duration": 46,
    "start_time": "2022-12-01T03:18:50.164Z"
   },
   {
    "duration": 11,
    "start_time": "2022-12-01T03:18:50.212Z"
   },
   {
    "duration": 32837,
    "start_time": "2022-12-01T03:18:50.225Z"
   },
   {
    "duration": 4,
    "start_time": "2022-12-01T03:19:23.065Z"
   },
   {
    "duration": 198,
    "start_time": "2022-12-01T03:19:23.070Z"
   },
   {
    "duration": 23431,
    "start_time": "2022-12-01T03:19:23.270Z"
   },
   {
    "duration": 5,
    "start_time": "2022-12-01T03:19:46.702Z"
   },
   {
    "duration": 313,
    "start_time": "2022-12-01T03:19:46.710Z"
   },
   {
    "duration": 2,
    "start_time": "2022-12-01T03:19:47.025Z"
   },
   {
    "duration": 95206,
    "start_time": "2022-12-01T03:19:47.036Z"
   },
   {
    "duration": 100,
    "start_time": "2022-12-01T03:21:22.334Z"
   },
   {
    "duration": 2399,
    "start_time": "2022-12-01T03:21:22.437Z"
   },
   {
    "duration": 3,
    "start_time": "2022-12-01T03:21:24.838Z"
   },
   {
    "duration": 4582,
    "start_time": "2022-12-01T03:21:24.843Z"
   },
   {
    "duration": 11,
    "start_time": "2022-12-01T03:21:29.427Z"
   },
   {
    "duration": 26,
    "start_time": "2022-12-01T03:21:29.440Z"
   },
   {
    "duration": 28,
    "start_time": "2022-12-01T03:21:29.468Z"
   },
   {
    "duration": 80639,
    "start_time": "2022-12-01T03:21:29.497Z"
   },
   {
    "duration": 95,
    "start_time": "2022-12-01T03:22:50.142Z"
   },
   {
    "duration": 13000,
    "start_time": "2022-12-01T03:22:50.239Z"
   },
   {
    "duration": 108,
    "start_time": "2022-12-01T03:23:03.242Z"
   },
   {
    "duration": 42758,
    "start_time": "2022-12-01T03:23:03.352Z"
   },
   {
    "duration": 6,
    "start_time": "2022-12-01T03:23:46.112Z"
   },
   {
    "duration": 4118,
    "start_time": "2022-12-01T03:23:46.120Z"
   },
   {
    "duration": 4,
    "start_time": "2022-12-01T03:23:50.240Z"
   },
   {
    "duration": 91,
    "start_time": "2022-12-01T03:23:50.245Z"
   },
   {
    "duration": 49,
    "start_time": "2022-12-01T03:24:30.620Z"
   }
  ],
  "kernelspec": {
   "display_name": "Python 3 (ipykernel)",
   "language": "python",
   "name": "python3"
  },
  "language_info": {
   "codemirror_mode": {
    "name": "ipython",
    "version": 3
   },
   "file_extension": ".py",
   "mimetype": "text/x-python",
   "name": "python",
   "nbconvert_exporter": "python",
   "pygments_lexer": "ipython3",
   "version": "3.11.3"
  },
  "toc": {
   "base_numbering": 1,
   "nav_menu": {},
   "number_sections": true,
   "sideBar": true,
   "skip_h1_title": true,
   "title_cell": "Table of Contents",
   "title_sidebar": "Contents",
   "toc_cell": false,
   "toc_position": {
    "height": "calc(100% - 180px)",
    "left": "10px",
    "top": "150px",
    "width": "356.594px"
   },
   "toc_section_display": true,
   "toc_window_display": false
  },
  "varInspector": {
   "cols": {
    "lenName": 16,
    "lenType": 16,
    "lenVar": 40
   },
   "kernels_config": {
    "python": {
     "delete_cmd_postfix": "",
     "delete_cmd_prefix": "del ",
     "library": "var_list.py",
     "varRefreshCmd": "print(var_dic_list())"
    },
    "r": {
     "delete_cmd_postfix": ") ",
     "delete_cmd_prefix": "rm(",
     "library": "var_list.r",
     "varRefreshCmd": "cat(var_dic_list()) "
    }
   },
   "types_to_exclude": [
    "module",
    "function",
    "builtin_function_or_method",
    "instance",
    "_Feature"
   ],
   "window_display": false
  }
 },
 "nbformat": 4,
 "nbformat_minor": 2
}
